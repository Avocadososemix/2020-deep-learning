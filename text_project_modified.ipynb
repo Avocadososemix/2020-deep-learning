{
 "cells": [
  {
   "cell_type": "markdown",
   "metadata": {},
   "source": [
    "# DATA20001 Deep Learning - Group Project\n",
    "## Text project\n",
    "\n",
    "**Due Thursday, May 20, before 23:59.**\n",
    "\n",
    "The task is to learn to assign the correct labels to news articles.  The corpus contains ~850K articles from Reuters.  The test set is about 10% of the articles. The data is unextracted in XML files.\n",
    "\n",
    "We're only giving you the code for downloading the data, and how to save the final model. The rest you'll have to do yourselves.\n",
    "\n",
    "Some comments and hints particular to the project:\n",
    "\n",
    "- One document may belong to many classes in this problem, i.e., it's a multi-label classification problem. In fact there are documents that don't belong to any class, and you should also be able to handle these correctly. Pay careful attention to how you design the outputs of the network (e.g., what activation to use) and what loss function should be used.\n",
    "- You may use word-embeddings to get better results. For example, you were already using a smaller version of the GloVE  embeddings in exercise 4. Do note that these embeddings take a lot of memory. \n",
    "- In the exercises we used e.g., `torchvision.datasets.MNIST` to handle the loading of the data in suitable batches. Here, you need to handle the dataloading yourself.  The easiest way is probably to create a custom `Dataset`. [See for example here for a tutorial](https://github.com/utkuozbulak/pytorch-custom-dataset-examples)."
   ]
  },
  {
   "cell_type": "markdown",
   "metadata": {},
   "source": [
    "## Get the data"
   ]
  },
  {
   "cell_type": "code",
   "execution_count": 130,
   "metadata": {},
   "outputs": [],
   "source": [
    "import sys\n",
    "import os\n",
    "from os.path import join\n",
    "from os.path import abspath\n",
    "from os.path import split\n",
    "\n",
    "import torch\n",
    "import torchvision\n",
    "from torchvision.datasets.utils import download_url\n",
    "import zipfile\n",
    "\n",
    "root_dir = os.getcwd()\n",
    "if root_dir not in sys.path:\n",
    "    sys.path.append(root_dir)\n",
    "    \n",
    "train_path = 'train'\n",
    "\n",
    "data_folder_name = 'text-training-corpus'\n",
    "DATA_FOLDER_DIR = os.path.abspath(os.path.join(root_dir, data_folder_name))\n",
    "\n",
    "data_zip_name = 'reuters-training-corpus.zip'\n",
    "DATA_ZIP_DIR = os.path.abspath(os.path.join(DATA_FOLDER_DIR, data_zip_name))\n",
    "\n",
    "#with zipfile.ZipFile(DATA_ZIP_DIR) as zip_f:\n",
    "#    zip_f.extractall(train_path)"
   ]
  },
  {
   "cell_type": "code",
   "execution_count": 131,
   "metadata": {},
   "outputs": [],
   "source": [
    "import torchnlp"
   ]
  },
  {
   "cell_type": "markdown",
   "metadata": {},
   "source": [
    "The above command downloads and extracts the data files into the `train` subdirectory.\n",
    "\n",
    "The files can be found in `train/`, and are named as `19970405.zip`, etc. You will have to manage the content of these zips to get the data. There is a readme which has links to further descriptions on the data.\n",
    "\n",
    "The class labels, or topics, can be found in the readme file called `train/codes.zip`.  The zip contains a file called \"topic_codes.txt\".  This file contains the special codes for the topics (about 130 of them), and the explanation - what each code means.  \n",
    "\n",
    "The XML document files contain the article's headline, the main body text, and the list of topic labels assigned to each article.  You will have to extract the topics of each article from the XML.  For example: \n",
    "&lt;code code=\"C18\"&gt; refers to the topic \"OWNERSHIP CHANGES\" (like a corporate buyout).\n",
    "\n",
    "You should pre-process the XML to extract the words from the article: the &lt;headline&gt; element and the &lt;text&gt;.  You should not need any other parts of the article."
   ]
  },
  {
   "cell_type": "markdown",
   "metadata": {},
   "source": [
    "## Your stuff goes here ..."
   ]
  },
  {
   "cell_type": "code",
   "execution_count": 143,
   "metadata": {},
   "outputs": [],
   "source": [
    "#pip install lxml\n",
    "from bs4 import BeautifulSoup as bs\n",
    "import re\n",
    "import pandas as pd\n",
    "import numpy as np\n",
    "import nltk\n",
    "import seaborn as sns\n",
    "import matplotlib.pyplot as plt \n",
    "from sklearn.model_selection import train_test_split\n",
    "from sklearn.preprocessing import MultiLabelBinarizer\n",
    "from sklearn.feature_extraction.text import TfidfVectorizer\n",
    "from torchnlp.encoders.text import StaticTokenizerEncoder,stack_and_pad_tensors, pad_tensor\n",
    "import pickle"
   ]
  },
  {
   "cell_type": "code",
   "execution_count": 4,
   "metadata": {},
   "outputs": [],
   "source": [
    "train_path = os.path.abspath(os.path.join(root_dir, train_path))\n",
    "reuters_unzipped_path = os.path.abspath(os.path.join(train_path, 'REUTERS_CORPUS_2'))\n",
    "\n",
    "zipped_news_files = os.listdir(os.path.abspath(reuters_unzipped_path))\n",
    "#del zipped_news_files[-3:] # remove files: codes.zip, dtds.zip, readme.txt\n",
    "#zipped_news_files"
   ]
  },
  {
   "cell_type": "markdown",
   "metadata": {},
   "source": [
    "Generating dataframe. Takes ~5min."
   ]
  },
  {
   "cell_type": "code",
   "execution_count": 91,
   "metadata": {},
   "outputs": [],
   "source": [
    "rows_list = []\n",
    "pattern = r'\"([A-Za-z0-9_\\./\\\\-]*)\"'\n",
    "\n",
    "for news_file in zipped_news_files:\n",
    "    zf = zipfile.ZipFile(os.path.abspath(os.path.join(reuters_unzipped_path, news_file)), 'r')\n",
    "    for name in zf.namelist():\n",
    "        dict1 = {} # saving into dicts which are then saved into a list which is then saved into the df.\n",
    "        f = zf.open(name).read()\n",
    "        soup = bs(f, \"lxml\")\n",
    "        \n",
    "        #title = soup.title.text\n",
    "        dict1[\"title\"] = soup.find(\"title\").text\n",
    "        #text = soup.find(\"text\")\n",
    "        dict1[\"text\"] = soup.find(\"text\").text\n",
    "        codes = []\n",
    "        metadata_codes = soup.find_all(\"code\")\n",
    "        \n",
    "        for val in metadata_codes:\n",
    "            m = re.search(pattern, str(val))\n",
    "            codes.append(m.group().replace('\"', ''))\n",
    "        dict1[\"codes\"] = codes\n",
    "        \n",
    "        rows_list.append(dict1)\n",
    "\n",
    "df = pd.DataFrame(rows_list, columns=['title', 'text', 'codes'])"
   ]
  },
  {
   "cell_type": "code",
   "execution_count": 92,
   "metadata": {},
   "outputs": [
    {
     "data": {
      "text/html": [
       "<div>\n",
       "<style scoped>\n",
       "    .dataframe tbody tr th:only-of-type {\n",
       "        vertical-align: middle;\n",
       "    }\n",
       "\n",
       "    .dataframe tbody tr th {\n",
       "        vertical-align: top;\n",
       "    }\n",
       "\n",
       "    .dataframe thead th {\n",
       "        text-align: right;\n",
       "    }\n",
       "</style>\n",
       "<table border=\"1\" class=\"dataframe\">\n",
       "  <thead>\n",
       "    <tr style=\"text-align: right;\">\n",
       "      <th></th>\n",
       "      <th>title</th>\n",
       "      <th>text</th>\n",
       "      <th>codes</th>\n",
       "    </tr>\n",
       "  </thead>\n",
       "  <tbody>\n",
       "    <tr>\n",
       "      <th>0</th>\n",
       "      <td>EU:  REUTER EC REPORT LONG-TERM DIARY FOR APR ...</td>\n",
       "      <td>\\n****\\nHIGHLIGHTS\\n****\\nAMSTERDAM - The Neth...</td>\n",
       "      <td>[EEC, G15, GCAT]</td>\n",
       "    </tr>\n",
       "    <tr>\n",
       "      <th>1</th>\n",
       "      <td>EU:  OFFICIAL JOURNAL CONTENTS - OJ L 85 OF MA...</td>\n",
       "      <td>\\n* Decision of the EEA Joint Committee No 55/...</td>\n",
       "      <td>[EEC, G15, GCAT]</td>\n",
       "    </tr>\n",
       "    <tr>\n",
       "      <th>2</th>\n",
       "      <td>CANADA: Toronto stocks end higher after volati...</td>\n",
       "      <td>\\nCHANGE\\t\\t\\t\\t    CHANGE\\nTSE\\t  5900.37    ...</td>\n",
       "      <td>[CANA, M11, MCAT]</td>\n",
       "    </tr>\n",
       "    <tr>\n",
       "      <th>3</th>\n",
       "      <td>CANADA: TSE says will not halt Bre-X on request.</td>\n",
       "      <td>\\nAfter a huge volume of trade in Bre-X Minera...</td>\n",
       "      <td>[CANA, I21000, C13, C14, C15, C152, CCAT, M11,...</td>\n",
       "    </tr>\n",
       "    <tr>\n",
       "      <th>4</th>\n",
       "      <td>CANADA: Suncor lowers Canada posted oil prices.</td>\n",
       "      <td>\\nSuncor Inc said it lowered the price it woul...</td>\n",
       "      <td>[CANA, M14, M143, MCAT]</td>\n",
       "    </tr>\n",
       "  </tbody>\n",
       "</table>\n",
       "</div>"
      ],
      "text/plain": [
       "                                               title  \\\n",
       "0  EU:  REUTER EC REPORT LONG-TERM DIARY FOR APR ...   \n",
       "1  EU:  OFFICIAL JOURNAL CONTENTS - OJ L 85 OF MA...   \n",
       "2  CANADA: Toronto stocks end higher after volati...   \n",
       "3   CANADA: TSE says will not halt Bre-X on request.   \n",
       "4    CANADA: Suncor lowers Canada posted oil prices.   \n",
       "\n",
       "                                                text  \\\n",
       "0  \\n****\\nHIGHLIGHTS\\n****\\nAMSTERDAM - The Neth...   \n",
       "1  \\n* Decision of the EEA Joint Committee No 55/...   \n",
       "2  \\nCHANGE\\t\\t\\t\\t    CHANGE\\nTSE\\t  5900.37    ...   \n",
       "3  \\nAfter a huge volume of trade in Bre-X Minera...   \n",
       "4  \\nSuncor Inc said it lowered the price it woul...   \n",
       "\n",
       "                                               codes  \n",
       "0                                   [EEC, G15, GCAT]  \n",
       "1                                   [EEC, G15, GCAT]  \n",
       "2                                  [CANA, M11, MCAT]  \n",
       "3  [CANA, I21000, C13, C14, C15, C152, CCAT, M11,...  \n",
       "4                            [CANA, M14, M143, MCAT]  "
      ]
     },
     "execution_count": 92,
     "metadata": {},
     "output_type": "execute_result"
    }
   ],
   "source": [
    "#Check out the dataframe\n",
    "df.head()"
   ]
  },
  {
   "cell_type": "code",
   "execution_count": 93,
   "metadata": {},
   "outputs": [
    {
     "data": {
      "text/plain": [
       "'\\n* Decision of the EEA Joint Committee No 55/96 of 28 October 1996 amending Protocol 31 to the EEA Agreement, on cooperation in specific fields outside the four freedoms\\nDecision of the EEA Joint Committee No 1/97 of 30 January 1997 amending Annex II (Technical regulations, standards, testing and certification) to the EEA Agreement\\nDecision of the EEA Joint Committee No 2/97 of 10 February 1997 amending Annex VI (Social security) to the EEA Agreement END OF DOCUMENT.\\n'"
      ]
     },
     "execution_count": 93,
     "metadata": {},
     "output_type": "execute_result"
    }
   ],
   "source": [
    "#inspect the text content\n",
    "df.loc[1][\"text\"]"
   ]
  },
  {
   "cell_type": "code",
   "execution_count": 115,
   "metadata": {},
   "outputs": [],
   "source": [
    "def display_Codes(df):\n",
    "    codes = df[\"codes\"].values  #Get the Codes from the dataframe\n",
    "    \n",
    "    #Convert the list of lists to a single list\n",
    "    code_list= []\n",
    "    for sublist in codes:\n",
    "        for item in sublist:\n",
    "            code_list.append(item)\n",
    "            \n",
    "    #Get unique codes from the list        \n",
    "    code_list_unique = np.array(code_list)\n",
    "    print(\"Unique number of codes: \", len(np.unique(code_list_unique)))\n",
    "    \n",
    "    \n",
    "    #Count the frequency of codes in the list\n",
    "    code_freq = nltk.FreqDist(code_list)\n",
    "    \n",
    "    code_freq_df = pd.DataFrame({'Code': list(code_freq.keys()), \n",
    "                              'Count': list(code_freq.values())})\n",
    "    \n",
    "    #Convert the count to a dataframe and plot codes with more than 50 counts\n",
    "    g = code_freq_df.nlargest(columns=\"Count\", n=50)\n",
    "    plt.figure(figsize=(12,15)) \n",
    "    ax = sns.barplot(data=g, x= \"Count\", y = \"Code\") \n",
    "    ax.set(ylabel = 'Count') \n",
    "    plt.show()"
   ]
  },
  {
   "cell_type": "code",
   "execution_count": 116,
   "metadata": {},
   "outputs": [
    {
     "name": "stdout",
     "output_type": "stream",
     "text": [
      "Unique number of codes:  470\n"
     ]
    },
    {
     "data": {
      "image/png": "[encoded data removed]",
      "text/plain": [
       "<Figure size 864x1080 with 1 Axes>"
      ]
     },
     "metadata": {
      "needs_background": "light"
     },
     "output_type": "display_data"
    }
   ],
   "source": [
    "display_Codes(df)"
   ]
  },
  {
   "cell_type": "code",
   "execution_count": 96,
   "metadata": {},
   "outputs": [],
   "source": [
    "def clean_text(text):\n",
    "    # remove backslash-apostrophe \n",
    "    text = re.sub(\"\\n'\", \"\", text) \n",
    "    # remove everything except alphabets \n",
    "    text = re.sub(\"[^a-zA-Z]\",\" \",text) \n",
    "    # remove whitespaces \n",
    "    text = ' '.join(text.split()) \n",
    "    # convert text to lowercase \n",
    "    text = text.lower() \n",
    "    \n",
    "    return text"
   ]
  },
  {
   "cell_type": "code",
   "execution_count": 97,
   "metadata": {},
   "outputs": [],
   "source": [
    "from nltk.corpus import stopwords\n",
    "stop_words = set(stopwords.words('english'))\n",
    "\n",
    "def remove_stopwords(text):\n",
    "    no_stopword_text = [w for w in text.split() if not w in stop_words]\n",
    "    return ' '.join(no_stopword_text)\n",
    "\n"
   ]
  },
  {
   "cell_type": "code",
   "execution_count": 99,
   "metadata": {},
   "outputs": [],
   "source": [
    "def implement_clean_text(df):\n",
    "    df['clean_text'] = df['text'].apply(lambda x: clean_text(x))\n",
    "    df['clean_text'] = df['clean_text'].apply(lambda x: remove_stopwords(x))\n",
    "    return df"
   ]
  },
  {
   "cell_type": "code",
   "execution_count": 100,
   "metadata": {},
   "outputs": [],
   "source": [
    "df = implement_clean_text(df)"
   ]
  },
  {
   "cell_type": "code",
   "execution_count": 101,
   "metadata": {},
   "outputs": [
    {
     "data": {
      "text/plain": [
       "'decision eea joint committee october amending protocol eea agreement cooperation specific fields outside four freedoms decision eea joint committee january amending annex ii technical regulations standards testing certification eea agreement decision eea joint committee february amending annex vi social security eea agreement end document'"
      ]
     },
     "execution_count": 101,
     "metadata": {},
     "output_type": "execute_result"
    }
   ],
   "source": [
    "#inspect column\n",
    "df.loc[1][\"clean_text\"]\n"
   ]
  },
  {
   "cell_type": "code",
   "execution_count": 230,
   "metadata": {},
   "outputs": [],
   "source": [
    "def create_encoder(data, input_column=\"clean_text\", output_column=\"codes\", X_encoder_filename = 'X_encoder.pickle', Y_encoder_filename='Y_encoder_pickle'):\n",
    "    \n",
    "    encoder = StaticTokenizerEncoder(data[input_column])\n",
    "    \n",
    "    multilabel_binarizer = MultiLabelBinarizer()\n",
    "    multilabel_binarizer.fit(data[output_column])\n",
    "    \n",
    "    with open(X_encoder_filename, 'wb') as handle:\n",
    "        pickle.dump(encoder, handle)\n",
    "    with open(Y_encoder_filename, 'wb') as handle:\n",
    "        pickle.dump(multilabel_binarizer, handle)\n",
    "    \n",
    "    return encoder, multilabel_binarizer"
   ]
  },
  {
   "cell_type": "code",
   "execution_count": 249,
   "metadata": {},
   "outputs": [],
   "source": [
    "def tokenize_data(data,X_encoder, Y_encoder,input_column=\"clean_text\", output_column=\"codes\"):\n",
    "    x_raw = [X_encoder.encode(x) for x in df[input_column]]\n",
    "    max_len = max([len(x) for x in x_raw])\n",
    "    x_raw = [pad_tensor(x, length=4395) for x in x_raw]\n",
    "    \n",
    "    y_raw = Y_encoder.transform(data[output_column])\n",
    "    \n",
    "    return x_raw, torch.from_numpy(y_raw)"
   ]
  },
  {
   "cell_type": "code",
   "execution_count": 250,
   "metadata": {},
   "outputs": [],
   "source": [
    "def load_encoder(X_encoder_filename = 'X_encoder.pickle', Y_encoder_filename='Y_encoder_pickle'):\n",
    "    with open (X_encoder_filename, 'rb') as handle:\n",
    "        X_encoder = pickle.load(handle)\n",
    "    \n",
    "    with open(Y_encoder_filename, 'rb') as handle:\n",
    "        Y_encoder = pickle.load(handle)\n",
    "    \n",
    "    return X_encoder, Y_encoder"
   ]
  },
  {
   "cell_type": "code",
   "execution_count": 251,
   "metadata": {},
   "outputs": [],
   "source": [
    "use_preexisting_x_encoder = False\n",
    "use_preexisting_y_encoder = False"
   ]
  },
  {
   "cell_type": "code",
   "execution_count": 252,
   "metadata": {},
   "outputs": [],
   "source": [
    "if (use_preexisting_x_encoder and use_preexisting_y_encoder):\n",
    "    x_encoder, y_encoder = load_encoder()\n",
    "else:\n",
    "    x_encoder, y_encoder = create_encoder(data=df)"
   ]
  },
  {
   "cell_type": "code",
   "execution_count": 253,
   "metadata": {},
   "outputs": [],
   "source": [
    "x_input, y_input = tokenize_data(df, x_encoder, y_encoder)"
   ]
  },
  {
   "cell_type": "code",
   "execution_count": 254,
   "metadata": {},
   "outputs": [
    {
     "data": {
      "text/plain": [
       "'torch.LongTensor'"
      ]
     },
     "execution_count": 254,
     "metadata": {},
     "output_type": "execute_result"
    }
   ],
   "source": [
    "x_input[0].type()"
   ]
  },
  {
   "cell_type": "code",
   "execution_count": 255,
   "metadata": {},
   "outputs": [
    {
     "data": {
      "text/plain": [
       "'torch.LongTensor'"
      ]
     },
     "execution_count": 255,
     "metadata": {},
     "output_type": "execute_result"
    }
   ],
   "source": [
    "y_input[0].type()"
   ]
  },
  {
   "cell_type": "code",
   "execution_count": 256,
   "metadata": {},
   "outputs": [],
   "source": []
  },
  {
   "cell_type": "code",
   "execution_count": 221,
   "metadata": {},
   "outputs": [],
   "source": []
  },
  {
   "cell_type": "markdown",
   "metadata": {},
   "source": [
    "## Save your model\n",
    "\n",
    "It might be useful to save your model if you want to continue your work later, or use it for inference later."
   ]
  },
  {
   "cell_type": "code",
   "execution_count": null,
   "metadata": {},
   "outputs": [],
   "source": [
    "torch.save(model.state_dict(), 'model.pkl')"
   ]
  },
  {
   "cell_type": "markdown",
   "metadata": {},
   "source": [
    "The model file should now be visible in the \"Home\" screen of the jupyter notebooks interface.  There you should be able to select it and press \"download\".\n",
    "\n",
    "## Download test set\n",
    "\n",
    "The testset will be made available during the last week before the deadline and can be downloaded in the same way as the training set.\n",
    "\n",
    "## Predict for test set\n",
    "\n",
    "You will be asked to return your predictions a separate test set.  These should be returned as a matrix with one row for each test article.  Each row contains a binary prediction for each label, 1 if it's present in the image, and 0 if not. The order of the labels is the order of the label (topic) codes.\n",
    "\n",
    "An example row could like like this if your system predicts the presense of the second and fourth topic:\n",
    "\n",
    "    0 1 0 1 0 0 0 0 0 0 0 0 0 0 ...\n",
    "    \n",
    "If you have the matrix prepared in `y` you can use the following function to save it to a text file."
   ]
  },
  {
   "cell_type": "code",
   "execution_count": null,
   "metadata": {},
   "outputs": [],
   "source": [
    "np.savetxt('results.txt', y, fmt='%d')"
   ]
  }
 ],
 "metadata": {
  "kernelspec": {
   "display_name": "Python 3",
   "language": "python",
   "name": "python3"
  },
  "language_info": {
   "codemirror_mode": {
    "name": "ipython",
    "version": 3
   },
   "file_extension": ".py",
   "mimetype": "text/x-python",
   "name": "python",
   "nbconvert_exporter": "python",
   "pygments_lexer": "ipython3",
   "version": "3.6.9"
  }
 },
 "nbformat": 4,
 "nbformat_minor": 2
}
