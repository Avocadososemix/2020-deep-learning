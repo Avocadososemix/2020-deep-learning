{
 "cells": [
  {
   "cell_type": "markdown",
   "metadata": {},
   "source": [
    "# DATA20001 Deep Learning - Group Project\n",
    "## Text project\n",
    "\n",
    "**Due Thursday, May 20, before 23:59.**\n",
    "\n",
    "The task is to learn to assign the correct labels to news articles.  The corpus contains ~850K articles from Reuters.  The test set is about 10% of the articles. The data is unextracted in XML files.\n",
    "\n",
    "We're only giving you the code for downloading the data, and how to save the final model. The rest you'll have to do yourselves.\n",
    "\n",
    "Some comments and hints particular to the project:\n",
    "\n",
    "- One document may belong to many classes in this problem, i.e., it's a multi-label classification problem. In fact there are documents that don't belong to any class, and you should also be able to handle these correctly. Pay careful attention to how you design the outputs of the network (e.g., what activation to use) and what loss function should be used.\n",
    "- You may use word-embeddings to get better results. For example, you were already using a smaller version of the GloVE  embeddings in exercise 4. Do note that these embeddings take a lot of memory. \n",
    "- In the exercises we used e.g., `torchvision.datasets.MNIST` to handle the loading of the data in suitable batches. Here, you need to handle the dataloading yourself.  The easiest way is probably to create a custom `Dataset`. [See for example here for a tutorial](https://github.com/utkuozbulak/pytorch-custom-dataset-examples)."
   ]
  },
  {
   "cell_type": "markdown",
   "metadata": {},
   "source": [
    "## Get the data"
   ]
  },
  {
   "cell_type": "code",
   "execution_count": 1,
   "metadata": {},
   "outputs": [],
   "source": [
    "import sys\n",
    "import os\n",
    "from os.path import join\n",
    "from os.path import abspath\n",
    "from os.path import split\n",
    "\n",
    "import torch\n",
    "import torch.nn as nn\n",
    "import torch.nn.functional as F\n",
    "import torchvision\n",
    "from torchvision.datasets.utils import download_url\n",
    "\n",
    "from nltk.stem import WordNetLemmatizer\n",
    "from nltk.corpus import stopwords\n",
    "from torch.utils.data import Dataset, DataLoader\n",
    "from sklearn.model_selection  import train_test_split\n",
    "import zipfile\n",
    "\n",
    "root_dir = os.getcwd()\n",
    "if root_dir not in sys.path:\n",
    "    sys.path.append(root_dir)\n",
    "    \n",
    "train_path = 'train'\n",
    "\n",
    "data_folder_name = 'text-training-corpus'\n",
    "DATA_FOLDER_DIR = os.path.abspath(os.path.join(root_dir, data_folder_name))\n",
    "\n",
    "data_zip_name = 'reuters-training-corpus.zip'\n",
    "DATA_ZIP_DIR = os.path.abspath(os.path.join(DATA_FOLDER_DIR, data_zip_name))\n",
    "\n",
    "#with zipfile.ZipFile(DATA_ZIP_DIR) as zip_f:\n",
    "#    zip_f.extractall(train_path)"
   ]
  },
  {
   "cell_type": "code",
   "execution_count": 2,
   "metadata": {},
   "outputs": [],
   "source": [
    "#pip install pytorch-nlp\n",
    "#pip install lxml"
   ]
  },
  {
   "cell_type": "markdown",
   "metadata": {},
   "source": [
    "The above command downloads and extracts the data files into the `train` subdirectory.\n",
    "\n",
    "The files can be found in `train/`, and are named as `19970405.zip`, etc. You will have to manage the content of these zips to get the data. There is a readme which has links to further descriptions on the data.\n",
    "\n",
    "The class labels, or topics, can be found in the readme file called `train/codes.zip`.  The zip contains a file called \"topic_codes.txt\".  This file contains the special codes for the topics (about 130 of them), and the explanation - what each code means.  \n",
    "\n",
    "The XML document files contain the article's headline, the main body text, and the list of topic labels assigned to each article.  You will have to extract the topics of each article from the XML.  For example: \n",
    "&lt;code code=\"C18\"&gt; refers to the topic \"OWNERSHIP CHANGES\" (like a corporate buyout).\n",
    "\n",
    "You should pre-process the XML to extract the words from the article: the &lt;headline&gt; element and the &lt;text&gt;.  You should not need any other parts of the article."
   ]
  },
  {
   "cell_type": "markdown",
   "metadata": {},
   "source": [
    "## Your stuff goes here ..."
   ]
  },
  {
   "cell_type": "code",
   "execution_count": 3,
   "metadata": {},
   "outputs": [],
   "source": [
    "from bs4 import BeautifulSoup as bs\n",
    "import re\n",
    "import pandas as pd\n",
    "import numpy as np\n",
    "import nltk\n",
    "import seaborn as sns\n",
    "import matplotlib.pyplot as plt \n",
    "from sklearn.model_selection import train_test_split\n",
    "from sklearn.preprocessing import MultiLabelBinarizer\n",
    "from sklearn.feature_extraction.text import TfidfVectorizer\n",
    "from torchnlp.encoders.text import StaticTokenizerEncoder,stack_and_pad_tensors, pad_tensor\n",
    "import pickle"
   ]
  },
  {
   "cell_type": "code",
   "execution_count": 4,
   "metadata": {},
   "outputs": [],
   "source": [
    "train_path = os.path.abspath(os.path.join(root_dir, train_path))\n",
    "reuters_unzipped_path = os.path.abspath(os.path.join(train_path, 'REUTERS_CORPUS_2'))\n",
    "\n",
    "zipped_news_files = os.listdir(os.path.abspath(reuters_unzipped_path))\n",
    "del zipped_news_files[-3:] # remove files: codes.zip, dtds.zip, readme.txt\n",
    "#zipped_news_files"
   ]
  },
  {
   "cell_type": "markdown",
   "metadata": {},
   "source": [
    "Generating dataframe. Takes ~5min."
   ]
  },
  {
   "cell_type": "code",
   "execution_count": 5,
   "metadata": {},
   "outputs": [],
   "source": [
    "text_project_path = 'text-project'\n",
    "topic_codes = 'topic_codes.txt'\n",
    "\n",
    "DATA_FOLDER_DIR = os.path.abspath(os.path.join(root_dir, text_project_path))\n",
    "\n",
    "topic_codes_location = os.path.abspath(os.path.join(DATA_FOLDER_DIR, topic_codes))\n",
    "\n",
    "# from get_data.py\n",
    "def get_codes(codefile):\n",
    "    codes = {}\n",
    "    i = 0\n",
    "    with open(codefile, 'r') as cf:\n",
    "        for line in cf:\n",
    "            if not line.startswith(';'):\n",
    "                code = line.strip().split('\\t')[0]\n",
    "                codes[code] = i\n",
    "                i += 1\n",
    "    return codes\n",
    "\n",
    "CODEMAP = get_codes(topic_codes_location)\n",
    "CODEMAP_list = (list(CODEMAP.keys()))"
   ]
  },
  {
   "cell_type": "code",
   "execution_count": 6,
   "metadata": {},
   "outputs": [
    {
     "name": "stdout",
     "output_type": "stream",
     "text": [
      "CPU times: user 14.7 s, sys: 50.2 ms, total: 14.7 s\n",
      "Wall time: 14.8 s\n"
     ]
    }
   ],
   "source": [
    "%%time\n",
    "\n",
    "rows_list = []\n",
    "pattern = r'\"([A-Za-z0-9_\\./\\\\-]*)\"'\n",
    "\n",
    "for news_file in zipped_news_files:\n",
    "    zf = zipfile.ZipFile(os.path.abspath(os.path.join(reuters_unzipped_path, news_file)), 'r')\n",
    "    for name in zf.namelist():\n",
    "        dict1 = {} # saving into dicts which are then saved into a list which is then saved into the df.\n",
    "        f = zf.open(name).read()\n",
    "        soup = bs(f, \"lxml\")\n",
    "        \n",
    "        #title = soup.title.text\n",
    "        dict1[\"title\"] = soup.title.text\n",
    "        dict1[\"text\"] = soup.find(\"text\").text\n",
    "        codes = []\n",
    "        metadata_codes = soup.metadata.find_all(\"code\")\n",
    "        \n",
    "        for val in metadata_codes:\n",
    "            m = re.search(pattern, str(val))\n",
    "            codes.append(m.group().replace('\"', ''))\n",
    "        \n",
    "        dict1[\"codes\"] = [value for value in codes if value in CODEMAP_list] # remove unnecessary codes\n",
    "        \n",
    "        rows_list.append(dict1)\n",
    "    break # remove break for full dataframe\n",
    "df = pd.DataFrame(rows_list, columns=['title', 'text', 'codes'])"
   ]
  },
  {
   "cell_type": "code",
   "execution_count": 7,
   "metadata": {},
   "outputs": [
    {
     "data": {
      "text/html": [
       "<div>\n",
       "<style scoped>\n",
       "    .dataframe tbody tr th:only-of-type {\n",
       "        vertical-align: middle;\n",
       "    }\n",
       "\n",
       "    .dataframe tbody tr th {\n",
       "        vertical-align: top;\n",
       "    }\n",
       "\n",
       "    .dataframe thead th {\n",
       "        text-align: right;\n",
       "    }\n",
       "</style>\n",
       "<table border=\"1\" class=\"dataframe\">\n",
       "  <thead>\n",
       "    <tr style=\"text-align: right;\">\n",
       "      <th></th>\n",
       "      <th>title</th>\n",
       "      <th>text</th>\n",
       "      <th>codes</th>\n",
       "    </tr>\n",
       "  </thead>\n",
       "  <tbody>\n",
       "    <tr>\n",
       "      <th>0</th>\n",
       "      <td>USA: Philip Morris head says open to \"reasonab...</td>\n",
       "      <td>\\nPhilip Morris Cos. Inc. Chief Executive Geof...</td>\n",
       "      <td>[C12, CCAT, GCAT, GCRIM]</td>\n",
       "    </tr>\n",
       "    <tr>\n",
       "      <th>1</th>\n",
       "      <td>USA: Reynolds says smokers spurned low tar cig...</td>\n",
       "      <td>\\nThe chief of development at R.J. Reynolds To...</td>\n",
       "      <td>[C12, CCAT, GCAT, GCRIM]</td>\n",
       "    </tr>\n",
       "    <tr>\n",
       "      <th>2</th>\n",
       "      <td>USA: Bill introduced to cut U.S. tobacco subsi...</td>\n",
       "      <td>\\nA bipartisan bill to cut federal subsidies f...</td>\n",
       "      <td>[C13, C17, CCAT]</td>\n",
       "    </tr>\n",
       "    <tr>\n",
       "      <th>3</th>\n",
       "      <td>EU:  OFFICIAL JOURNAL CONTENTS - OJ L 105 OF A...</td>\n",
       "      <td>\\n*\\nDecision No 710/97/EC of the European Par...</td>\n",
       "      <td>[G15, GCAT]</td>\n",
       "    </tr>\n",
       "    <tr>\n",
       "      <th>4</th>\n",
       "      <td>EU:  OFFICIAL JOURNAL CONTENTS - OJ C 127 OF A...</td>\n",
       "      <td>\\n*\\n(Note - contents are displayed in reverse...</td>\n",
       "      <td>[G15, GCAT]</td>\n",
       "    </tr>\n",
       "  </tbody>\n",
       "</table>\n",
       "</div>"
      ],
      "text/plain": [
       "                                               title  \\\n",
       "0  USA: Philip Morris head says open to \"reasonab...   \n",
       "1  USA: Reynolds says smokers spurned low tar cig...   \n",
       "2  USA: Bill introduced to cut U.S. tobacco subsi...   \n",
       "3  EU:  OFFICIAL JOURNAL CONTENTS - OJ L 105 OF A...   \n",
       "4  EU:  OFFICIAL JOURNAL CONTENTS - OJ C 127 OF A...   \n",
       "\n",
       "                                                text                     codes  \n",
       "0  \\nPhilip Morris Cos. Inc. Chief Executive Geof...  [C12, CCAT, GCAT, GCRIM]  \n",
       "1  \\nThe chief of development at R.J. Reynolds To...  [C12, CCAT, GCAT, GCRIM]  \n",
       "2  \\nA bipartisan bill to cut federal subsidies f...          [C13, C17, CCAT]  \n",
       "3  \\n*\\nDecision No 710/97/EC of the European Par...               [G15, GCAT]  \n",
       "4  \\n*\\n(Note - contents are displayed in reverse...               [G15, GCAT]  "
      ]
     },
     "execution_count": 7,
     "metadata": {},
     "output_type": "execute_result"
    }
   ],
   "source": [
    "#Check out the dataframe\n",
    "df.head()"
   ]
  },
  {
   "cell_type": "code",
   "execution_count": 8,
   "metadata": {},
   "outputs": [
    {
     "data": {
      "text/plain": [
       "'\\nThe chief of development at R.J. Reynolds Tobacco Co. told a court hearing a wrongful death suit Thursday that smokers had spurned cigarettes with a lower tar and nicotine content.\\nDavid Townsend, the first defence witness and director of product development and assessment for Reynolds, said the company had made \"extraordinary efforts\" to reduce tar, nicotine and other elements deemed harmful to health by medical experts.\\nIt had introduced filters, extracted elements and tried different ways of ventilating cigarettes.\\nConsumers rejected the cigarettes as they did not taste good, he said.\\nOver 1992 and 1993, Reynolds developed a cigarette called Premier in what he called the most intense project it had ever undertaken. When it was test-marketed , it was a resounding failure, Townsend said.\\nThe company was currently test-marketing in Tennessee another product called Eclipse which he called the \"most advanced cigarette design\" he had seen.\\nIn the case, plaintiff Dana Raulerson is suing Reynolds on behalf of the estate and children of Jean Connor, her sister, who died of lung cancer at age 49.\\nEarlier Thursday, Circuit Judge Bernard Nachman dismissed one juror from the panel, leaving no alternates.\\nThe juror, Sandra Grant, told Reuters as she rushed from the courthouse that her mother-in-law was dying. She said she had asked Nachman if she could be off on Friday and Monday but he did not want to hold up the trial and excused her.\\nR.J. Reynolds is a unit of RJR Nabisco Holdings Corp.\\n'"
      ]
     },
     "execution_count": 8,
     "metadata": {},
     "output_type": "execute_result"
    }
   ],
   "source": [
    "#inspect the text content\n",
    "df.loc[1][\"text\"]"
   ]
  },
  {
   "cell_type": "code",
   "execution_count": 9,
   "metadata": {},
   "outputs": [],
   "source": [
    "def display_Codes(df):\n",
    "    codes = df[\"codes\"].values  #Get the Codes from the dataframe\n",
    "    \n",
    "    #Convert the list of lists to a single list\n",
    "    code_list= []\n",
    "    for sublist in codes:\n",
    "        for item in sublist:\n",
    "            code_list.append(item)\n",
    "            \n",
    "    #Get unique codes from the list        \n",
    "    code_list_unique = np.array(code_list)\n",
    "    print(\"Unique number of codes: \", len(np.unique(code_list_unique)))\n",
    "    \n",
    "    \n",
    "    #Count the frequency of codes in the list\n",
    "    code_freq = nltk.FreqDist(code_list)\n",
    "    \n",
    "    code_freq_df = pd.DataFrame({'Code': list(code_freq.keys()), \n",
    "                              'Count': list(code_freq.values())})\n",
    "    \n",
    "    #Convert the count to a dataframe and plot codes with more than 50 counts\n",
    "    g = code_freq_df.nlargest(columns=\"Count\", n=50)\n",
    "    plt.figure(figsize=(12,15)) \n",
    "    ax = sns.barplot(data=g, x= \"Count\", y = \"Code\") \n",
    "    ax.set(ylabel = 'Count') \n",
    "    plt.show()"
   ]
  },
  {
   "cell_type": "code",
   "execution_count": 10,
   "metadata": {},
   "outputs": [
    {
     "name": "stdout",
     "output_type": "stream",
     "text": [
      "Unique number of codes:  95\n"
     ]
    },
    {
     "data": {
      "image/png": "[encoded data removed]",
      "text/plain": [
       "<Figure size 864x1080 with 1 Axes>"
      ]
     },
     "metadata": {
      "needs_background": "light"
     },
     "output_type": "display_data"
    }
   ],
   "source": [
    "display_Codes(df)"
   ]
  },
  {
   "cell_type": "code",
   "execution_count": 11,
   "metadata": {},
   "outputs": [],
   "source": [
    "def clean_text(text):\n",
    "    # remove backslash-apostrophe \n",
    "    text = re.sub(\"\\n'\", \"\", text) \n",
    "    # remove everything except alphabets \n",
    "    text = re.sub(\"[^a-zA-Z]\",\" \",text) \n",
    "    # remove whitespaces \n",
    "    text = ' '.join(text.split()) \n",
    "    # convert text to lowercase \n",
    "    text = text.lower() \n",
    "    \n",
    "    return text"
   ]
  },
  {
   "cell_type": "code",
   "execution_count": 12,
   "metadata": {},
   "outputs": [],
   "source": [
    "from nltk.corpus import stopwords\n",
    "stop_words = set(stopwords.words('english'))\n",
    "\n",
    "def remove_stopwords(text):\n",
    "    no_stopword_text = [w for w in text.split() if not w in stop_words]\n",
    "    return ' '.join(no_stopword_text)\n",
    "\n"
   ]
  },
  {
   "cell_type": "code",
   "execution_count": 13,
   "metadata": {},
   "outputs": [],
   "source": [
    "lemmatizer = WordNetLemmatizer() \n",
    "\n",
    "def lemmatize(words):\n",
    "    lemmatized_text = [lemmatizer.lemmatize(t, pos='n') for t in words] # lemmatized nouns\n",
    "    return ''.join(lemmatized_text)"
   ]
  },
  {
   "cell_type": "code",
   "execution_count": 14,
   "metadata": {},
   "outputs": [],
   "source": [
    "def implement_clean_text(df):\n",
    "    df['clean_text'] = df['text'].apply(lambda x: clean_text(x))\n",
    "    df['clean_text'] = df['clean_text'].apply(lambda x: remove_stopwords(x))\n",
    "    df['clean_text'] = df['clean_text'].apply(lambda x: lemmatize(x))\n",
    "    return df"
   ]
  },
  {
   "cell_type": "code",
   "execution_count": 15,
   "metadata": {},
   "outputs": [],
   "source": [
    "df = implement_clean_text(df)"
   ]
  },
  {
   "cell_type": "code",
   "execution_count": 16,
   "metadata": {},
   "outputs": [
    {
     "data": {
      "text/plain": [
       "'chief development r j reynolds tobacco co told court hearing wrongful death suit thursday smokers spurned cigarettes lower tar nicotine content david townsend first defence witness director product development assessment reynolds said company made extraordinary efforts reduce tar nicotine elements deemed harmful health medical experts introduced filters extracted elements tried different ways ventilating cigarettes consumers rejected cigarettes taste good said reynolds developed cigarette called premier called intense project ever undertaken test marketed resounding failure townsend said company currently test marketing tennessee another product called eclipse called advanced cigarette design seen case plaintiff dana raulerson suing reynolds behalf estate children jean connor sister died lung cancer age earlier thursday circuit judge bernard nachman dismissed one juror panel leaving alternates juror sandra grant told reuters rushed courthouse mother law dying said asked nachman could friday monday want hold trial excused r j reynolds unit rjr nabisco holdings corp'"
      ]
     },
     "execution_count": 16,
     "metadata": {},
     "output_type": "execute_result"
    }
   ],
   "source": [
    "#inspect column\n",
    "df.loc[1][\"clean_text\"]\n"
   ]
  },
  {
   "cell_type": "code",
   "execution_count": 17,
   "metadata": {},
   "outputs": [],
   "source": [
    "def create_encoder(data, input_column=\"clean_text\", output_column=\"codes\", X_encoder_filename = 'X_encoder.pickle', Y_encoder_filename='Y_encoder.pickle'):\n",
    "    \n",
    "    encoder = StaticTokenizerEncoder(data[input_column])\n",
    "    \n",
    "    multilabel_binarizer = MultiLabelBinarizer()\n",
    "    multilabel_binarizer.fit(data[output_column])\n",
    "    \n",
    "    with open(X_encoder_filename, 'wb') as handle:\n",
    "        pickle.dump(encoder, handle)\n",
    "    with open(Y_encoder_filename, 'wb') as handle:\n",
    "        pickle.dump(multilabel_binarizer, handle)\n",
    "    \n",
    "    return encoder, multilabel_binarizer"
   ]
  },
  {
   "cell_type": "code",
   "execution_count": 18,
   "metadata": {},
   "outputs": [],
   "source": [
    "def tokenize_data(data,X_encoder, Y_encoder,input_column=\"clean_text\", output_column=\"codes\"):\n",
    "    x_raw = [X_encoder.encode(x) for x in df[input_column]]\n",
    "    max_len = max([len(x) for x in x_raw])\n",
    "    x_raw = [np.array([pad_tensor(x, length=max_len).numpy()]) for x in x_raw]\n",
    "    \n",
    "    y_raw = Y_encoder.transform(data[output_column])\n",
    "    \n",
    "    return x_raw, y_raw"
   ]
  },
  {
   "cell_type": "code",
   "execution_count": 19,
   "metadata": {},
   "outputs": [],
   "source": [
    "def load_encoder(X_encoder_filename = 'X_encoder.pickle', Y_encoder_filename='Y_encoder.pickle'):\n",
    "    with open (X_encoder_filename, 'rb') as handle:\n",
    "        X_encoder = pickle.load(handle)\n",
    "    \n",
    "    with open(Y_encoder_filename, 'rb') as handle:\n",
    "        Y_encoder = pickle.load(handle)\n",
    "    \n",
    "    return X_encoder, Y_encoder"
   ]
  },
  {
   "cell_type": "code",
   "execution_count": 20,
   "metadata": {},
   "outputs": [],
   "source": [
    "use_preexisting_x_encoder = False\n",
    "use_preexisting_y_encoder = False"
   ]
  },
  {
   "cell_type": "code",
   "execution_count": 21,
   "metadata": {},
   "outputs": [],
   "source": [
    "if (use_preexisting_x_encoder and use_preexisting_y_encoder):\n",
    "    x_encoder, y_encoder = load_encoder()\n",
    "else:\n",
    "    x_encoder, y_encoder = create_encoder(data=df)"
   ]
  },
  {
   "cell_type": "code",
   "execution_count": 50,
   "metadata": {},
   "outputs": [],
   "source": [
    "x_input, y_input = tokenize_data(df, x_encoder, y_encoder)"
   ]
  },
  {
   "cell_type": "code",
   "execution_count": 51,
   "metadata": {},
   "outputs": [],
   "source": [
    "X_train,X_valid, y_train, y_valid = train_test_split(x_input, y_input, test_size=0.2) "
   ]
  },
  {
   "cell_type": "code",
   "execution_count": 52,
   "metadata": {},
   "outputs": [],
   "source": [
    "class createDataset(Dataset):\n",
    "    def __init__(self, X,Y):\n",
    "        self.X = X\n",
    "        self.y=Y\n",
    "        \n",
    "    def __len__(self):\n",
    "        return len(self.y)\n",
    "    \n",
    "    def __getitem__(self, idx):\n",
    "        return  torch.from_numpy(self.X[idx][0]).long(), torch.from_numpy(self.y[idx]).long()"
   ]
  },
  {
   "cell_type": "code",
   "execution_count": 53,
   "metadata": {},
   "outputs": [],
   "source": [
    "train_ds = createDataset(X_train,y_train)\n",
    "valid_ds = createDataset(X_valid, y_valid)"
   ]
  },
  {
   "cell_type": "code",
   "execution_count": 54,
   "metadata": {},
   "outputs": [],
   "source": [
    "train_loader = DataLoader(train_ds, batch_size = 100)\n",
    "valid_loader = DataLoader(valid_ds, batch_size=100)"
   ]
  },
  {
   "cell_type": "code",
   "execution_count": 55,
   "metadata": {},
   "outputs": [
    {
     "name": "stdout",
     "output_type": "stream",
     "text": [
      "X_train: torch.Size([100, 3812]) type: torch.LongTensor\n",
      "y_train: torch.Size([100, 95]) type: torch.LongTensor\n"
     ]
    }
   ],
   "source": [
    "for (X_train, y_train) in train_loader:\n",
    "    print('X_train:', X_train.size(), 'type:', X_train.type())\n",
    "    print('y_train:', y_train.size(), 'type:', y_train.type())\n",
    "    break"
   ]
  },
  {
   "cell_type": "code",
   "execution_count": 56,
   "metadata": {},
   "outputs": [
    {
     "name": "stdout",
     "output_type": "stream",
     "text": [
      "Using CPU\n"
     ]
    }
   ],
   "source": [
    "if torch.cuda.is_available():\n",
    "    print('Using GPU!')\n",
    "    device = torch.device('cuda')\n",
    "else:\n",
    "    print('Using CPU')\n",
    "    device = torch.device('cpu')"
   ]
  },
  {
   "cell_type": "code",
   "execution_count": 57,
   "metadata": {},
   "outputs": [],
   "source": [
    "class LSTM_Model(nn.Module):\n",
    "    def __init__(self, vocab_size, embedding_dim, hidden_dim,output_size):\n",
    "        super().__init__()\n",
    "        \n",
    "        self.embeddings = nn.Embedding(vocab_size, embedding_dim,padding_idx=0)\n",
    "        self.lstm = nn.LSTM(embedding_dim,hidden_dim,batch_first=True)\n",
    "        self.linear = nn.Linear(hidden_dim,output_size)\n",
    "    \n",
    "    def forward(self,x):\n",
    "        x= self.embeddings(x)\n",
    "        lstm_output, (ht,states) = self.lstm(x)\n",
    "        output = torch.sigmoid(self.linear(ht[-1]))\n",
    "        return output"
   ]
  },
  {
   "cell_type": "code",
   "execution_count": 78,
   "metadata": {},
   "outputs": [],
   "source": [
    "encoder = x_encoder\n",
    "\n",
    "model = LSTM_Model(encoder.vocab_size,20,20,y_input[0].shape[0])\n",
    "optimizer = torch.optim.SGD(model.parameters(), lr=0.01,momentum=0.5)\n",
    "criterion = nn.MultiLabelSoftMarginLoss() # not cross-entropy, we should talk about this in the report"
   ]
  },
  {
   "cell_type": "code",
   "execution_count": 79,
   "metadata": {},
   "outputs": [
    {
     "name": "stdout",
     "output_type": "stream",
     "text": [
      "LSTM_Model(\n",
      "  (embeddings): Embedding(29198, 20, padding_idx=0)\n",
      "  (lstm): LSTM(20, 20, batch_first=True)\n",
      "  (linear): Linear(in_features=20, out_features=95, bias=True)\n",
      ")\n"
     ]
    }
   ],
   "source": [
    "print(model)"
   ]
  },
  {
   "cell_type": "code",
   "execution_count": 85,
   "metadata": {},
   "outputs": [],
   "source": [
    "def train(epoch,log_interval=5):\n",
    "    model.train()\n",
    "    for batch_idx, (data, target) in enumerate(train_loader):\n",
    "        #print(batch_idx)\n",
    "        data= data.to(device)\n",
    "        target = target.to(device)\n",
    "        target= target.float()\n",
    "        data = data.long()\n",
    "        optimizer.zero_grad()\n",
    "        output = model(data)\n",
    "        loss = criterion(output, target)\n",
    "        #print(loss.data.item())\n",
    "        loss.backward()\n",
    "        \n",
    "        optimizer.step()     \n",
    "        \n",
    "        if batch_idx % log_interval == 0:\n",
    "            print('Train Epoch: {} [{}/{} ({:.0f}%)]\\tLoss: {:.6f}'.format(\n",
    "                epoch, batch_idx * len(data), len(train_loader.dataset),\n",
    "                100. * batch_idx / len(train_loader), loss.data.item()))"
   ]
  },
  {
   "cell_type": "code",
   "execution_count": 96,
   "metadata": {},
   "outputs": [],
   "source": [
    "def validate(loss_vector, accuracy_vector):\n",
    "    model.eval()\n",
    "    accuracy_metric = []\n",
    "    val_loss, correct = 0, 0\n",
    "    for data, target in valid_loader:\n",
    "        data = data.to(device)\n",
    "        target = target.to(device)\n",
    "        #print(target[0])\n",
    "        target= target.float()\n",
    "        data = data.long()\n",
    "        output = model(data)\n",
    "        #print(output.data[0])\n",
    "        val_loss += criterion(output, target).data.item()\n",
    "        \n",
    "        acc = torch.abs(output - target).view(-1)\n",
    "        #print(acc)\n",
    "        acc = (1. - acc.sum() / acc.size()[0]) * 100.\n",
    "        #print(acc)\n",
    "        accuracy_metric.append(acc)\n",
    "        #break\n",
    "        #pred = output.data.max(1)[1] # get the index of the max log-probability\n",
    "        #correct += pred.eq(target.data).cpu().sum()\n",
    "\n",
    "    #val_loss /= len(valid_loader)\n",
    "    #loss_vector.append(val_loss)\n",
    "    \n",
    "            \n",
    "        \n",
    "        \n",
    "    accuracy = np.sum(accuracy_metric) / len(valid_loader.dataset)\n",
    "    \n",
    "    accuracy_vector.append(accuracy)\n",
    "    \n",
    "    print('\\nAccuracy: {}/{} ({:.0f}%)\\n'.format(accuracy))"
   ]
  },
  {
   "cell_type": "code",
   "execution_count": 97,
   "metadata": {},
   "outputs": [
    {
     "name": "stdout",
     "output_type": "stream",
     "text": [
      "tensor([0, 0, 0, 0, 0, 0, 0, 0, 0, 0, 0, 0, 0, 0, 0, 0, 0, 0, 0, 0, 0, 0, 0, 0,\n",
      "        0, 0, 0, 0, 0, 0, 0, 0, 0, 0, 0, 0, 0, 0, 0, 0, 0, 0, 0, 0, 0, 0, 0, 0,\n",
      "        0, 0, 0, 0, 0, 0, 0, 0, 0, 0, 0, 0, 0, 0, 0, 0, 0, 1, 0, 0, 1, 0, 0, 0,\n",
      "        0, 0, 0, 0, 0, 0, 0, 0, 0, 0, 0, 0, 0, 0, 0, 0, 0, 0, 0, 0, 0, 0, 0])\n",
      "tensor([0.5020, 0.4368, 0.4605, 0.5546, 0.4882, 0.5257, 0.4411, 0.4595, 0.5129,\n",
      "        0.5151, 0.4685, 0.5028, 0.5333, 0.5186, 0.5271, 0.5534, 0.4846, 0.4720,\n",
      "        0.4594, 0.5452, 0.5017, 0.5241, 0.5039, 0.4859, 0.5222, 0.5017, 0.4725,\n",
      "        0.5266, 0.4867, 0.4640, 0.4873, 0.4546, 0.5408, 0.4682, 0.4678, 0.5589,\n",
      "        0.5126, 0.5251, 0.5358, 0.5197, 0.4774, 0.4980, 0.5362, 0.5200, 0.4385,\n",
      "        0.5126, 0.4655, 0.5250, 0.4637, 0.4584, 0.4832, 0.5234, 0.4532, 0.4709,\n",
      "        0.4911, 0.4543, 0.4827, 0.5071, 0.4753, 0.4831, 0.4752, 0.5101, 0.4467,\n",
      "        0.5007, 0.4462, 0.4557, 0.4964, 0.5445, 0.5204, 0.5304, 0.5093, 0.4948,\n",
      "        0.4912, 0.5686, 0.5401, 0.4655, 0.5153, 0.5243, 0.4338, 0.4903, 0.4755,\n",
      "        0.4809, 0.4597, 0.4415, 0.4680, 0.5409, 0.4888, 0.5124, 0.5383, 0.5044,\n",
      "        0.4601, 0.5484, 0.4428, 0.5130, 0.4734])\n"
     ]
    },
    {
     "ename": "RuntimeError",
     "evalue": "The size of tensor a (100) must match the size of tensor b (95) at non-singleton dimension 1",
     "output_type": "error",
     "traceback": [
      "\u001b[0;31m---------------------------------------------------------------------------\u001b[0m",
      "\u001b[0;31mRuntimeError\u001b[0m                              Traceback (most recent call last)",
      "\u001b[0;32m<timed exec>\u001b[0m in \u001b[0;36m<module>\u001b[0;34m\u001b[0m\n",
      "\u001b[0;32m<ipython-input-96-aadccfb9b64c>\u001b[0m in \u001b[0;36mvalidate\u001b[0;34m(loss_vector, accuracy_vector)\u001b[0m\n\u001b[1;32m     12\u001b[0m         \u001b[0mval_loss\u001b[0m \u001b[0;34m+=\u001b[0m \u001b[0mcriterion\u001b[0m\u001b[0;34m(\u001b[0m\u001b[0moutput\u001b[0m\u001b[0;34m,\u001b[0m \u001b[0mtarget\u001b[0m\u001b[0;34m)\u001b[0m\u001b[0;34m.\u001b[0m\u001b[0mdata\u001b[0m\u001b[0;34m.\u001b[0m\u001b[0mitem\u001b[0m\u001b[0;34m(\u001b[0m\u001b[0;34m)\u001b[0m\u001b[0;34m\u001b[0m\u001b[0;34m\u001b[0m\u001b[0m\n\u001b[1;32m     13\u001b[0m         \u001b[0mpred\u001b[0m \u001b[0;34m=\u001b[0m \u001b[0moutput\u001b[0m\u001b[0;34m.\u001b[0m\u001b[0mdata\u001b[0m\u001b[0;34m.\u001b[0m\u001b[0mmax\u001b[0m\u001b[0;34m(\u001b[0m\u001b[0;36m1\u001b[0m\u001b[0;34m)\u001b[0m\u001b[0;34m[\u001b[0m\u001b[0;36m1\u001b[0m\u001b[0;34m]\u001b[0m \u001b[0;31m# get the index of the max log-probability\u001b[0m\u001b[0;34m\u001b[0m\u001b[0;34m\u001b[0m\u001b[0m\n\u001b[0;32m---> 14\u001b[0;31m         \u001b[0mcorrect\u001b[0m \u001b[0;34m+=\u001b[0m \u001b[0mpred\u001b[0m\u001b[0;34m.\u001b[0m\u001b[0meq\u001b[0m\u001b[0;34m(\u001b[0m\u001b[0mtarget\u001b[0m\u001b[0;34m.\u001b[0m\u001b[0mdata\u001b[0m\u001b[0;34m)\u001b[0m\u001b[0;34m.\u001b[0m\u001b[0mcpu\u001b[0m\u001b[0;34m(\u001b[0m\u001b[0;34m)\u001b[0m\u001b[0;34m.\u001b[0m\u001b[0msum\u001b[0m\u001b[0;34m(\u001b[0m\u001b[0;34m)\u001b[0m\u001b[0;34m\u001b[0m\u001b[0;34m\u001b[0m\u001b[0m\n\u001b[0m\u001b[1;32m     15\u001b[0m \u001b[0;34m\u001b[0m\u001b[0m\n\u001b[1;32m     16\u001b[0m     \u001b[0mval_loss\u001b[0m \u001b[0;34m/=\u001b[0m \u001b[0mlen\u001b[0m\u001b[0;34m(\u001b[0m\u001b[0mvalid_loader\u001b[0m\u001b[0;34m)\u001b[0m\u001b[0;34m\u001b[0m\u001b[0;34m\u001b[0m\u001b[0m\n",
      "\u001b[0;31mRuntimeError\u001b[0m: The size of tensor a (100) must match the size of tensor b (95) at non-singleton dimension 1"
     ]
    }
   ],
   "source": [
    "%%time\n",
    "epochs = 1\n",
    "\n",
    "lossv, accv = [], []\n",
    "for epoch in range(1, epochs + 1):\n",
    "    #train(epoch)\n",
    "    validate(lossv, accv)"
   ]
  },
  {
   "cell_type": "markdown",
   "metadata": {},
   "source": [
    "## Save your model\n",
    "\n",
    "It might be useful to save your model if you want to continue your work later, or use it for inference later."
   ]
  },
  {
   "cell_type": "code",
   "execution_count": 35,
   "metadata": {},
   "outputs": [],
   "source": [
    "torch.save(model.state_dict(), 'model.pkl')"
   ]
  },
  {
   "cell_type": "markdown",
   "metadata": {},
   "source": [
    "The model file should now be visible in the \"Home\" screen of the jupyter notebooks interface.  There you should be able to select it and press \"download\".\n",
    "\n",
    "## Download test set\n",
    "\n",
    "The testset will be made available during the last week before the deadline and can be downloaded in the same way as the training set.\n",
    "\n",
    "## Predict for test set\n",
    "\n",
    "You will be asked to return your predictions a separate test set.  These should be returned as a matrix with one row for each test article.  Each row contains a binary prediction for each label, 1 if it's present in the image, and 0 if not. The order of the labels is the order of the label (topic) codes.\n",
    "\n",
    "An example row could like like this if your system predicts the presense of the second and fourth topic:\n",
    "\n",
    "    0 1 0 1 0 0 0 0 0 0 0 0 0 0 ...\n",
    "    \n",
    "If you have the matrix prepared in `y` you can use the following function to save it to a text file."
   ]
  },
  {
   "cell_type": "code",
   "execution_count": 36,
   "metadata": {},
   "outputs": [
    {
     "ename": "NameError",
     "evalue": "name 'y' is not defined",
     "output_type": "error",
     "traceback": [
      "\u001b[1;31m---------------------------------------------------------------------------\u001b[0m",
      "\u001b[1;31mNameError\u001b[0m                                 Traceback (most recent call last)",
      "\u001b[1;32m<ipython-input-36-475fae65c704>\u001b[0m in \u001b[0;36m<module>\u001b[1;34m\u001b[0m\n\u001b[1;32m----> 1\u001b[1;33m \u001b[0mnp\u001b[0m\u001b[1;33m.\u001b[0m\u001b[0msavetxt\u001b[0m\u001b[1;33m(\u001b[0m\u001b[1;34m'results.txt'\u001b[0m\u001b[1;33m,\u001b[0m \u001b[0my\u001b[0m\u001b[1;33m,\u001b[0m \u001b[0mfmt\u001b[0m\u001b[1;33m=\u001b[0m\u001b[1;34m'%d'\u001b[0m\u001b[1;33m)\u001b[0m\u001b[1;33m\u001b[0m\u001b[1;33m\u001b[0m\u001b[0m\n\u001b[0m",
      "\u001b[1;31mNameError\u001b[0m: name 'y' is not defined"
     ]
    }
   ],
   "source": [
    "np.savetxt('results.txt', y, fmt='%d')"
   ]
  }
 ],
 "metadata": {
  "kernelspec": {
   "display_name": "Python 3",
   "language": "python",
   "name": "python3"
  },
  "language_info": {
   "codemirror_mode": {
    "name": "ipython",
    "version": 3
   },
   "file_extension": ".py",
   "mimetype": "text/x-python",
   "name": "python",
   "nbconvert_exporter": "python",
   "pygments_lexer": "ipython3",
   "version": "3.6.9"
  }
 },
 "nbformat": 4,
 "nbformat_minor": 2
}
