{
 "cells": [
  {
   "cell_type": "markdown",
   "metadata": {
    "colab_type": "text",
    "id": "kntcOrMxbE-F"
   },
   "source": [
    "# DATA20001 Deep Learning - Group Project\n",
    "## Text project\n",
    "\n",
    "**Due Thursday, May 20, before 23:59.**\n",
    "\n",
    "The task is to learn to assign the correct labels to news articles.  The corpus contains ~850K articles from Reuters.  The test set is about 10% of the articles. The data is unextracted in XML files.\n",
    "\n",
    "We're only giving you the code for downloading the data, and how to save the final model. The rest you'll have to do yourselves.\n",
    "\n",
    "Some comments and hints particular to the project:\n",
    "\n",
    "- One document may belong to many classes in this problem, i.e., it's a multi-label classification problem. In fact there are documents that don't belong to any class, and you should also be able to handle these correctly. Pay careful attention to how you design the outputs of the network (e.g., what activation to use) and what loss function should be used.\n",
    "- You may use word-embeddings to get better results. For example, you were already using a smaller version of the GloVE  embeddings in exercise 4. Do note that these embeddings take a lot of memory. \n",
    "- In the exercises we used e.g., `torchvision.datasets.MNIST` to handle the loading of the data in suitable batches. Here, you need to handle the dataloading yourself.  The easiest way is probably to create a custom `Dataset`. [See for example here for a tutorial](https://github.com/utkuozbulak/pytorch-custom-dataset-examples)."
   ]
  },
  {
   "cell_type": "code",
   "execution_count": 3,
   "metadata": {
    "colab": {
     "base_uri": "https://localhost:8080/",
     "height": 51
    },
    "colab_type": "code",
    "executionInfo": {
     "elapsed": 9531,
     "status": "ok",
     "timestamp": 1590304154268,
     "user": {
      "displayName": "abiodun gold",
      "photoUrl": "https://lh3.googleusercontent.com/a-/AOh14GhJUHEg-9pYnAgHQWqSXEmr3MAJAkjXOhr6y-vFtg=s64",
      "userId": "04483878048487360383"
     },
     "user_tz": -180
    },
    "id": "ToMjEXCE19al",
    "outputId": "36e80033-b9ff-4945-ecbc-ceff82e8446b"
   },
   "outputs": [
    {
     "name": "stderr",
     "output_type": "stream",
     "text": [
      "/usr/local/lib/python3.6/dist-packages/statsmodels/tools/_testing.py:19: FutureWarning: pandas.util.testing is deprecated. Use the functions in the public API at pandas.testing instead.\n",
      "  import pandas.util.testing as tm\n"
     ]
    }
   ],
   "source": [
    "import sys\n",
    "import os\n",
    "from os.path import exists\n",
    "import zipfile\n",
    "import gc\n",
    "import pickle\n",
    "\n",
    "# text handling\n",
    "from bs4 import BeautifulSoup as bs\n",
    "import re\n",
    "import nltk\n",
    "from nltk.corpus import stopwords\n",
    "from nltk.stem import WordNetLemmatizer\n",
    "\n",
    "# dataframes\n",
    "import pandas as pd\n",
    "import numpy as np\n",
    "\n",
    "# visualization\n",
    "import seaborn as sns\n",
    "\n",
    "# torch\n",
    "import torch\n",
    "import torch.nn as nn\n",
    "import torch.nn.functional as F\n",
    "from torch.autograd import Variable\n",
    "from torch.utils.data import SubsetRandomSampler\n",
    "from torch.utils.data.dataset import Dataset\n",
    "from torch.utils.data import Dataset, DataLoader\n",
    "\n",
    "# torchvision\n",
    "import torchvision\n",
    "from torchvision.datasets.utils import download_url\n",
    "\n",
    "\n",
    "#TensorFlow\n",
    "from tensorflow.keras.preprocessing.text import Tokenizer\n",
    "from tensorflow.keras.preprocessing.sequence import pad_sequences\n",
    "\n",
    "# sklearn & matplotlib\n",
    "from sklearn.model_selection import train_test_split\n",
    "from sklearn.preprocessing import MultiLabelBinarizer\n",
    "from sklearn.feature_extraction.text import TfidfVectorizer\n",
    "from sklearn.metrics import f1_score\n",
    "import matplotlib.pyplot as plt\n",
    "#%matplotlib inline\n",
    "\n",
    "# wheel\n",
    "from wheel.pep425tags import get_abbr_impl, get_impl_ver, get_abi_tag\n",
    "platform = '{}{}-{}'.format(get_abbr_impl(), get_impl_ver(), get_abi_tag())\n",
    "cuda_output = !ldconfig -p|grep cudart.so|sed -e 's/.*\\.\\([0-9]*\\)\\.\\([0-9]*\\)$/cu\\1\\2/'\n",
    "accelerator = cuda_output[0] if exists('/dev/nvidia0') else 'cpu'\n",
    "\n",
    "\n",
    "import ast"
   ]
  },
  {
   "cell_type": "markdown",
   "metadata": {
    "colab_type": "text",
    "id": "qf5ejtnjbL9N"
   },
   "source": [
    "## Get the data"
   ]
  },
  {
   "cell_type": "code",
   "execution_count": 0,
   "metadata": {
    "colab": {},
    "colab_type": "code",
    "id": "rGc_nU5kXUOb"
   },
   "outputs": [],
   "source": [
    "root_dir = os.getcwd()\n",
    "if root_dir not in sys.path:\n",
    "    sys.path.append(root_dir)"
   ]
  },
  {
   "cell_type": "code",
   "execution_count": 33,
   "metadata": {
    "colab": {
     "base_uri": "https://localhost:8080/",
     "height": 66,
     "referenced_widgets": [
      "ec63707b80ae4eb18956353e724022da",
      "14274bccae124a328fa970f41d3436d0",
      "6bc24a130d46483b8272cf34fe55af15",
      "c0efd3fd59fd489cbb8e7f3954fc900c",
      "334b2c076c044b68be7414a62fa48d16",
      "61cd8e3ccb9f47c88d3a14b45736ce7f",
      "ab412ad7149b4516a002879f70598a4a",
      "eb96802b4c824fd9be5469112d3942fb"
     ]
    },
    "colab_type": "code",
    "executionInfo": {
     "elapsed": 321547,
     "status": "ok",
     "timestamp": 1590263654950,
     "user": {
      "displayName": "abiodun gold",
      "photoUrl": "https://lh3.googleusercontent.com/a-/AOh14GhJUHEg-9pYnAgHQWqSXEmr3MAJAkjXOhr6y-vFtg=s64",
      "userId": "04483878048487360383"
     },
     "user_tz": -180
    },
    "id": "abA3xHaJ05V4",
    "outputId": "e3abb859-42e9-48f5-a035-a0244d8069fd"
   },
   "outputs": [
    {
     "name": "stdout",
     "output_type": "stream",
     "text": [
      "Downloading https://www.cs.helsinki.fi/u/yangarbe/Courses/2020-deep-learning/text-training-corpus/reuters-training-corpus.zip to train/reuters-training-corpus.zip\n"
     ]
    },
    {
     "data": {
      "application/vnd.jupyter.widget-view+json": {
       "model_id": "ec63707b80ae4eb18956353e724022da",
       "version_major": 2,
       "version_minor": 0
      },
      "text/plain": [
       "HBox(children=(FloatProgress(value=1.0, bar_style='info', max=1.0), HTML(value='')))"
      ]
     },
     "metadata": {
      "tags": []
     },
     "output_type": "display_data"
    }
   ],
   "source": [
    "# importing the data\n",
    "train_path = 'train'\n",
    "dl_file = 'reuters-training-corpus.zip'\n",
    "dl_url = 'https://www.cs.helsinki.fi/u/yangarbe/Courses/2020-deep-learning/text-training-corpus/'\n",
    "\n",
    "zip_path = os.path.join(train_path, dl_file)\n",
    "if not os.path.isfile(zip_path):\n",
    "    download_url(dl_url + dl_file, root=train_path, filename=dl_file, md5=None)\n",
    "\n",
    "with zipfile.ZipFile(zip_path) as zip_f:\n",
    "    zip_f.extractall(train_path)"
   ]
  },
  {
   "cell_type": "code",
   "execution_count": 34,
   "metadata": {
    "colab": {
     "base_uri": "https://localhost:8080/",
     "height": 66,
     "referenced_widgets": [
      "affe2906175f4863aa20bbca0ca27804",
      "6d1217467dec4dc79ed0d2b8845bc02b",
      "cfbe03c518d7483288f8503a7c48225d",
      "4d5edc2509e6481e84684bc5ad11ac05",
      "f7932b4a99b242adb3ca7c7d806b7750",
      "246d46baf0b74bd385a23cf2bd35163f",
      "a0506a1dadf846b0a06479d3272b802d",
      "4b534e7a4d194d81860d3109483d54bb"
     ]
    },
    "colab_type": "code",
    "executionInfo": {
     "elapsed": 986,
     "status": "ok",
     "timestamp": 1590263805704,
     "user": {
      "displayName": "abiodun gold",
      "photoUrl": "https://lh3.googleusercontent.com/a-/AOh14GhJUHEg-9pYnAgHQWqSXEmr3MAJAkjXOhr6y-vFtg=s64",
      "userId": "04483878048487360383"
     },
     "user_tz": -180
    },
    "id": "yodgNCDrRaiu",
    "outputId": "a155f17b-092c-437d-bdec-4d50a0366977"
   },
   "outputs": [
    {
     "name": "stdout",
     "output_type": "stream",
     "text": [
      "Downloading https://www.cs.helsinki.fi/u/yangarbe/Courses/2020-deep-learning/text-project/topic_codes.txt to text-project/topic_codes.txt\n"
     ]
    },
    {
     "data": {
      "application/vnd.jupyter.widget-view+json": {
       "model_id": "affe2906175f4863aa20bbca0ca27804",
       "version_major": 2,
       "version_minor": 0
      },
      "text/plain": [
       "HBox(children=(FloatProgress(value=1.0, bar_style='info', max=1.0), HTML(value='')))"
      ]
     },
     "metadata": {
      "tags": []
     },
     "output_type": "display_data"
    }
   ],
   "source": [
    "# importing the topic codes\n",
    "text_project_path = 'text-project'\n",
    "dl_file = 'topic_codes.txt'\n",
    "dl_url = 'https://www.cs.helsinki.fi/u/yangarbe/Courses/2020-deep-learning/text-project/'\n",
    "\n",
    "topic_codes_path = os.path.join(text_project_path, dl_file)\n",
    "#text_project_path\n",
    "if not os.path.isfile(topic_codes_path):\n",
    "    download_url(dl_url + dl_file, root=text_project_path, filename=dl_file, md5=None)\n",
    "    "
   ]
  },
  {
   "cell_type": "code",
   "execution_count": 0,
   "metadata": {
    "colab": {},
    "colab_type": "code",
    "id": "eXLCFtT_Vwlj"
   },
   "outputs": [],
   "source": [
    "DATA_FOLDER_DIR = os.path.abspath(os.path.join(root_dir, text_project_path))\n",
    "\n",
    "topic_codes_location = os.path.join(text_project_path, dl_file)\n",
    "\n",
    "# from get_data.py\n",
    "def get_codes(codefile):\n",
    "    codes = {}\n",
    "    i = 0\n",
    "    with open(codefile, 'r') as cf:\n",
    "        for line in cf:\n",
    "            if not line.startswith(';'):\n",
    "                code = line.strip().split('\\t')[0]\n",
    "                codes[code] = i\n",
    "                i += 1\n",
    "    return codes\n",
    "\n",
    "CODEMAP = get_codes(topic_codes_location)\n",
    "CODEMAP_list = (list(CODEMAP.keys()))"
   ]
  },
  {
   "cell_type": "code",
   "execution_count": 10,
   "metadata": {
    "colab": {
     "base_uri": "https://localhost:8080/",
     "height": 51
    },
    "colab_type": "code",
    "executionInfo": {
     "elapsed": 1070,
     "status": "ok",
     "timestamp": 1590304886146,
     "user": {
      "displayName": "abiodun gold",
      "photoUrl": "https://lh3.googleusercontent.com/a-/AOh14GhJUHEg-9pYnAgHQWqSXEmr3MAJAkjXOhr6y-vFtg=s64",
      "userId": "04483878048487360383"
     },
     "user_tz": -180
    },
    "id": "3f5CqOkD1KDQ",
    "outputId": "c4ffc8b6-7ef9-4448-b5ad-a40ed1774034"
   },
   "outputs": [
    {
     "name": "stdout",
     "output_type": "stream",
     "text": [
      "130\n",
      "127\n"
     ]
    }
   ],
   "source": [
    "train_path = os.path.abspath(os.path.join(root_dir, train_path))\n",
    "\n",
    "reuters_unzipped_path = os.path.abspath(os.path.join(train_path, 'REUTERS_CORPUS_2'))\n",
    "\n",
    "zipped_news_files = os.listdir(os.path.abspath(reuters_unzipped_path))\n",
    "print(len(zipped_news_files))\n",
    "zipped_news_files = [x for x in zipped_news_files if \"1\" in x]\n",
    "print(len(zipped_news_files))"
   ]
  },
  {
   "cell_type": "code",
   "execution_count": 0,
   "metadata": {
    "colab": {},
    "colab_type": "code",
    "id": "EfBrq7o1d6Dy"
   },
   "outputs": [],
   "source": [
    "rows_list = []"
   ]
  },
  {
   "cell_type": "code",
   "execution_count": 12,
   "metadata": {
    "colab": {
     "base_uri": "https://localhost:8080/",
     "height": 51
    },
    "colab_type": "code",
    "executionInfo": {
     "elapsed": 509097,
     "status": "ok",
     "timestamp": 1590305409212,
     "user": {
      "displayName": "abiodun gold",
      "photoUrl": "https://lh3.googleusercontent.com/a-/AOh14GhJUHEg-9pYnAgHQWqSXEmr3MAJAkjXOhr6y-vFtg=s64",
      "userId": "04483878048487360383"
     },
     "user_tz": -180
    },
    "id": "UOp0ly0aXt2-",
    "outputId": "314c2f91-08f9-4e6a-b7fa-71294e95d4b4"
   },
   "outputs": [
    {
     "name": "stdout",
     "output_type": "stream",
     "text": [
      "CPU times: user 8min 25s, sys: 1.52 s, total: 8min 27s\n",
      "Wall time: 8min 27s\n"
     ]
    }
   ],
   "source": [
    "%%time\n",
    "\n",
    "\n",
    "pattern = r'\"([A-Za-z0-9_\\./\\\\-]*)\"'\n",
    "\n",
    "for news_file in zipped_news_files:\n",
    "    zf = zipfile.ZipFile(os.path.abspath(os.path.join(reuters_unzipped_path, news_file)), 'r')\n",
    "    for name in zf.namelist():\n",
    "        dict1 = {} # saving into dicts which are then saved into a list which is then saved into the df.\n",
    "        f = zf.open(name).read()\n",
    "        soup = bs(f, \"lxml\")\n",
    "        \n",
    "        #title = soup.title.text\n",
    "        dict1[\"title\"] = soup.title.text\n",
    "        dict1[\"text\"] = soup.find(\"text\").text\n",
    "        codes = []\n",
    "        metadata_codes = soup.metadata.find_all(\"code\")\n",
    "        \n",
    "        for val in metadata_codes:\n",
    "            m = re.search(pattern, str(val))\n",
    "            codes.append(m.group().replace('\"', ''))\n",
    "        \n",
    "        dict1[\"codes\"] = [value for value in codes if value in CODEMAP_list] # remove unnecessary codes\n",
    "        \n",
    "        rows_list.append(dict1)\n",
    "    #break # remove break for full dataframe\n",
    "\n"
   ]
  },
  {
   "cell_type": "markdown",
   "metadata": {
    "colab_type": "text",
    "id": "us2qEJIseKfK"
   },
   "source": [
    "Use this code to load dataset from text file. Text file is a list of dictionary(faster way to load data)"
   ]
  },
  {
   "cell_type": "code",
   "execution_count": 13,
   "metadata": {
    "colab": {
     "base_uri": "https://localhost:8080/",
     "height": 34
    },
    "colab_type": "code",
    "executionInfo": {
     "elapsed": 1088,
     "status": "ok",
     "timestamp": 1590305470583,
     "user": {
      "displayName": "abiodun gold",
      "photoUrl": "https://lh3.googleusercontent.com/a-/AOh14GhJUHEg-9pYnAgHQWqSXEmr3MAJAkjXOhr6y-vFtg=s64",
      "userId": "04483878048487360383"
     },
     "user_tz": -180
    },
    "id": "I1WPNMqKd-mP",
    "outputId": "89d55dbd-58c5-43bc-e0f6-8e0b5b61dd87"
   },
   "outputs": [
    {
     "name": "stdout",
     "output_type": "stream",
     "text": [
      "shape: (299773, 3)\n"
     ]
    }
   ],
   "source": [
    "df = pd.DataFrame(rows_list, columns=['title', 'text', 'codes'])\n",
    "print('shape:', df.shape)"
   ]
  },
  {
   "cell_type": "code",
   "execution_count": 14,
   "metadata": {
    "colab": {
     "base_uri": "https://localhost:8080/",
     "height": 204
    },
    "colab_type": "code",
    "executionInfo": {
     "elapsed": 1076,
     "status": "ok",
     "timestamp": 1590305478370,
     "user": {
      "displayName": "abiodun gold",
      "photoUrl": "https://lh3.googleusercontent.com/a-/AOh14GhJUHEg-9pYnAgHQWqSXEmr3MAJAkjXOhr6y-vFtg=s64",
      "userId": "04483878048487360383"
     },
     "user_tz": -180
    },
    "id": "0K704fImYjh2",
    "outputId": "fb80532e-f300-456c-e5d5-9cc6ece4ca89"
   },
   "outputs": [
    {
     "data": {
      "text/html": [
       "<div>\n",
       "<style scoped>\n",
       "    .dataframe tbody tr th:only-of-type {\n",
       "        vertical-align: middle;\n",
       "    }\n",
       "\n",
       "    .dataframe tbody tr th {\n",
       "        vertical-align: top;\n",
       "    }\n",
       "\n",
       "    .dataframe thead th {\n",
       "        text-align: right;\n",
       "    }\n",
       "</style>\n",
       "<table border=\"1\" class=\"dataframe\">\n",
       "  <thead>\n",
       "    <tr style=\"text-align: right;\">\n",
       "      <th></th>\n",
       "      <th>title</th>\n",
       "      <th>text</th>\n",
       "      <th>codes</th>\n",
       "    </tr>\n",
       "  </thead>\n",
       "  <tbody>\n",
       "    <tr>\n",
       "      <th>0</th>\n",
       "      <td>JAPAN: Tokyo stocks likely to rise after Dow r...</td>\n",
       "      <td>\\nTokyo stocks are likely to rise in Tuesday's...</td>\n",
       "      <td>[M11, MCAT]</td>\n",
       "    </tr>\n",
       "    <tr>\n",
       "      <th>1</th>\n",
       "      <td>EU:  OFFICIAL JOURNAL CONTENTS - OJ C 111 OF A...</td>\n",
       "      <td>\\n*\\nCommon position (EC) No 11/97 of 20 Decem...</td>\n",
       "      <td>[G15, GCAT]</td>\n",
       "    </tr>\n",
       "    <tr>\n",
       "      <th>2</th>\n",
       "      <td>EU:  OFFICIAL JOURNAL CONTENTS - OJ C 113 OF A...</td>\n",
       "      <td>\\n*\\nEcu (97/C 113/01)\\nProposal for a Council...</td>\n",
       "      <td>[G15, GCAT]</td>\n",
       "    </tr>\n",
       "    <tr>\n",
       "      <th>3</th>\n",
       "      <td>EU:  OFFICIAL JOURNAL CONTENTS - OJ C 114 OF A...</td>\n",
       "      <td>\\n*\\n(Note - contents are displayed in reverse...</td>\n",
       "      <td>[G15, GCAT]</td>\n",
       "    </tr>\n",
       "    <tr>\n",
       "      <th>4</th>\n",
       "      <td>EU:  OFFICIAL JOURNAL CONTENTS - OJ L 97 OF AP...</td>\n",
       "      <td>\\n*\\n(Note - contents are displayed in reverse...</td>\n",
       "      <td>[G15, GCAT]</td>\n",
       "    </tr>\n",
       "  </tbody>\n",
       "</table>\n",
       "</div>"
      ],
      "text/plain": [
       "                                               title  ...        codes\n",
       "0  JAPAN: Tokyo stocks likely to rise after Dow r...  ...  [M11, MCAT]\n",
       "1  EU:  OFFICIAL JOURNAL CONTENTS - OJ C 111 OF A...  ...  [G15, GCAT]\n",
       "2  EU:  OFFICIAL JOURNAL CONTENTS - OJ C 113 OF A...  ...  [G15, GCAT]\n",
       "3  EU:  OFFICIAL JOURNAL CONTENTS - OJ C 114 OF A...  ...  [G15, GCAT]\n",
       "4  EU:  OFFICIAL JOURNAL CONTENTS - OJ L 97 OF AP...  ...  [G15, GCAT]\n",
       "\n",
       "[5 rows x 3 columns]"
      ]
     },
     "execution_count": 14,
     "metadata": {
      "tags": []
     },
     "output_type": "execute_result"
    }
   ],
   "source": [
    "#Check out the dataframe\n",
    "df.head()"
   ]
  },
  {
   "cell_type": "code",
   "execution_count": 15,
   "metadata": {
    "colab": {
     "base_uri": "https://localhost:8080/",
     "height": 54
    },
    "colab_type": "code",
    "executionInfo": {
     "elapsed": 1139,
     "status": "ok",
     "timestamp": 1590305484590,
     "user": {
      "displayName": "abiodun gold",
      "photoUrl": "https://lh3.googleusercontent.com/a-/AOh14GhJUHEg-9pYnAgHQWqSXEmr3MAJAkjXOhr6y-vFtg=s64",
      "userId": "04483878048487360383"
     },
     "user_tz": -180
    },
    "id": "_W_2B-4tYmUN",
    "outputId": "1aecefe8-6d65-4a8c-821a-586131ee2a08"
   },
   "outputs": [
    {
     "data": {
      "text/plain": [
       "'\\n*\\nCommon position (EC) No 11/97 of 20 December 1996 adopted by the Council, acting in accordance with the procedure referred to in Article 189b of the Treaty establishing the European Community, with a view to adopting a European Parliament and Council Directive amending Directives 92/50/EEC, 93/36/EEC and 93/37/EEC concerning the coordination of procedures for the award of public service contracts, public supply contracts and public works contracts respectively (97/C 111/01)\\nCommon position (EC) No 12/97 of 20 December 1996 adopted by the Council, acting in accordance with the procedure referred to in Article 189b of the Treaty establishing the European Community, with a view to adopting a European Parliament and Council Directive amending Directive 93/38/EEC coordinating the procurement procedures of entities operating in the water, energy, transport and telecommunications sectors (97/C 111/02)\\nCommon position (EC) No 13/97 of 27 January 1997 adopted by the Council, acting in accordance with the procedure referred to in Article 189b of the Treaty establishing the European Community, with a view to adopting a European Parliament and Council Decision amending Decision No 1254/96/EC laying down a series of guidelines on trans-European energy networks (97/C 111/03)\\nCommon position (EC) No 14/97 of 27 January 1997 adopted by the Council, acting in accordance with the procedure referred to in Article 189b of the Treaty establishing the European Community, with a view to adopting a European Parliament and Council Decision adapting for the second time Decision No 1110/94/EC concerning the fourth framework programme of the European Community activities in the field of research and technological development and demonstration (1994 to 1998) (97/C 111/04) END OF DOCUMENT.\\n'"
      ]
     },
     "execution_count": 15,
     "metadata": {
      "tags": []
     },
     "output_type": "execute_result"
    }
   ],
   "source": [
    "#inspect the text content\n",
    "df.loc[1][\"text\"]"
   ]
  },
  {
   "cell_type": "code",
   "execution_count": 0,
   "metadata": {
    "colab": {},
    "colab_type": "code",
    "id": "RL7eq242Y4NV"
   },
   "outputs": [],
   "source": [
    "def display_Codes(df):\n",
    "    codes = df[\"codes\"].values  #Get the Codes from the dataframe\n",
    "    \n",
    "    #Convert the list of lists to a single list\n",
    "    code_list= []\n",
    "    for sublist in codes:\n",
    "        for item in sublist:\n",
    "            code_list.append(item)\n",
    "            \n",
    "    #Get unique codes from the list        \n",
    "    code_list_unique = np.array(code_list)\n",
    "    print(\"Unique number of codes: \", len(np.unique(code_list_unique)))\n",
    "    \n",
    "    \n",
    "    #Count the frequency of codes in the list\n",
    "    code_freq = nltk.FreqDist(code_list)\n",
    "    \n",
    "    code_freq_df = pd.DataFrame({'Code': list(code_freq.keys()), \n",
    "                              'Count': list(code_freq.values())})\n",
    "    \n",
    "    #Convert the count to a dataframe and plot codes with more than 50 counts\n",
    "    g = code_freq_df.nlargest(columns=\"Count\", n=50)\n",
    "    plt.figure(figsize=(12,15)) \n",
    "    ax = sns.barplot(data=g, x= \"Count\", y = \"Code\") \n",
    "    ax.set(ylabel = 'Count') \n",
    "    plt.show()"
   ]
  },
  {
   "cell_type": "code",
   "execution_count": 17,
   "metadata": {
    "colab": {
     "base_uri": "https://localhost:8080/",
     "height": 894
    },
    "colab_type": "code",
    "executionInfo": {
     "elapsed": 2760,
     "status": "ok",
     "timestamp": 1590305494023,
     "user": {
      "displayName": "abiodun gold",
      "photoUrl": "https://lh3.googleusercontent.com/a-/AOh14GhJUHEg-9pYnAgHQWqSXEmr3MAJAkjXOhr6y-vFtg=s64",
      "userId": "04483878048487360383"
     },
     "user_tz": -180
    },
    "id": "wkqTINZSY7Ps",
    "outputId": "e8f71d40-6cb0-49c3-8643-5a20486b4b9a"
   },
   "outputs": [
    {
     "name": "stdout",
     "output_type": "stream",
     "text": [
      "Unique number of codes:  103\n"
     ]
    },
    {
     "data": {
      "image/png": "[encoded data removed]",
      "text/plain": [
       "<Figure size 864x1080 with 1 Axes>"
      ]
     },
     "metadata": {
      "needs_background": "light",
      "tags": []
     },
     "output_type": "display_data"
    }
   ],
   "source": [
    "display_Codes(df)"
   ]
  },
  {
   "cell_type": "code",
   "execution_count": 0,
   "metadata": {
    "colab": {},
    "colab_type": "code",
    "id": "Ru20KiiwZIRv"
   },
   "outputs": [],
   "source": [
    "def clean_text(text):\n",
    "    # remove backslash-apostrophe \n",
    "    text = re.sub(\"\\n'\", \"\", text) \n",
    "    # remove everything except alphabets \n",
    "    text = re.sub(\"[^a-zA-Z]\",\" \",text) \n",
    "    # remove whitespaces \n",
    "    text = ' '.join(text.split()) \n",
    "    # convert text to lowercase \n",
    "    text = text.lower() \n",
    "    \n",
    "    return text"
   ]
  },
  {
   "cell_type": "code",
   "execution_count": 19,
   "metadata": {
    "colab": {
     "base_uri": "https://localhost:8080/",
     "height": 85
    },
    "colab_type": "code",
    "executionInfo": {
     "elapsed": 1396,
     "status": "ok",
     "timestamp": 1590305502846,
     "user": {
      "displayName": "abiodun gold",
      "photoUrl": "https://lh3.googleusercontent.com/a-/AOh14GhJUHEg-9pYnAgHQWqSXEmr3MAJAkjXOhr6y-vFtg=s64",
      "userId": "04483878048487360383"
     },
     "user_tz": -180
    },
    "id": "tqd2P8K1ZJ-n",
    "outputId": "50cdb944-6cc6-49b1-a24f-61e3548ee79c"
   },
   "outputs": [
    {
     "name": "stdout",
     "output_type": "stream",
     "text": [
      "[nltk_data] Downloading package stopwords to /root/nltk_data...\n",
      "[nltk_data]   Unzipping corpora/stopwords.zip.\n",
      "[nltk_data] Downloading package wordnet to /root/nltk_data...\n",
      "[nltk_data]   Unzipping corpora/wordnet.zip.\n"
     ]
    }
   ],
   "source": [
    "nltk.download('stopwords')\n",
    "nltk.download('wordnet')\n",
    "stop_words = set(stopwords.words('english'))\n",
    "\n",
    "def remove_stopwords(text):\n",
    "    no_stopword_text = [w for w in text.split() if not w in stop_words]\n",
    "    return ' '.join(no_stopword_text)\n"
   ]
  },
  {
   "cell_type": "code",
   "execution_count": 0,
   "metadata": {
    "colab": {},
    "colab_type": "code",
    "id": "CSu7m-RbZZI_"
   },
   "outputs": [],
   "source": [
    "lemmatizer = WordNetLemmatizer() \n",
    "\n",
    "def lemmatize(words):\n",
    "    lemmatized_text = [lemmatizer.lemmatize(t, pos='n') for t in words] # lemmatized nouns\n",
    "    return ''.join(lemmatized_text)"
   ]
  },
  {
   "cell_type": "code",
   "execution_count": 0,
   "metadata": {
    "colab": {},
    "colab_type": "code",
    "id": "mZM_HET5ZqSw"
   },
   "outputs": [],
   "source": [
    "def implement_clean_text(df):\n",
    "    df['clean_text'] = df['text'].apply(lambda x: clean_text(x))\n",
    "    df['clean_text'] = df['clean_text'].apply(lambda x: remove_stopwords(x))\n",
    "    df['clean_text'] = df['clean_text'].apply(lambda x: lemmatize(x))\n",
    "    return df"
   ]
  },
  {
   "cell_type": "code",
   "execution_count": 0,
   "metadata": {
    "colab": {},
    "colab_type": "code",
    "id": "D_sX0p9RZq_l"
   },
   "outputs": [],
   "source": [
    "df = implement_clean_text(df)"
   ]
  },
  {
   "cell_type": "code",
   "execution_count": 23,
   "metadata": {
    "colab": {
     "base_uri": "https://localhost:8080/",
     "height": 204
    },
    "colab_type": "code",
    "executionInfo": {
     "elapsed": 980,
     "status": "ok",
     "timestamp": 1590307003831,
     "user": {
      "displayName": "abiodun gold",
      "photoUrl": "https://lh3.googleusercontent.com/a-/AOh14GhJUHEg-9pYnAgHQWqSXEmr3MAJAkjXOhr6y-vFtg=s64",
      "userId": "04483878048487360383"
     },
     "user_tz": -180
    },
    "id": "24ndPOZ8Z3J2",
    "outputId": "d6fa6640-46b2-4096-f372-189f2150e95b"
   },
   "outputs": [
    {
     "data": {
      "text/html": [
       "<div>\n",
       "<style scoped>\n",
       "    .dataframe tbody tr th:only-of-type {\n",
       "        vertical-align: middle;\n",
       "    }\n",
       "\n",
       "    .dataframe tbody tr th {\n",
       "        vertical-align: top;\n",
       "    }\n",
       "\n",
       "    .dataframe thead th {\n",
       "        text-align: right;\n",
       "    }\n",
       "</style>\n",
       "<table border=\"1\" class=\"dataframe\">\n",
       "  <thead>\n",
       "    <tr style=\"text-align: right;\">\n",
       "      <th></th>\n",
       "      <th>clean_text</th>\n",
       "      <th>codes</th>\n",
       "    </tr>\n",
       "  </thead>\n",
       "  <tbody>\n",
       "    <tr>\n",
       "      <th>0</th>\n",
       "      <td>tokyo stocks likely rise tuesday session follo...</td>\n",
       "      <td>[M11, MCAT]</td>\n",
       "    </tr>\n",
       "    <tr>\n",
       "      <th>1</th>\n",
       "      <td>common position ec december adopted council ac...</td>\n",
       "      <td>[G15, GCAT]</td>\n",
       "    </tr>\n",
       "    <tr>\n",
       "      <th>2</th>\n",
       "      <td>ecu c proposal council decision concerning com...</td>\n",
       "      <td>[G15, GCAT]</td>\n",
       "    </tr>\n",
       "    <tr>\n",
       "      <th>3</th>\n",
       "      <td>note contents displayed reverse order printed ...</td>\n",
       "      <td>[G15, GCAT]</td>\n",
       "    </tr>\n",
       "    <tr>\n",
       "      <th>4</th>\n",
       "      <td>note contents displayed reverse order printed ...</td>\n",
       "      <td>[G15, GCAT]</td>\n",
       "    </tr>\n",
       "  </tbody>\n",
       "</table>\n",
       "</div>"
      ],
      "text/plain": [
       "                                          clean_text        codes\n",
       "0  tokyo stocks likely rise tuesday session follo...  [M11, MCAT]\n",
       "1  common position ec december adopted council ac...  [G15, GCAT]\n",
       "2  ecu c proposal council decision concerning com...  [G15, GCAT]\n",
       "3  note contents displayed reverse order printed ...  [G15, GCAT]\n",
       "4  note contents displayed reverse order printed ...  [G15, GCAT]"
      ]
     },
     "execution_count": 23,
     "metadata": {
      "tags": []
     },
     "output_type": "execute_result"
    }
   ],
   "source": [
    "#inspect column\n",
    "df.iloc[0:5][['clean_text','codes']]"
   ]
  },
  {
   "cell_type": "code",
   "execution_count": 24,
   "metadata": {
    "colab": {
     "base_uri": "https://localhost:8080/",
     "height": 204
    },
    "colab_type": "code",
    "executionInfo": {
     "elapsed": 800,
     "status": "ok",
     "timestamp": 1590307010077,
     "user": {
      "displayName": "abiodun gold",
      "photoUrl": "https://lh3.googleusercontent.com/a-/AOh14GhJUHEg-9pYnAgHQWqSXEmr3MAJAkjXOhr6y-vFtg=s64",
      "userId": "04483878048487360383"
     },
     "user_tz": -180
    },
    "id": "wJZW196ipLWz",
    "outputId": "8192dfab-85e7-49a2-d040-084d0bb522b6"
   },
   "outputs": [
    {
     "data": {
      "text/html": [
       "<div>\n",
       "<style scoped>\n",
       "    .dataframe tbody tr th:only-of-type {\n",
       "        vertical-align: middle;\n",
       "    }\n",
       "\n",
       "    .dataframe tbody tr th {\n",
       "        vertical-align: top;\n",
       "    }\n",
       "\n",
       "    .dataframe thead th {\n",
       "        text-align: right;\n",
       "    }\n",
       "</style>\n",
       "<table border=\"1\" class=\"dataframe\">\n",
       "  <thead>\n",
       "    <tr style=\"text-align: right;\">\n",
       "      <th></th>\n",
       "      <th>title</th>\n",
       "      <th>text</th>\n",
       "      <th>codes</th>\n",
       "      <th>clean_text</th>\n",
       "    </tr>\n",
       "  </thead>\n",
       "  <tbody>\n",
       "    <tr>\n",
       "      <th>299768</th>\n",
       "      <td>CHINA: FUND VIEW-Thai baht batters Asia sentim...</td>\n",
       "      <td>\\nThailand's flotation of the baht will darken...</td>\n",
       "      <td>[M11, M13, M132, MCAT]</td>\n",
       "      <td>thailand flotation baht darken cloud hanging s...</td>\n",
       "    </tr>\n",
       "    <tr>\n",
       "      <th>299769</th>\n",
       "      <td>UK: LONDON CURRENCY AND GOLD BULLION RATES.</td>\n",
       "      <td>\\nLONDON, Reuter - Following are the buying an...</td>\n",
       "      <td>[M13, M132, M14, M142, MCAT]</td>\n",
       "      <td>london reuter following buying selling rates l...</td>\n",
       "    </tr>\n",
       "    <tr>\n",
       "      <th>299770</th>\n",
       "      <td>AUSTRALIA: L.Lease in equities deal with Capaial.</td>\n",
       "      <td>\\nProperty and investment group Lend Lease Cor...</td>\n",
       "      <td>[C11]</td>\n",
       "      <td>property investment group lend lease corp ltd ...</td>\n",
       "    </tr>\n",
       "    <tr>\n",
       "      <th>299771</th>\n",
       "      <td>NEW ZEALAND: NZ to host international young de...</td>\n",
       "      <td>\\nNew Zealand is to host the inaugural interna...</td>\n",
       "      <td>[GCAT, GSCI]</td>\n",
       "      <td>new zealand host inaugural international young...</td>\n",
       "    </tr>\n",
       "    <tr>\n",
       "      <th>299772</th>\n",
       "      <td>UK: Stoiber says EMU delay better than weak euro.</td>\n",
       "      <td>\\nA delay in Europe's Economic and Monetary Un...</td>\n",
       "      <td>[E12, G151, G154]</td>\n",
       "      <td>delay europe economic monetary union would bet...</td>\n",
       "    </tr>\n",
       "  </tbody>\n",
       "</table>\n",
       "</div>"
      ],
      "text/plain": [
       "                                                    title  ...                                         clean_text\n",
       "299768  CHINA: FUND VIEW-Thai baht batters Asia sentim...  ...  thailand flotation baht darken cloud hanging s...\n",
       "299769        UK: LONDON CURRENCY AND GOLD BULLION RATES.  ...  london reuter following buying selling rates l...\n",
       "299770  AUSTRALIA: L.Lease in equities deal with Capaial.  ...  property investment group lend lease corp ltd ...\n",
       "299771  NEW ZEALAND: NZ to host international young de...  ...  new zealand host inaugural international young...\n",
       "299772  UK: Stoiber says EMU delay better than weak euro.  ...  delay europe economic monetary union would bet...\n",
       "\n",
       "[5 rows x 4 columns]"
      ]
     },
     "execution_count": 24,
     "metadata": {
      "tags": []
     },
     "output_type": "execute_result"
    }
   ],
   "source": [
    "df.tail()"
   ]
  },
  {
   "cell_type": "code",
   "execution_count": 0,
   "metadata": {
    "colab": {},
    "colab_type": "code",
    "id": "-9HLM75vwCkI"
   },
   "outputs": [],
   "source": [
    "x_encoder_filename = 'X_encoder.pickle'\n",
    "y_encoder_filename = 'Y_encoder.pickle'"
   ]
  },
  {
   "cell_type": "code",
   "execution_count": 0,
   "metadata": {
    "colab": {},
    "colab_type": "code",
    "id": "RWpDQbQ0Z5IG"
   },
   "outputs": [],
   "source": [
    "def create_encoder(data, input_column=\"clean_text\", output_column=\"codes\", X_encoder_filename = x_encoder_filename, Y_encoder_filename=y_encoder_filename):\n",
    "    \n",
    "    #initialize tokenizer\n",
    "    tokenizer = Tokenizer()\n",
    "    \n",
    "    #Tokennize clean_text dataseries\n",
    "    X_token = (data[input_column].astype(\"str\"))\n",
    "    tokenizer.fit_on_texts(X_token)\n",
    "    \n",
    "    #Initialize multilabelbinarizer for encoding codes in one hot\n",
    "    multilabel_binarizer = MultiLabelBinarizer()\n",
    "    multilabel_binarizer.fit(data[output_column])\n",
    "    \n",
    "    #Save encoders to pickle\n",
    "    with open(X_encoder_filename, 'wb') as handle:\n",
    "        pickle.dump(tokenizer, handle)\n",
    "    with open(Y_encoder_filename, 'wb') as handle:\n",
    "        pickle.dump(multilabel_binarizer, handle)\n",
    "    \n",
    "    return tokenizer, multilabel_binarizer"
   ]
  },
  {
   "cell_type": "code",
   "execution_count": 0,
   "metadata": {
    "colab": {},
    "colab_type": "code",
    "id": "KTqJ9_vtZ60V"
   },
   "outputs": [],
   "source": [
    "def tokenize_data(data,X_encoder, Y_encoder,input_column=\"clean_text\", output_column=\"codes\"):\n",
    "    #Convert cleaned text dataseries to token\n",
    "    X_raw= X_encoder.texts_to_sequences(df[input_column].astype(\"str\"))\n",
    "    #Pad text sequence to max of 1000 tokens. This was done so as most of the text had <1000 token\n",
    "    X_raw= np.array(pad_sequences(X_raw, maxlen=1000, padding= 'post'))\n",
    "    \n",
    "    #transform code dataseries\n",
    "    y_raw = Y_encoder.transform(data[output_column])\n",
    "    \n",
    "    return X_raw, y_raw"
   ]
  },
  {
   "cell_type": "code",
   "execution_count": 0,
   "metadata": {
    "colab": {},
    "colab_type": "code",
    "id": "SWIOPt40Z9Sw"
   },
   "outputs": [],
   "source": [
    "def load_encoder(X_encoder_filename = x_encoder_filename, Y_encoder_filename=y_encoder_filename):\n",
    "    with open (X_encoder_filename, 'rb') as handle:\n",
    "        X_encoder = pickle.load(handle)\n",
    "    \n",
    "    with open(Y_encoder_filename, 'rb') as handle:\n",
    "        Y_encoder = pickle.load(handle)\n",
    "    \n",
    "    return X_encoder, Y_encoder"
   ]
  },
  {
   "cell_type": "code",
   "execution_count": 0,
   "metadata": {
    "colab": {},
    "colab_type": "code",
    "id": "CMlipKkDZ-qI"
   },
   "outputs": [],
   "source": [
    "use_preexisting_x_encoder = False\n",
    "use_preexisting_y_encoder = False"
   ]
  },
  {
   "cell_type": "code",
   "execution_count": 0,
   "metadata": {
    "colab": {},
    "colab_type": "code",
    "id": "wA6BMGasaAtr"
   },
   "outputs": [],
   "source": [
    "if (use_preexisting_x_encoder and use_preexisting_y_encoder):\n",
    "    x_encoder, y_encoder = load_encoder()\n",
    "else:\n",
    "    x_encoder, y_encoder = create_encoder(data=df)"
   ]
  },
  {
   "cell_type": "code",
   "execution_count": 0,
   "metadata": {
    "colab": {},
    "colab_type": "code",
    "id": "v2uPX6jxaCmi"
   },
   "outputs": [],
   "source": [
    "x_input, y_input = tokenize_data(df, x_encoder, y_encoder)"
   ]
  },
  {
   "cell_type": "code",
   "execution_count": 0,
   "metadata": {
    "colab": {},
    "colab_type": "code",
    "id": "LBTIfH92aEkV"
   },
   "outputs": [],
   "source": [
    "X_train,X_valid, y_train, y_valid = train_test_split(x_input, y_input, test_size=0.2, random_state=42) "
   ]
  },
  {
   "cell_type": "code",
   "execution_count": 0,
   "metadata": {
    "colab": {},
    "colab_type": "code",
    "id": "_LOPXQERaG7a"
   },
   "outputs": [],
   "source": [
    "class createDataset(Dataset):\n",
    "    def __init__(self, X,Y):\n",
    "        self.X = X\n",
    "        self.y=Y\n",
    "        \n",
    "    def __len__(self):\n",
    "        return len(self.y)\n",
    "    \n",
    "    def __getitem__(self, idx):\n",
    "        return  torch.from_numpy(self.X[idx]).long(), torch.from_numpy(self.y[idx]).long()"
   ]
  },
  {
   "cell_type": "code",
   "execution_count": 0,
   "metadata": {
    "colab": {},
    "colab_type": "code",
    "id": "CC8iNRXIaItx"
   },
   "outputs": [],
   "source": [
    "train_ds = createDataset(X_train,y_train)\n",
    "valid_ds= createDataset(X_valid,y_valid)"
   ]
  },
  {
   "cell_type": "code",
   "execution_count": 0,
   "metadata": {
    "colab": {},
    "colab_type": "code",
    "id": "s4VIc1OWaKNs"
   },
   "outputs": [],
   "source": [
    "train_loader = DataLoader(train_ds, batch_size = 32)\n",
    "valid_loader = DataLoader(valid_ds, batch_size = 32)"
   ]
  },
  {
   "cell_type": "code",
   "execution_count": 106,
   "metadata": {
    "colab": {
     "base_uri": "https://localhost:8080/",
     "height": 51
    },
    "colab_type": "code",
    "executionInfo": {
     "elapsed": 1023,
     "status": "ok",
     "timestamp": 1590310219518,
     "user": {
      "displayName": "abiodun gold",
      "photoUrl": "https://lh3.googleusercontent.com/a-/AOh14GhJUHEg-9pYnAgHQWqSXEmr3MAJAkjXOhr6y-vFtg=s64",
      "userId": "04483878048487360383"
     },
     "user_tz": -180
    },
    "id": "zKZz4GJ3aZVY",
    "outputId": "ecf5e142-16e3-4ddc-9965-e6ab097c551c"
   },
   "outputs": [
    {
     "name": "stdout",
     "output_type": "stream",
     "text": [
      "X_train: torch.Size([32, 1000]) type: torch.LongTensor\n",
      "y_train: torch.Size([32, 103]) type: torch.LongTensor\n"
     ]
    }
   ],
   "source": [
    "for (X_train, y_train) in train_loader:\n",
    "    print('X_train:', X_train.size(), 'type:', X_train.type())\n",
    "    print('y_train:', y_train.size(), 'type:', y_train.type())\n",
    "    break"
   ]
  },
  {
   "cell_type": "code",
   "execution_count": 107,
   "metadata": {
    "colab": {
     "base_uri": "https://localhost:8080/",
     "height": 34
    },
    "colab_type": "code",
    "executionInfo": {
     "elapsed": 1032,
     "status": "ok",
     "timestamp": 1590310222727,
     "user": {
      "displayName": "abiodun gold",
      "photoUrl": "https://lh3.googleusercontent.com/a-/AOh14GhJUHEg-9pYnAgHQWqSXEmr3MAJAkjXOhr6y-vFtg=s64",
      "userId": "04483878048487360383"
     },
     "user_tz": -180
    },
    "id": "7Ft8aORcaa4j",
    "outputId": "06bc0fc7-4006-4904-f56b-8e17c9934a42"
   },
   "outputs": [
    {
     "name": "stdout",
     "output_type": "stream",
     "text": [
      "Using GPU!\n"
     ]
    }
   ],
   "source": [
    "if torch.cuda.is_available():\n",
    "    print('Using GPU!')\n",
    "    device = torch.device('cuda')\n",
    "else:\n",
    "    print('Using CPU')\n",
    "    device = torch.device('cpu')"
   ]
  },
  {
   "cell_type": "code",
   "execution_count": 0,
   "metadata": {
    "colab": {},
    "colab_type": "code",
    "id": "quQsr55QRL5O"
   },
   "outputs": [],
   "source": [
    "#device = torch.device('cpu')"
   ]
  },
  {
   "cell_type": "code",
   "execution_count": 0,
   "metadata": {
    "colab": {},
    "colab_type": "code",
    "id": "UloPpAm1aqtn"
   },
   "outputs": [],
   "source": [
    "class LSTM_Model_rnn(nn.Module):\n",
    "    def __init__(self, vocab_size, embedding_dim, hidden_dim,output_size):\n",
    "        super().__init__()\n",
    "        \n",
    "        self.embedding = nn.Embedding(vocab_size, embedding_dim,padding_idx=0)\n",
    "        self.rnn = nn.LSTM(embedding_dim,hidden_dim,bidirectional=True, batch_first=True)       \n",
    "        self.l1 = torch.nn.Linear(hidden_dim , 250)\n",
    "        self.l2 = torch.nn.Linear(250, output_size)\n",
    "\n",
    "\n",
    "    \n",
    "    def forward(self,x):\n",
    "        embedded = self.embedding(x)\n",
    "        _, (last_hidden,state) = self.rnn(embedded)\n",
    "        hidden_list = last_hidden[-1]\n",
    "        encoded2 = F.relu(self.l1(hidden_list))\n",
    "        output = torch.sigmoid(self.l2(encoded2))\n",
    "        return output"
   ]
  },
  {
   "cell_type": "code",
   "execution_count": 0,
   "metadata": {
    "colab": {},
    "colab_type": "code",
    "id": "h44nYOXGaeZN"
   },
   "outputs": [],
   "source": [
    "total_words = len(x_encoder.word_index)+1\n",
    "\n",
    "model_rnn = LSTM_Model_rnn(total_words,100,100,y_input.shape[1])\n",
    "optimizer_rnn = torch.optim.Adam(model_rnn.parameters(), lr=0.001)\n",
    "criterion_rnn = nn.MSELoss()"
   ]
  },
  {
   "cell_type": "code",
   "execution_count": 118,
   "metadata": {
    "colab": {
     "base_uri": "https://localhost:8080/",
     "height": 119
    },
    "colab_type": "code",
    "executionInfo": {
     "elapsed": 471,
     "status": "ok",
     "timestamp": 1590310906491,
     "user": {
      "displayName": "abiodun gold",
      "photoUrl": "https://lh3.googleusercontent.com/a-/AOh14GhJUHEg-9pYnAgHQWqSXEmr3MAJAkjXOhr6y-vFtg=s64",
      "userId": "04483878048487360383"
     },
     "user_tz": -180
    },
    "id": "1m5uIn_Gas7l",
    "outputId": "b7eb8c30-6e29-4ba2-b7f8-e8a10752681a"
   },
   "outputs": [
    {
     "name": "stdout",
     "output_type": "stream",
     "text": [
      "LSTM_Model_rnn(\n",
      "  (embedding): Embedding(232385, 100, padding_idx=0)\n",
      "  (rnn): LSTM(100, 100, batch_first=True, bidirectional=True)\n",
      "  (l1): Linear(in_features=100, out_features=250, bias=True)\n",
      "  (l2): Linear(in_features=250, out_features=103, bias=True)\n",
      ")\n"
     ]
    }
   ],
   "source": [
    "print(model_rnn)"
   ]
  },
  {
   "cell_type": "code",
   "execution_count": 0,
   "metadata": {
    "colab": {},
    "colab_type": "code",
    "id": "xCT68ra3g-nd"
   },
   "outputs": [],
   "source": [
    "#Function to transform the output of the model base on acceptable threshold\n",
    "def changedata(x):\n",
    "    return 1*(x>0.5)"
   ]
  },
  {
   "cell_type": "code",
   "execution_count": 120,
   "metadata": {
    "colab": {
     "base_uri": "https://localhost:8080/",
     "height": 119
    },
    "colab_type": "code",
    "executionInfo": {
     "elapsed": 963,
     "status": "ok",
     "timestamp": 1590310911528,
     "user": {
      "displayName": "abiodun gold",
      "photoUrl": "https://lh3.googleusercontent.com/a-/AOh14GhJUHEg-9pYnAgHQWqSXEmr3MAJAkjXOhr6y-vFtg=s64",
      "userId": "04483878048487360383"
     },
     "user_tz": -180
    },
    "id": "13FjwSsahv3M",
    "outputId": "253bb1d9-604e-4c35-a768-3d488e527a10"
   },
   "outputs": [
    {
     "data": {
      "text/plain": [
       "LSTM_Model_rnn(\n",
       "  (embedding): Embedding(232385, 100, padding_idx=0)\n",
       "  (rnn): LSTM(100, 100, batch_first=True, bidirectional=True)\n",
       "  (l1): Linear(in_features=100, out_features=250, bias=True)\n",
       "  (l2): Linear(in_features=250, out_features=103, bias=True)\n",
       ")"
      ]
     },
     "execution_count": 120,
     "metadata": {
      "tags": []
     },
     "output_type": "execute_result"
    }
   ],
   "source": [
    "model_rnn.to(device)"
   ]
  },
  {
   "cell_type": "code",
   "execution_count": 0,
   "metadata": {
    "colab": {},
    "colab_type": "code",
    "id": "sbjtIicnauot"
   },
   "outputs": [],
   "source": [
    "def train_rnn(epoch,log_interval=100):\n",
    "\n",
    " \n",
    "    model_rnn.train()\n",
    "    for batch_idx, (data_rnn, target_rnn) in enumerate(train_loader):\n",
    "          \n",
    "        data_rnn= data_rnn.to(device)\n",
    "        target_rnn = target_rnn.to(device)\n",
    "        target_rnn= target_rnn.float()\n",
    "        data_rnn = data_rnn.long()\n",
    "        optimizer_rnn.zero_grad()\n",
    "        output_rnn = model_rnn(data_rnn)\n",
    "          \n",
    "        loss = criterion_rnn(output_rnn, target_rnn)\n",
    "          \n",
    "        loss.backward()\n",
    "\n",
    "        optimizer_rnn.step()     \n",
    "        #break\n",
    "        if batch_idx % log_interval == 0:\n",
    "            print('Train Epoch: {} [{}/{} ({:.1f}%)]\\tLoss: {:.6f}'.format(\n",
    "                epoch, batch_idx * len(data_rnn), len(train_loader.dataset),\n",
    "                100. * batch_idx / len(train_loader), loss.data.item()))"
   ]
  },
  {
   "cell_type": "code",
   "execution_count": 0,
   "metadata": {
    "colab": {},
    "colab_type": "code",
    "id": "lA3XkgrAawgD"
   },
   "outputs": [],
   "source": [
    "def validate_rnn(loss_vector, f1_score_vector):\n",
    "    model_rnn.eval()\n",
    "    i = 0\n",
    "    val_loss, val_f1 = 0, 0\n",
    "    for data, target in valid_loader:\n",
    "        data = data.to(device)\n",
    "        target = target.to(device)\n",
    "        target= target.float()\n",
    "        data = data.long()\n",
    "        output = model_rnn(data)\n",
    "        val_loss += criterion_rnn(output, target).data.item()\n",
    "        output_val= np.array(changedata(output).cpu().detach())[0]\n",
    "        target_val = np.array(changedata(target).cpu().detach())[0]\n",
    "        val_f1  += f1_score(target_val,output_val, average='micro')\n",
    "\n",
    "\n",
    "       \n",
    "    val_loss /= len(valid_loader)\n",
    "    loss_vector.append(val_loss)\n",
    "\n",
    "    f1_score_val = val_f1 / len(valid_loader)\n",
    "    f1_score_vector.append(f1_score_val)\n",
    "    print('\\nValidation set: Average loss: {:.4f}, Average F1 Score: {:.2f}\\n'.format(val_loss,  f1_score_val))"
   ]
  },
  {
   "cell_type": "markdown",
   "metadata": {
    "colab_type": "text",
    "id": "8P_6ATSO5PEa"
   },
   "source": [
    "### #**Training** the model and evaluating on the valid dataset to ensure the model is not overfitting"
   ]
  },
  {
   "cell_type": "code",
   "execution_count": 123,
   "metadata": {
    "colab": {
     "base_uri": "https://localhost:8080/",
     "height": 1000
    },
    "colab_type": "code",
    "executionInfo": {
     "elapsed": 1746045,
     "status": "ok",
     "timestamp": 1590312667374,
     "user": {
      "displayName": "abiodun gold",
      "photoUrl": "https://lh3.googleusercontent.com/a-/AOh14GhJUHEg-9pYnAgHQWqSXEmr3MAJAkjXOhr6y-vFtg=s64",
      "userId": "04483878048487360383"
     },
     "user_tz": -180
    },
    "id": "4xuZcrVvaz0t",
    "outputId": "bfd41c14-a3c9-4751-bd57-666df79abfea"
   },
   "outputs": [
    {
     "name": "stdout",
     "output_type": "stream",
     "text": [
      "Train Epoch: 1 [0/239818 (0.0%)]\tLoss: 0.248980\n",
      "Train Epoch: 1 [3200/239818 (1.3%)]\tLoss: 0.030046\n",
      "Train Epoch: 1 [6400/239818 (2.7%)]\tLoss: 0.025983\n",
      "Train Epoch: 1 [9600/239818 (4.0%)]\tLoss: 0.026397\n",
      "Train Epoch: 1 [12800/239818 (5.3%)]\tLoss: 0.022196\n",
      "Train Epoch: 1 [16000/239818 (6.7%)]\tLoss: 0.017921\n",
      "Train Epoch: 1 [19200/239818 (8.0%)]\tLoss: 0.020270\n",
      "Train Epoch: 1 [22400/239818 (9.3%)]\tLoss: 0.016881\n",
      "Train Epoch: 1 [25600/239818 (10.7%)]\tLoss: 0.018571\n",
      "Train Epoch: 1 [28800/239818 (12.0%)]\tLoss: 0.015005\n",
      "Train Epoch: 1 [32000/239818 (13.3%)]\tLoss: 0.014804\n",
      "Train Epoch: 1 [35200/239818 (14.7%)]\tLoss: 0.015068\n",
      "Train Epoch: 1 [38400/239818 (16.0%)]\tLoss: 0.010974\n",
      "Train Epoch: 1 [41600/239818 (17.3%)]\tLoss: 0.012843\n",
      "Train Epoch: 1 [44800/239818 (18.7%)]\tLoss: 0.014239\n",
      "Train Epoch: 1 [48000/239818 (20.0%)]\tLoss: 0.014386\n",
      "Train Epoch: 1 [51200/239818 (21.3%)]\tLoss: 0.014039\n",
      "Train Epoch: 1 [54400/239818 (22.7%)]\tLoss: 0.012084\n",
      "Train Epoch: 1 [57600/239818 (24.0%)]\tLoss: 0.011143\n",
      "Train Epoch: 1 [60800/239818 (25.4%)]\tLoss: 0.011945\n",
      "Train Epoch: 1 [64000/239818 (26.7%)]\tLoss: 0.014665\n",
      "Train Epoch: 1 [67200/239818 (28.0%)]\tLoss: 0.010502\n",
      "Train Epoch: 1 [70400/239818 (29.4%)]\tLoss: 0.012837\n",
      "Train Epoch: 1 [73600/239818 (30.7%)]\tLoss: 0.007532\n",
      "Train Epoch: 1 [76800/239818 (32.0%)]\tLoss: 0.011305\n",
      "Train Epoch: 1 [80000/239818 (33.4%)]\tLoss: 0.008840\n",
      "Train Epoch: 1 [83200/239818 (34.7%)]\tLoss: 0.008878\n",
      "Train Epoch: 1 [86400/239818 (36.0%)]\tLoss: 0.009034\n",
      "Train Epoch: 1 [89600/239818 (37.4%)]\tLoss: 0.006812\n",
      "Train Epoch: 1 [92800/239818 (38.7%)]\tLoss: 0.009144\n",
      "Train Epoch: 1 [96000/239818 (40.0%)]\tLoss: 0.010993\n",
      "Train Epoch: 1 [99200/239818 (41.4%)]\tLoss: 0.008937\n",
      "Train Epoch: 1 [102400/239818 (42.7%)]\tLoss: 0.010494\n",
      "Train Epoch: 1 [105600/239818 (44.0%)]\tLoss: 0.009950\n",
      "Train Epoch: 1 [108800/239818 (45.4%)]\tLoss: 0.009681\n",
      "Train Epoch: 1 [112000/239818 (46.7%)]\tLoss: 0.011057\n",
      "Train Epoch: 1 [115200/239818 (48.0%)]\tLoss: 0.011436\n",
      "Train Epoch: 1 [118400/239818 (49.4%)]\tLoss: 0.011229\n",
      "Train Epoch: 1 [121600/239818 (50.7%)]\tLoss: 0.006630\n",
      "Train Epoch: 1 [124800/239818 (52.0%)]\tLoss: 0.004785\n",
      "Train Epoch: 1 [128000/239818 (53.4%)]\tLoss: 0.007320\n",
      "Train Epoch: 1 [131200/239818 (54.7%)]\tLoss: 0.006076\n",
      "Train Epoch: 1 [134400/239818 (56.0%)]\tLoss: 0.006037\n",
      "Train Epoch: 1 [137600/239818 (57.4%)]\tLoss: 0.006904\n",
      "Train Epoch: 1 [140800/239818 (58.7%)]\tLoss: 0.008633\n",
      "Train Epoch: 1 [144000/239818 (60.0%)]\tLoss: 0.010189\n",
      "Train Epoch: 1 [147200/239818 (61.4%)]\tLoss: 0.010097\n",
      "Train Epoch: 1 [150400/239818 (62.7%)]\tLoss: 0.006885\n",
      "Train Epoch: 1 [153600/239818 (64.0%)]\tLoss: 0.009963\n",
      "Train Epoch: 1 [156800/239818 (65.4%)]\tLoss: 0.009305\n",
      "Train Epoch: 1 [160000/239818 (66.7%)]\tLoss: 0.013841\n",
      "Train Epoch: 1 [163200/239818 (68.0%)]\tLoss: 0.006097\n",
      "Train Epoch: 1 [166400/239818 (69.4%)]\tLoss: 0.006856\n",
      "Train Epoch: 1 [169600/239818 (70.7%)]\tLoss: 0.008875\n",
      "Train Epoch: 1 [172800/239818 (72.0%)]\tLoss: 0.011100\n",
      "Train Epoch: 1 [176000/239818 (73.4%)]\tLoss: 0.006159\n",
      "Train Epoch: 1 [179200/239818 (74.7%)]\tLoss: 0.009889\n",
      "Train Epoch: 1 [182400/239818 (76.1%)]\tLoss: 0.013284\n",
      "Train Epoch: 1 [185600/239818 (77.4%)]\tLoss: 0.006358\n",
      "Train Epoch: 1 [188800/239818 (78.7%)]\tLoss: 0.006298\n",
      "Train Epoch: 1 [192000/239818 (80.1%)]\tLoss: 0.007375\n",
      "Train Epoch: 1 [195200/239818 (81.4%)]\tLoss: 0.007268\n",
      "Train Epoch: 1 [198400/239818 (82.7%)]\tLoss: 0.008311\n",
      "Train Epoch: 1 [201600/239818 (84.1%)]\tLoss: 0.008442\n",
      "Train Epoch: 1 [204800/239818 (85.4%)]\tLoss: 0.005251\n",
      "Train Epoch: 1 [208000/239818 (86.7%)]\tLoss: 0.003819\n",
      "Train Epoch: 1 [211200/239818 (88.1%)]\tLoss: 0.006755\n",
      "Train Epoch: 1 [214400/239818 (89.4%)]\tLoss: 0.006010\n",
      "Train Epoch: 1 [217600/239818 (90.7%)]\tLoss: 0.009864\n",
      "Train Epoch: 1 [220800/239818 (92.1%)]\tLoss: 0.007889\n",
      "Train Epoch: 1 [224000/239818 (93.4%)]\tLoss: 0.006900\n",
      "Train Epoch: 1 [227200/239818 (94.7%)]\tLoss: 0.007725\n",
      "Train Epoch: 1 [230400/239818 (96.1%)]\tLoss: 0.014422\n",
      "Train Epoch: 1 [233600/239818 (97.4%)]\tLoss: 0.008131\n",
      "Train Epoch: 1 [236800/239818 (98.7%)]\tLoss: 0.012010\n",
      "\n",
      "Validation set: Average loss: 0.0076, Average F1 Score: 0.99\n",
      "\n",
      "Train Epoch: 2 [0/239818 (0.0%)]\tLoss: 0.006679\n",
      "Train Epoch: 2 [3200/239818 (1.3%)]\tLoss: 0.010810\n",
      "Train Epoch: 2 [6400/239818 (2.7%)]\tLoss: 0.006362\n",
      "Train Epoch: 2 [9600/239818 (4.0%)]\tLoss: 0.008600\n",
      "Train Epoch: 2 [12800/239818 (5.3%)]\tLoss: 0.012027\n",
      "Train Epoch: 2 [16000/239818 (6.7%)]\tLoss: 0.006205\n",
      "Train Epoch: 2 [19200/239818 (8.0%)]\tLoss: 0.009789\n",
      "Train Epoch: 2 [22400/239818 (9.3%)]\tLoss: 0.007931\n",
      "Train Epoch: 2 [25600/239818 (10.7%)]\tLoss: 0.007840\n",
      "Train Epoch: 2 [28800/239818 (12.0%)]\tLoss: 0.006124\n",
      "Train Epoch: 2 [32000/239818 (13.3%)]\tLoss: 0.006959\n",
      "Train Epoch: 2 [35200/239818 (14.7%)]\tLoss: 0.005856\n",
      "Train Epoch: 2 [38400/239818 (16.0%)]\tLoss: 0.005110\n",
      "Train Epoch: 2 [41600/239818 (17.3%)]\tLoss: 0.007054\n",
      "Train Epoch: 2 [44800/239818 (18.7%)]\tLoss: 0.008089\n",
      "Train Epoch: 2 [48000/239818 (20.0%)]\tLoss: 0.007074\n",
      "Train Epoch: 2 [51200/239818 (21.3%)]\tLoss: 0.009051\n",
      "Train Epoch: 2 [54400/239818 (22.7%)]\tLoss: 0.007319\n",
      "Train Epoch: 2 [57600/239818 (24.0%)]\tLoss: 0.007085\n",
      "Train Epoch: 2 [60800/239818 (25.4%)]\tLoss: 0.006209\n",
      "Train Epoch: 2 [64000/239818 (26.7%)]\tLoss: 0.009381\n",
      "Train Epoch: 2 [67200/239818 (28.0%)]\tLoss: 0.006300\n",
      "Train Epoch: 2 [70400/239818 (29.4%)]\tLoss: 0.010843\n",
      "Train Epoch: 2 [73600/239818 (30.7%)]\tLoss: 0.004869\n",
      "Train Epoch: 2 [76800/239818 (32.0%)]\tLoss: 0.008098\n",
      "Train Epoch: 2 [80000/239818 (33.4%)]\tLoss: 0.005519\n",
      "Train Epoch: 2 [83200/239818 (34.7%)]\tLoss: 0.003650\n",
      "Train Epoch: 2 [86400/239818 (36.0%)]\tLoss: 0.006466\n",
      "Train Epoch: 2 [89600/239818 (37.4%)]\tLoss: 0.004333\n",
      "Train Epoch: 2 [92800/239818 (38.7%)]\tLoss: 0.006102\n",
      "Train Epoch: 2 [96000/239818 (40.0%)]\tLoss: 0.008446\n",
      "Train Epoch: 2 [99200/239818 (41.4%)]\tLoss: 0.006519\n",
      "Train Epoch: 2 [102400/239818 (42.7%)]\tLoss: 0.006587\n",
      "Train Epoch: 2 [105600/239818 (44.0%)]\tLoss: 0.006636\n",
      "Train Epoch: 2 [108800/239818 (45.4%)]\tLoss: 0.007131\n",
      "Train Epoch: 2 [112000/239818 (46.7%)]\tLoss: 0.007788\n",
      "Train Epoch: 2 [115200/239818 (48.0%)]\tLoss: 0.006883\n",
      "Train Epoch: 2 [118400/239818 (49.4%)]\tLoss: 0.008764\n",
      "Train Epoch: 2 [121600/239818 (50.7%)]\tLoss: 0.004240\n",
      "Train Epoch: 2 [124800/239818 (52.0%)]\tLoss: 0.004315\n",
      "Train Epoch: 2 [128000/239818 (53.4%)]\tLoss: 0.004526\n",
      "Train Epoch: 2 [131200/239818 (54.7%)]\tLoss: 0.004305\n",
      "Train Epoch: 2 [134400/239818 (56.0%)]\tLoss: 0.004496\n",
      "Train Epoch: 2 [137600/239818 (57.4%)]\tLoss: 0.005639\n",
      "Train Epoch: 2 [140800/239818 (58.7%)]\tLoss: 0.007018\n",
      "Train Epoch: 2 [144000/239818 (60.0%)]\tLoss: 0.008648\n",
      "Train Epoch: 2 [147200/239818 (61.4%)]\tLoss: 0.006613\n",
      "Train Epoch: 2 [150400/239818 (62.7%)]\tLoss: 0.005412\n",
      "Train Epoch: 2 [153600/239818 (64.0%)]\tLoss: 0.007834\n",
      "Train Epoch: 2 [156800/239818 (65.4%)]\tLoss: 0.006442\n",
      "Train Epoch: 2 [160000/239818 (66.7%)]\tLoss: 0.012388\n",
      "Train Epoch: 2 [163200/239818 (68.0%)]\tLoss: 0.004509\n",
      "Train Epoch: 2 [166400/239818 (69.4%)]\tLoss: 0.005598\n",
      "Train Epoch: 2 [169600/239818 (70.7%)]\tLoss: 0.007318\n",
      "Train Epoch: 2 [172800/239818 (72.0%)]\tLoss: 0.010196\n",
      "Train Epoch: 2 [176000/239818 (73.4%)]\tLoss: 0.005474\n",
      "Train Epoch: 2 [179200/239818 (74.7%)]\tLoss: 0.008559\n",
      "Train Epoch: 2 [182400/239818 (76.1%)]\tLoss: 0.008792\n",
      "Train Epoch: 2 [185600/239818 (77.4%)]\tLoss: 0.004792\n",
      "Train Epoch: 2 [188800/239818 (78.7%)]\tLoss: 0.004802\n",
      "Train Epoch: 2 [192000/239818 (80.1%)]\tLoss: 0.005469\n",
      "Train Epoch: 2 [195200/239818 (81.4%)]\tLoss: 0.005296\n",
      "Train Epoch: 2 [198400/239818 (82.7%)]\tLoss: 0.006995\n",
      "Train Epoch: 2 [201600/239818 (84.1%)]\tLoss: 0.006429\n",
      "Train Epoch: 2 [204800/239818 (85.4%)]\tLoss: 0.005231\n",
      "Train Epoch: 2 [208000/239818 (86.7%)]\tLoss: 0.003127\n",
      "Train Epoch: 2 [211200/239818 (88.1%)]\tLoss: 0.005713\n",
      "Train Epoch: 2 [214400/239818 (89.4%)]\tLoss: 0.004333\n",
      "Train Epoch: 2 [217600/239818 (90.7%)]\tLoss: 0.007845\n",
      "Train Epoch: 2 [220800/239818 (92.1%)]\tLoss: 0.005633\n",
      "Train Epoch: 2 [224000/239818 (93.4%)]\tLoss: 0.005869\n",
      "Train Epoch: 2 [227200/239818 (94.7%)]\tLoss: 0.006226\n",
      "Train Epoch: 2 [230400/239818 (96.1%)]\tLoss: 0.011762\n",
      "Train Epoch: 2 [233600/239818 (97.4%)]\tLoss: 0.006707\n",
      "Train Epoch: 2 [236800/239818 (98.7%)]\tLoss: 0.009091\n",
      "\n",
      "Validation set: Average loss: 0.0068, Average F1 Score: 0.99\n",
      "\n",
      "Train Epoch: 3 [0/239818 (0.0%)]\tLoss: 0.006252\n",
      "Train Epoch: 3 [3200/239818 (1.3%)]\tLoss: 0.008605\n",
      "Train Epoch: 3 [6400/239818 (2.7%)]\tLoss: 0.004560\n",
      "Train Epoch: 3 [9600/239818 (4.0%)]\tLoss: 0.007109\n",
      "Train Epoch: 3 [12800/239818 (5.3%)]\tLoss: 0.010018\n",
      "Train Epoch: 3 [16000/239818 (6.7%)]\tLoss: 0.004697\n",
      "Train Epoch: 3 [19200/239818 (8.0%)]\tLoss: 0.007957\n",
      "Train Epoch: 3 [22400/239818 (9.3%)]\tLoss: 0.007137\n",
      "Train Epoch: 3 [25600/239818 (10.7%)]\tLoss: 0.007283\n",
      "Train Epoch: 3 [28800/239818 (12.0%)]\tLoss: 0.005626\n",
      "Train Epoch: 3 [32000/239818 (13.3%)]\tLoss: 0.005473\n",
      "Train Epoch: 3 [35200/239818 (14.7%)]\tLoss: 0.005189\n",
      "Train Epoch: 3 [38400/239818 (16.0%)]\tLoss: 0.004478\n",
      "Train Epoch: 3 [41600/239818 (17.3%)]\tLoss: 0.005585\n",
      "Train Epoch: 3 [44800/239818 (18.7%)]\tLoss: 0.006281\n",
      "Train Epoch: 3 [48000/239818 (20.0%)]\tLoss: 0.006557\n",
      "Train Epoch: 3 [51200/239818 (21.3%)]\tLoss: 0.008177\n",
      "Train Epoch: 3 [54400/239818 (22.7%)]\tLoss: 0.006878\n",
      "Train Epoch: 3 [57600/239818 (24.0%)]\tLoss: 0.005991\n",
      "Train Epoch: 3 [60800/239818 (25.4%)]\tLoss: 0.004714\n",
      "Train Epoch: 3 [64000/239818 (26.7%)]\tLoss: 0.008228\n",
      "Train Epoch: 3 [67200/239818 (28.0%)]\tLoss: 0.005049\n",
      "Train Epoch: 3 [70400/239818 (29.4%)]\tLoss: 0.010200\n",
      "Train Epoch: 3 [73600/239818 (30.7%)]\tLoss: 0.003900\n",
      "Train Epoch: 3 [76800/239818 (32.0%)]\tLoss: 0.006562\n",
      "Train Epoch: 3 [80000/239818 (33.4%)]\tLoss: 0.004030\n",
      "Train Epoch: 3 [83200/239818 (34.7%)]\tLoss: 0.002917\n",
      "Train Epoch: 3 [86400/239818 (36.0%)]\tLoss: 0.005293\n",
      "Train Epoch: 3 [89600/239818 (37.4%)]\tLoss: 0.004590\n",
      "Train Epoch: 3 [92800/239818 (38.7%)]\tLoss: 0.005234\n",
      "Train Epoch: 3 [96000/239818 (40.0%)]\tLoss: 0.006766\n",
      "Train Epoch: 3 [99200/239818 (41.4%)]\tLoss: 0.006239\n",
      "Train Epoch: 3 [102400/239818 (42.7%)]\tLoss: 0.006162\n",
      "Train Epoch: 3 [105600/239818 (44.0%)]\tLoss: 0.005791\n",
      "Train Epoch: 3 [108800/239818 (45.4%)]\tLoss: 0.006347\n",
      "Train Epoch: 3 [112000/239818 (46.7%)]\tLoss: 0.007031\n",
      "Train Epoch: 3 [115200/239818 (48.0%)]\tLoss: 0.006662\n",
      "Train Epoch: 3 [118400/239818 (49.4%)]\tLoss: 0.007580\n",
      "Train Epoch: 3 [121600/239818 (50.7%)]\tLoss: 0.003282\n",
      "Train Epoch: 3 [124800/239818 (52.0%)]\tLoss: 0.002826\n",
      "Train Epoch: 3 [128000/239818 (53.4%)]\tLoss: 0.003727\n",
      "Train Epoch: 3 [131200/239818 (54.7%)]\tLoss: 0.003998\n",
      "Train Epoch: 3 [134400/239818 (56.0%)]\tLoss: 0.004431\n",
      "Train Epoch: 3 [137600/239818 (57.4%)]\tLoss: 0.005123\n",
      "Train Epoch: 3 [140800/239818 (58.7%)]\tLoss: 0.005921\n",
      "Train Epoch: 3 [144000/239818 (60.0%)]\tLoss: 0.007731\n",
      "Train Epoch: 3 [147200/239818 (61.4%)]\tLoss: 0.005866\n",
      "Train Epoch: 3 [150400/239818 (62.7%)]\tLoss: 0.004316\n",
      "Train Epoch: 3 [153600/239818 (64.0%)]\tLoss: 0.006551\n",
      "Train Epoch: 3 [156800/239818 (65.4%)]\tLoss: 0.006220\n",
      "Train Epoch: 3 [160000/239818 (66.7%)]\tLoss: 0.011094\n",
      "Train Epoch: 3 [163200/239818 (68.0%)]\tLoss: 0.003411\n",
      "Train Epoch: 3 [166400/239818 (69.4%)]\tLoss: 0.004325\n",
      "Train Epoch: 3 [169600/239818 (70.7%)]\tLoss: 0.006834\n",
      "Train Epoch: 3 [172800/239818 (72.0%)]\tLoss: 0.008834\n",
      "Train Epoch: 3 [176000/239818 (73.4%)]\tLoss: 0.004904\n",
      "Train Epoch: 3 [179200/239818 (74.7%)]\tLoss: 0.008121\n",
      "Train Epoch: 3 [182400/239818 (76.1%)]\tLoss: 0.007686\n",
      "Train Epoch: 3 [185600/239818 (77.4%)]\tLoss: 0.004489\n",
      "Train Epoch: 3 [188800/239818 (78.7%)]\tLoss: 0.003893\n",
      "Train Epoch: 3 [192000/239818 (80.1%)]\tLoss: 0.004877\n",
      "Train Epoch: 3 [195200/239818 (81.4%)]\tLoss: 0.004131\n",
      "Train Epoch: 3 [198400/239818 (82.7%)]\tLoss: 0.006365\n",
      "Train Epoch: 3 [201600/239818 (84.1%)]\tLoss: 0.007192\n",
      "Train Epoch: 3 [204800/239818 (85.4%)]\tLoss: 0.004549\n",
      "Train Epoch: 3 [208000/239818 (86.7%)]\tLoss: 0.002585\n",
      "Train Epoch: 3 [211200/239818 (88.1%)]\tLoss: 0.005273\n",
      "Train Epoch: 3 [214400/239818 (89.4%)]\tLoss: 0.003892\n",
      "Train Epoch: 3 [217600/239818 (90.7%)]\tLoss: 0.007117\n",
      "Train Epoch: 3 [220800/239818 (92.1%)]\tLoss: 0.004200\n",
      "Train Epoch: 3 [224000/239818 (93.4%)]\tLoss: 0.005184\n",
      "Train Epoch: 3 [227200/239818 (94.7%)]\tLoss: 0.005165\n",
      "Train Epoch: 3 [230400/239818 (96.1%)]\tLoss: 0.009687\n",
      "Train Epoch: 3 [233600/239818 (97.4%)]\tLoss: 0.005076\n",
      "Train Epoch: 3 [236800/239818 (98.7%)]\tLoss: 0.008175\n",
      "\n",
      "Validation set: Average loss: 0.0067, Average F1 Score: 0.99\n",
      "\n",
      "CPU times: user 27min 20s, sys: 1min 35s, total: 28min 56s\n",
      "Wall time: 29min 4s\n"
     ]
    }
   ],
   "source": [
    "\n",
    "%%time\n",
    "epochs = 3\n",
    "\n",
    "lossv, accv = [], []\n",
    "for epoch in range(1, epochs + 1):\n",
    "    train_rnn(epoch)\n",
    "    validate_rnn(lossv, accv)"
   ]
  },
  {
   "cell_type": "markdown",
   "metadata": {
    "colab_type": "text",
    "id": "9S8FdMuL_1Pf"
   },
   "source": [
    "## **Train all the dataset** "
   ]
  },
  {
   "cell_type": "code",
   "execution_count": 0,
   "metadata": {
    "colab": {},
    "colab_type": "code",
    "id": "9ueddwH-AEWw"
   },
   "outputs": [],
   "source": [
    "x_input, y_input = tokenize_data(df, x_encoder, y_encoder)"
   ]
  },
  {
   "cell_type": "code",
   "execution_count": 0,
   "metadata": {
    "colab": {},
    "colab_type": "code",
    "id": "0XkseolPANwc"
   },
   "outputs": [],
   "source": [
    "train_ds = createDataset(x_input,y_input)"
   ]
  },
  {
   "cell_type": "code",
   "execution_count": 0,
   "metadata": {
    "colab": {},
    "colab_type": "code",
    "id": "biaiJLaGAWBE"
   },
   "outputs": [],
   "source": [
    "train_loader = DataLoader(train_ds, batch_size = 32)"
   ]
  },
  {
   "cell_type": "code",
   "execution_count": 0,
   "metadata": {
    "colab": {},
    "colab_type": "code",
    "id": "RdLVpo9sAeKe"
   },
   "outputs": [],
   "source": [
    "total_words = len(x_encoder.word_index)+1\n",
    "\n",
    "model_rnn = LSTM_Model_rnn(total_words,100,100,y_input.shape[1])\n",
    "optimizer_rnn = torch.optim.Adam(model_rnn.parameters(), lr=0.001)\n",
    "criterion_rnn = nn.MSELoss()"
   ]
  },
  {
   "cell_type": "code",
   "execution_count": 150,
   "metadata": {
    "colab": {
     "base_uri": "https://localhost:8080/",
     "height": 119
    },
    "colab_type": "code",
    "executionInfo": {
     "elapsed": 1121,
     "status": "ok",
     "timestamp": 1590313139810,
     "user": {
      "displayName": "abiodun gold",
      "photoUrl": "https://lh3.googleusercontent.com/a-/AOh14GhJUHEg-9pYnAgHQWqSXEmr3MAJAkjXOhr6y-vFtg=s64",
      "userId": "04483878048487360383"
     },
     "user_tz": -180
    },
    "id": "7pLH0XvDAjx9",
    "outputId": "0e1e96b1-3214-41d8-de95-9fc1f853183e"
   },
   "outputs": [
    {
     "data": {
      "text/plain": [
       "LSTM_Model_rnn(\n",
       "  (embedding): Embedding(232385, 100, padding_idx=0)\n",
       "  (rnn): LSTM(100, 100, batch_first=True, bidirectional=True)\n",
       "  (l1): Linear(in_features=100, out_features=250, bias=True)\n",
       "  (l2): Linear(in_features=250, out_features=103, bias=True)\n",
       ")"
      ]
     },
     "execution_count": 150,
     "metadata": {
      "tags": []
     },
     "output_type": "execute_result"
    }
   ],
   "source": [
    "model_rnn.to(device)"
   ]
  },
  {
   "cell_type": "code",
   "execution_count": 151,
   "metadata": {
    "colab": {
     "base_uri": "https://localhost:8080/",
     "height": 1000
    },
    "colab_type": "code",
    "executionInfo": {
     "elapsed": 1952845,
     "status": "ok",
     "timestamp": 1590315096239,
     "user": {
      "displayName": "abiodun gold",
      "photoUrl": "https://lh3.googleusercontent.com/a-/AOh14GhJUHEg-9pYnAgHQWqSXEmr3MAJAkjXOhr6y-vFtg=s64",
      "userId": "04483878048487360383"
     },
     "user_tz": -180
    },
    "id": "yRlGdxTIApJu",
    "outputId": "f2dc363e-48a3-4eec-8c9c-9fdfea568618"
   },
   "outputs": [
    {
     "name": "stdout",
     "output_type": "stream",
     "text": [
      "Train Epoch: 1 [0/299773 (0.0%)]\tLoss: 0.249601\n",
      "Train Epoch: 1 [3200/299773 (1.1%)]\tLoss: 0.033912\n",
      "Train Epoch: 1 [6400/299773 (2.1%)]\tLoss: 0.024154\n",
      "Train Epoch: 1 [9600/299773 (3.2%)]\tLoss: 0.023276\n",
      "Train Epoch: 1 [12800/299773 (4.3%)]\tLoss: 0.029888\n",
      "Train Epoch: 1 [16000/299773 (5.3%)]\tLoss: 0.023886\n",
      "Train Epoch: 1 [19200/299773 (6.4%)]\tLoss: 0.019100\n",
      "Train Epoch: 1 [22400/299773 (7.5%)]\tLoss: 0.024081\n",
      "Train Epoch: 1 [25600/299773 (8.5%)]\tLoss: 0.024542\n",
      "Train Epoch: 1 [28800/299773 (9.6%)]\tLoss: 0.019877\n",
      "Train Epoch: 1 [32000/299773 (10.7%)]\tLoss: 0.019947\n",
      "Train Epoch: 1 [35200/299773 (11.7%)]\tLoss: 0.012655\n",
      "Train Epoch: 1 [38400/299773 (12.8%)]\tLoss: 0.019823\n",
      "Train Epoch: 1 [41600/299773 (13.9%)]\tLoss: 0.023033\n",
      "Train Epoch: 1 [44800/299773 (14.9%)]\tLoss: 0.017032\n",
      "Train Epoch: 1 [48000/299773 (16.0%)]\tLoss: 0.010528\n",
      "Train Epoch: 1 [51200/299773 (17.1%)]\tLoss: 0.012910\n",
      "Train Epoch: 1 [54400/299773 (18.1%)]\tLoss: 0.010762\n",
      "Train Epoch: 1 [57600/299773 (19.2%)]\tLoss: 0.003256\n",
      "Train Epoch: 1 [60800/299773 (20.3%)]\tLoss: 0.012080\n",
      "Train Epoch: 1 [64000/299773 (21.3%)]\tLoss: 0.012344\n",
      "Train Epoch: 1 [67200/299773 (22.4%)]\tLoss: 0.010247\n",
      "Train Epoch: 1 [70400/299773 (23.5%)]\tLoss: 0.009532\n",
      "Train Epoch: 1 [73600/299773 (24.6%)]\tLoss: 0.019143\n",
      "Train Epoch: 1 [76800/299773 (25.6%)]\tLoss: 0.005369\n",
      "Train Epoch: 1 [80000/299773 (26.7%)]\tLoss: 0.018132\n",
      "Train Epoch: 1 [83200/299773 (27.8%)]\tLoss: 0.012139\n",
      "Train Epoch: 1 [86400/299773 (28.8%)]\tLoss: 0.019968\n",
      "Train Epoch: 1 [89600/299773 (29.9%)]\tLoss: 0.011339\n",
      "Train Epoch: 1 [92800/299773 (31.0%)]\tLoss: 0.008526\n",
      "Train Epoch: 1 [96000/299773 (32.0%)]\tLoss: 0.014513\n",
      "Train Epoch: 1 [99200/299773 (33.1%)]\tLoss: 0.021017\n",
      "Train Epoch: 1 [102400/299773 (34.2%)]\tLoss: 0.017446\n",
      "Train Epoch: 1 [105600/299773 (35.2%)]\tLoss: 0.012562\n",
      "Train Epoch: 1 [108800/299773 (36.3%)]\tLoss: 0.008239\n",
      "Train Epoch: 1 [112000/299773 (37.4%)]\tLoss: 0.009582\n",
      "Train Epoch: 1 [115200/299773 (38.4%)]\tLoss: 0.009990\n",
      "Train Epoch: 1 [118400/299773 (39.5%)]\tLoss: 0.014499\n",
      "Train Epoch: 1 [121600/299773 (40.6%)]\tLoss: 0.000933\n",
      "Train Epoch: 1 [124800/299773 (41.6%)]\tLoss: 0.008016\n",
      "Train Epoch: 1 [128000/299773 (42.7%)]\tLoss: 0.010603\n",
      "Train Epoch: 1 [131200/299773 (43.8%)]\tLoss: 0.013365\n",
      "Train Epoch: 1 [134400/299773 (44.8%)]\tLoss: 0.010503\n",
      "Train Epoch: 1 [137600/299773 (45.9%)]\tLoss: 0.008437\n",
      "Train Epoch: 1 [140800/299773 (47.0%)]\tLoss: 0.012491\n",
      "Train Epoch: 1 [144000/299773 (48.0%)]\tLoss: 0.010552\n",
      "Train Epoch: 1 [147200/299773 (49.1%)]\tLoss: 0.012732\n",
      "Train Epoch: 1 [150400/299773 (50.2%)]\tLoss: 0.013575\n",
      "Train Epoch: 1 [153600/299773 (51.2%)]\tLoss: 0.008260\n",
      "Train Epoch: 1 [156800/299773 (52.3%)]\tLoss: 0.014365\n",
      "Train Epoch: 1 [160000/299773 (53.4%)]\tLoss: 0.001233\n",
      "Train Epoch: 1 [163200/299773 (54.4%)]\tLoss: 0.008300\n",
      "Train Epoch: 1 [166400/299773 (55.5%)]\tLoss: 0.016107\n",
      "Train Epoch: 1 [169600/299773 (56.6%)]\tLoss: 0.005383\n",
      "Train Epoch: 1 [172800/299773 (57.6%)]\tLoss: 0.010886\n",
      "Train Epoch: 1 [176000/299773 (58.7%)]\tLoss: 0.002481\n",
      "Train Epoch: 1 [179200/299773 (59.8%)]\tLoss: 0.010312\n",
      "Train Epoch: 1 [182400/299773 (60.8%)]\tLoss: 0.016907\n",
      "Train Epoch: 1 [185600/299773 (61.9%)]\tLoss: 0.016841\n",
      "Train Epoch: 1 [188800/299773 (63.0%)]\tLoss: 0.019005\n",
      "Train Epoch: 1 [192000/299773 (64.0%)]\tLoss: 0.005910\n",
      "Train Epoch: 1 [195200/299773 (65.1%)]\tLoss: 0.008636\n",
      "Train Epoch: 1 [198400/299773 (66.2%)]\tLoss: 0.011042\n",
      "Train Epoch: 1 [201600/299773 (67.3%)]\tLoss: 0.015858\n",
      "Train Epoch: 1 [204800/299773 (68.3%)]\tLoss: 0.014985\n",
      "Train Epoch: 1 [208000/299773 (69.4%)]\tLoss: 0.006383\n",
      "Train Epoch: 1 [211200/299773 (70.5%)]\tLoss: 0.008376\n",
      "Train Epoch: 1 [214400/299773 (71.5%)]\tLoss: 0.004166\n",
      "Train Epoch: 1 [217600/299773 (72.6%)]\tLoss: 0.010668\n",
      "Train Epoch: 1 [220800/299773 (73.7%)]\tLoss: 0.006532\n",
      "Train Epoch: 1 [224000/299773 (74.7%)]\tLoss: 0.011806\n",
      "Train Epoch: 1 [227200/299773 (75.8%)]\tLoss: 0.008502\n",
      "Train Epoch: 1 [230400/299773 (76.9%)]\tLoss: 0.005275\n",
      "Train Epoch: 1 [233600/299773 (77.9%)]\tLoss: 0.010846\n",
      "Train Epoch: 1 [236800/299773 (79.0%)]\tLoss: 0.006010\n",
      "Train Epoch: 1 [240000/299773 (80.1%)]\tLoss: 0.004699\n",
      "Train Epoch: 1 [243200/299773 (81.1%)]\tLoss: 0.008231\n",
      "Train Epoch: 1 [246400/299773 (82.2%)]\tLoss: 0.006531\n",
      "Train Epoch: 1 [249600/299773 (83.3%)]\tLoss: 0.005397\n",
      "Train Epoch: 1 [252800/299773 (84.3%)]\tLoss: 0.004591\n",
      "Train Epoch: 1 [256000/299773 (85.4%)]\tLoss: 0.009386\n",
      "Train Epoch: 1 [259200/299773 (86.5%)]\tLoss: 0.006377\n",
      "Train Epoch: 1 [262400/299773 (87.5%)]\tLoss: 0.006431\n",
      "Train Epoch: 1 [265600/299773 (88.6%)]\tLoss: 0.007013\n",
      "Train Epoch: 1 [268800/299773 (89.7%)]\tLoss: 0.011587\n",
      "Train Epoch: 1 [272000/299773 (90.7%)]\tLoss: 0.000025\n",
      "Train Epoch: 1 [275200/299773 (91.8%)]\tLoss: 0.005953\n",
      "Train Epoch: 1 [278400/299773 (92.9%)]\tLoss: 0.011614\n",
      "Train Epoch: 1 [281600/299773 (93.9%)]\tLoss: 0.005587\n",
      "Train Epoch: 1 [284800/299773 (95.0%)]\tLoss: 0.005321\n",
      "Train Epoch: 1 [288000/299773 (96.1%)]\tLoss: 0.004856\n",
      "Train Epoch: 1 [291200/299773 (97.1%)]\tLoss: 0.005601\n",
      "Train Epoch: 1 [294400/299773 (98.2%)]\tLoss: 0.008174\n",
      "Train Epoch: 1 [297600/299773 (99.3%)]\tLoss: 0.008533\n",
      "Train Epoch: 2 [0/299773 (0.0%)]\tLoss: 0.000703\n",
      "Train Epoch: 2 [3200/299773 (1.1%)]\tLoss: 0.010533\n",
      "Train Epoch: 2 [6400/299773 (2.1%)]\tLoss: 0.007338\n",
      "Train Epoch: 2 [9600/299773 (3.2%)]\tLoss: 0.006591\n",
      "Train Epoch: 2 [12800/299773 (4.3%)]\tLoss: 0.008780\n",
      "Train Epoch: 2 [16000/299773 (5.3%)]\tLoss: 0.003131\n",
      "Train Epoch: 2 [19200/299773 (6.4%)]\tLoss: 0.008318\n",
      "Train Epoch: 2 [22400/299773 (7.5%)]\tLoss: 0.006296\n",
      "Train Epoch: 2 [25600/299773 (8.5%)]\tLoss: 0.006745\n",
      "Train Epoch: 2 [28800/299773 (9.6%)]\tLoss: 0.005346\n",
      "Train Epoch: 2 [32000/299773 (10.7%)]\tLoss: 0.008923\n",
      "Train Epoch: 2 [35200/299773 (11.7%)]\tLoss: 0.004573\n",
      "Train Epoch: 2 [38400/299773 (12.8%)]\tLoss: 0.009989\n",
      "Train Epoch: 2 [41600/299773 (13.9%)]\tLoss: 0.009730\n",
      "Train Epoch: 2 [44800/299773 (14.9%)]\tLoss: 0.006678\n",
      "Train Epoch: 2 [48000/299773 (16.0%)]\tLoss: 0.002786\n",
      "Train Epoch: 2 [51200/299773 (17.1%)]\tLoss: 0.005737\n",
      "Train Epoch: 2 [54400/299773 (18.1%)]\tLoss: 0.001500\n",
      "Train Epoch: 2 [57600/299773 (19.2%)]\tLoss: 0.001020\n",
      "Train Epoch: 2 [60800/299773 (20.3%)]\tLoss: 0.006721\n",
      "Train Epoch: 2 [64000/299773 (21.3%)]\tLoss: 0.005412\n",
      "Train Epoch: 2 [67200/299773 (22.4%)]\tLoss: 0.008433\n",
      "Train Epoch: 2 [70400/299773 (23.5%)]\tLoss: 0.006186\n",
      "Train Epoch: 2 [73600/299773 (24.6%)]\tLoss: 0.011566\n",
      "Train Epoch: 2 [76800/299773 (25.6%)]\tLoss: 0.003005\n",
      "Train Epoch: 2 [80000/299773 (26.7%)]\tLoss: 0.009925\n",
      "Train Epoch: 2 [83200/299773 (27.8%)]\tLoss: 0.006755\n",
      "Train Epoch: 2 [86400/299773 (28.8%)]\tLoss: 0.014603\n",
      "Train Epoch: 2 [89600/299773 (29.9%)]\tLoss: 0.007791\n",
      "Train Epoch: 2 [92800/299773 (31.0%)]\tLoss: 0.000427\n",
      "Train Epoch: 2 [96000/299773 (32.0%)]\tLoss: 0.006867\n",
      "Train Epoch: 2 [99200/299773 (33.1%)]\tLoss: 0.019133\n",
      "Train Epoch: 2 [102400/299773 (34.2%)]\tLoss: 0.014790\n",
      "Train Epoch: 2 [105600/299773 (35.2%)]\tLoss: 0.007969\n",
      "Train Epoch: 2 [108800/299773 (36.3%)]\tLoss: 0.005429\n",
      "Train Epoch: 2 [112000/299773 (37.4%)]\tLoss: 0.006394\n",
      "Train Epoch: 2 [115200/299773 (38.4%)]\tLoss: 0.008987\n",
      "Train Epoch: 2 [118400/299773 (39.5%)]\tLoss: 0.009689\n",
      "Train Epoch: 2 [121600/299773 (40.6%)]\tLoss: 0.000068\n",
      "Train Epoch: 2 [124800/299773 (41.6%)]\tLoss: 0.003814\n",
      "Train Epoch: 2 [128000/299773 (42.7%)]\tLoss: 0.007630\n",
      "Train Epoch: 2 [131200/299773 (43.8%)]\tLoss: 0.011795\n",
      "Train Epoch: 2 [134400/299773 (44.8%)]\tLoss: 0.008779\n",
      "Train Epoch: 2 [137600/299773 (45.9%)]\tLoss: 0.005940\n",
      "Train Epoch: 2 [140800/299773 (47.0%)]\tLoss: 0.010927\n",
      "Train Epoch: 2 [144000/299773 (48.0%)]\tLoss: 0.009264\n",
      "Train Epoch: 2 [147200/299773 (49.1%)]\tLoss: 0.009297\n",
      "Train Epoch: 2 [150400/299773 (50.2%)]\tLoss: 0.011705\n",
      "Train Epoch: 2 [153600/299773 (51.2%)]\tLoss: 0.005373\n",
      "Train Epoch: 2 [156800/299773 (52.3%)]\tLoss: 0.011047\n",
      "Train Epoch: 2 [160000/299773 (53.4%)]\tLoss: 0.000937\n",
      "Train Epoch: 2 [163200/299773 (54.4%)]\tLoss: 0.006689\n",
      "Train Epoch: 2 [166400/299773 (55.5%)]\tLoss: 0.012685\n",
      "Train Epoch: 2 [169600/299773 (56.6%)]\tLoss: 0.002141\n",
      "Train Epoch: 2 [172800/299773 (57.6%)]\tLoss: 0.009608\n",
      "Train Epoch: 2 [176000/299773 (58.7%)]\tLoss: 0.001382\n",
      "Train Epoch: 2 [179200/299773 (59.8%)]\tLoss: 0.006131\n",
      "Train Epoch: 2 [182400/299773 (60.8%)]\tLoss: 0.015542\n",
      "Train Epoch: 2 [185600/299773 (61.9%)]\tLoss: 0.013563\n",
      "Train Epoch: 2 [188800/299773 (63.0%)]\tLoss: 0.019337\n",
      "Train Epoch: 2 [192000/299773 (64.0%)]\tLoss: 0.006658\n",
      "Train Epoch: 2 [195200/299773 (65.1%)]\tLoss: 0.005754\n",
      "Train Epoch: 2 [198400/299773 (66.2%)]\tLoss: 0.007170\n",
      "Train Epoch: 2 [201600/299773 (67.3%)]\tLoss: 0.014691\n",
      "Train Epoch: 2 [204800/299773 (68.3%)]\tLoss: 0.011192\n",
      "Train Epoch: 2 [208000/299773 (69.4%)]\tLoss: 0.004867\n",
      "Train Epoch: 2 [211200/299773 (70.5%)]\tLoss: 0.006391\n",
      "Train Epoch: 2 [214400/299773 (71.5%)]\tLoss: 0.003413\n",
      "Train Epoch: 2 [217600/299773 (72.6%)]\tLoss: 0.009662\n",
      "Train Epoch: 2 [220800/299773 (73.7%)]\tLoss: 0.005508\n",
      "Train Epoch: 2 [224000/299773 (74.7%)]\tLoss: 0.007963\n",
      "Train Epoch: 2 [227200/299773 (75.8%)]\tLoss: 0.005584\n",
      "Train Epoch: 2 [230400/299773 (76.9%)]\tLoss: 0.004695\n",
      "Train Epoch: 2 [233600/299773 (77.9%)]\tLoss: 0.009076\n",
      "Train Epoch: 2 [236800/299773 (79.0%)]\tLoss: 0.005539\n",
      "Train Epoch: 2 [240000/299773 (80.1%)]\tLoss: 0.003617\n",
      "Train Epoch: 2 [243200/299773 (81.1%)]\tLoss: 0.006574\n",
      "Train Epoch: 2 [246400/299773 (82.2%)]\tLoss: 0.005069\n",
      "Train Epoch: 2 [249600/299773 (83.3%)]\tLoss: 0.004308\n",
      "Train Epoch: 2 [252800/299773 (84.3%)]\tLoss: 0.004218\n",
      "Train Epoch: 2 [256000/299773 (85.4%)]\tLoss: 0.008105\n",
      "Train Epoch: 2 [259200/299773 (86.5%)]\tLoss: 0.004556\n",
      "Train Epoch: 2 [262400/299773 (87.5%)]\tLoss: 0.005365\n",
      "Train Epoch: 2 [265600/299773 (88.6%)]\tLoss: 0.005233\n",
      "Train Epoch: 2 [268800/299773 (89.7%)]\tLoss: 0.008533\n",
      "Train Epoch: 2 [272000/299773 (90.7%)]\tLoss: 0.000013\n",
      "Train Epoch: 2 [275200/299773 (91.8%)]\tLoss: 0.005946\n",
      "Train Epoch: 2 [278400/299773 (92.9%)]\tLoss: 0.010661\n",
      "Train Epoch: 2 [281600/299773 (93.9%)]\tLoss: 0.004404\n",
      "Train Epoch: 2 [284800/299773 (95.0%)]\tLoss: 0.005050\n",
      "Train Epoch: 2 [288000/299773 (96.1%)]\tLoss: 0.004473\n",
      "Train Epoch: 2 [291200/299773 (97.1%)]\tLoss: 0.004889\n",
      "Train Epoch: 2 [294400/299773 (98.2%)]\tLoss: 0.006201\n",
      "Train Epoch: 2 [297600/299773 (99.3%)]\tLoss: 0.007146\n",
      "Train Epoch: 3 [0/299773 (0.0%)]\tLoss: 0.000479\n",
      "Train Epoch: 3 [3200/299773 (1.1%)]\tLoss: 0.009119\n",
      "Train Epoch: 3 [6400/299773 (2.1%)]\tLoss: 0.005554\n",
      "Train Epoch: 3 [9600/299773 (3.2%)]\tLoss: 0.005315\n",
      "Train Epoch: 3 [12800/299773 (4.3%)]\tLoss: 0.007116\n",
      "Train Epoch: 3 [16000/299773 (5.3%)]\tLoss: 0.003306\n",
      "Train Epoch: 3 [19200/299773 (6.4%)]\tLoss: 0.007089\n",
      "Train Epoch: 3 [22400/299773 (7.5%)]\tLoss: 0.005687\n",
      "Train Epoch: 3 [25600/299773 (8.5%)]\tLoss: 0.005599\n",
      "Train Epoch: 3 [28800/299773 (9.6%)]\tLoss: 0.004155\n",
      "Train Epoch: 3 [32000/299773 (10.7%)]\tLoss: 0.007961\n",
      "Train Epoch: 3 [35200/299773 (11.7%)]\tLoss: 0.004501\n",
      "Train Epoch: 3 [38400/299773 (12.8%)]\tLoss: 0.007914\n",
      "Train Epoch: 3 [41600/299773 (13.9%)]\tLoss: 0.007613\n",
      "Train Epoch: 3 [44800/299773 (14.9%)]\tLoss: 0.005848\n",
      "Train Epoch: 3 [48000/299773 (16.0%)]\tLoss: 0.002404\n",
      "Train Epoch: 3 [51200/299773 (17.1%)]\tLoss: 0.004437\n",
      "Train Epoch: 3 [54400/299773 (18.1%)]\tLoss: 0.000910\n",
      "Train Epoch: 3 [57600/299773 (19.2%)]\tLoss: 0.000509\n",
      "Train Epoch: 3 [60800/299773 (20.3%)]\tLoss: 0.005469\n",
      "Train Epoch: 3 [64000/299773 (21.3%)]\tLoss: 0.004413\n",
      "Train Epoch: 3 [67200/299773 (22.4%)]\tLoss: 0.007665\n",
      "Train Epoch: 3 [70400/299773 (23.5%)]\tLoss: 0.004274\n",
      "Train Epoch: 3 [73600/299773 (24.6%)]\tLoss: 0.010353\n",
      "Train Epoch: 3 [76800/299773 (25.6%)]\tLoss: 0.001541\n",
      "Train Epoch: 3 [80000/299773 (26.7%)]\tLoss: 0.009210\n",
      "Train Epoch: 3 [83200/299773 (27.8%)]\tLoss: 0.006753\n",
      "Train Epoch: 3 [86400/299773 (28.8%)]\tLoss: 0.012209\n",
      "Train Epoch: 3 [89600/299773 (29.9%)]\tLoss: 0.006887\n",
      "Train Epoch: 3 [92800/299773 (31.0%)]\tLoss: 0.000007\n",
      "Train Epoch: 3 [96000/299773 (32.0%)]\tLoss: 0.005893\n",
      "Train Epoch: 3 [99200/299773 (33.1%)]\tLoss: 0.018739\n",
      "Train Epoch: 3 [102400/299773 (34.2%)]\tLoss: 0.014814\n",
      "Train Epoch: 3 [105600/299773 (35.2%)]\tLoss: 0.006176\n",
      "Train Epoch: 3 [108800/299773 (36.3%)]\tLoss: 0.004414\n",
      "Train Epoch: 3 [112000/299773 (37.4%)]\tLoss: 0.005008\n",
      "Train Epoch: 3 [115200/299773 (38.4%)]\tLoss: 0.007781\n",
      "Train Epoch: 3 [118400/299773 (39.5%)]\tLoss: 0.008829\n",
      "Train Epoch: 3 [121600/299773 (40.6%)]\tLoss: 0.000081\n",
      "Train Epoch: 3 [124800/299773 (41.6%)]\tLoss: 0.002661\n",
      "Train Epoch: 3 [128000/299773 (42.7%)]\tLoss: 0.006300\n",
      "Train Epoch: 3 [131200/299773 (43.8%)]\tLoss: 0.009019\n",
      "Train Epoch: 3 [134400/299773 (44.8%)]\tLoss: 0.008526\n",
      "Train Epoch: 3 [137600/299773 (45.9%)]\tLoss: 0.005209\n",
      "Train Epoch: 3 [140800/299773 (47.0%)]\tLoss: 0.010977\n",
      "Train Epoch: 3 [144000/299773 (48.0%)]\tLoss: 0.008331\n",
      "Train Epoch: 3 [147200/299773 (49.1%)]\tLoss: 0.006684\n",
      "Train Epoch: 3 [150400/299773 (50.2%)]\tLoss: 0.009411\n",
      "Train Epoch: 3 [153600/299773 (51.2%)]\tLoss: 0.004706\n",
      "Train Epoch: 3 [156800/299773 (52.3%)]\tLoss: 0.010813\n",
      "Train Epoch: 3 [160000/299773 (53.4%)]\tLoss: 0.000998\n",
      "Train Epoch: 3 [163200/299773 (54.4%)]\tLoss: 0.005100\n",
      "Train Epoch: 3 [166400/299773 (55.5%)]\tLoss: 0.011215\n",
      "Train Epoch: 3 [169600/299773 (56.6%)]\tLoss: 0.001615\n",
      "Train Epoch: 3 [172800/299773 (57.6%)]\tLoss: 0.007849\n",
      "Train Epoch: 3 [176000/299773 (58.7%)]\tLoss: 0.001147\n",
      "Train Epoch: 3 [179200/299773 (59.8%)]\tLoss: 0.004896\n",
      "Train Epoch: 3 [182400/299773 (60.8%)]\tLoss: 0.014401\n",
      "Train Epoch: 3 [185600/299773 (61.9%)]\tLoss: 0.012256\n",
      "Train Epoch: 3 [188800/299773 (63.0%)]\tLoss: 0.019908\n",
      "Train Epoch: 3 [192000/299773 (64.0%)]\tLoss: 0.006636\n",
      "Train Epoch: 3 [195200/299773 (65.1%)]\tLoss: 0.004956\n",
      "Train Epoch: 3 [198400/299773 (66.2%)]\tLoss: 0.005752\n",
      "Train Epoch: 3 [201600/299773 (67.3%)]\tLoss: 0.013615\n",
      "Train Epoch: 3 [204800/299773 (68.3%)]\tLoss: 0.009708\n",
      "Train Epoch: 3 [208000/299773 (69.4%)]\tLoss: 0.003873\n",
      "Train Epoch: 3 [211200/299773 (70.5%)]\tLoss: 0.005056\n",
      "Train Epoch: 3 [214400/299773 (71.5%)]\tLoss: 0.003051\n",
      "Train Epoch: 3 [217600/299773 (72.6%)]\tLoss: 0.009641\n",
      "Train Epoch: 3 [220800/299773 (73.7%)]\tLoss: 0.005158\n",
      "Train Epoch: 3 [224000/299773 (74.7%)]\tLoss: 0.006801\n",
      "Train Epoch: 3 [227200/299773 (75.8%)]\tLoss: 0.005058\n",
      "Train Epoch: 3 [230400/299773 (76.9%)]\tLoss: 0.003681\n",
      "Train Epoch: 3 [233600/299773 (77.9%)]\tLoss: 0.007570\n",
      "Train Epoch: 3 [236800/299773 (79.0%)]\tLoss: 0.004643\n",
      "Train Epoch: 3 [240000/299773 (80.1%)]\tLoss: 0.003033\n",
      "Train Epoch: 3 [243200/299773 (81.1%)]\tLoss: 0.006504\n",
      "Train Epoch: 3 [246400/299773 (82.2%)]\tLoss: 0.003858\n",
      "Train Epoch: 3 [249600/299773 (83.3%)]\tLoss: 0.003640\n",
      "Train Epoch: 3 [252800/299773 (84.3%)]\tLoss: 0.004083\n",
      "Train Epoch: 3 [256000/299773 (85.4%)]\tLoss: 0.006721\n",
      "Train Epoch: 3 [259200/299773 (86.5%)]\tLoss: 0.003265\n",
      "Train Epoch: 3 [262400/299773 (87.5%)]\tLoss: 0.004410\n",
      "Train Epoch: 3 [265600/299773 (88.6%)]\tLoss: 0.004580\n",
      "Train Epoch: 3 [268800/299773 (89.7%)]\tLoss: 0.008394\n",
      "Train Epoch: 3 [272000/299773 (90.7%)]\tLoss: 0.000087\n",
      "Train Epoch: 3 [275200/299773 (91.8%)]\tLoss: 0.005852\n",
      "Train Epoch: 3 [278400/299773 (92.9%)]\tLoss: 0.010207\n",
      "Train Epoch: 3 [281600/299773 (93.9%)]\tLoss: 0.003638\n",
      "Train Epoch: 3 [284800/299773 (95.0%)]\tLoss: 0.004403\n",
      "Train Epoch: 3 [288000/299773 (96.1%)]\tLoss: 0.004205\n",
      "Train Epoch: 3 [291200/299773 (97.1%)]\tLoss: 0.004287\n",
      "Train Epoch: 3 [294400/299773 (98.2%)]\tLoss: 0.005449\n",
      "Train Epoch: 3 [297600/299773 (99.3%)]\tLoss: 0.005785\n",
      "CPU times: user 30min 20s, sys: 2min, total: 32min 20s\n",
      "Wall time: 32min 30s\n"
     ]
    }
   ],
   "source": [
    "%%time\n",
    "epochs = 3\n",
    "\n",
    "lossv, accv = [], []\n",
    "for epoch in range(1, epochs + 1):\n",
    "    train_rnn(epoch)"
   ]
  },
  {
   "cell_type": "markdown",
   "metadata": {},
   "source": [
    "**Manually inspect model performance on dataset**\n"
   ]
  },
  {
   "cell_type": "code",
   "execution_count": 0,
   "metadata": {
    "colab": {},
    "colab_type": "code",
    "id": "NPnbhLwDh6j4"
   },
   "outputs": [],
   "source": [
    "data = torch.from_numpy(X_valid[112].reshape(1,1000)).long().to(device)"
   ]
  },
  {
   "cell_type": "code",
   "execution_count": 0,
   "metadata": {
    "colab": {},
    "colab_type": "code",
    "id": "6MYON9Rkh8-j"
   },
   "outputs": [],
   "source": [
    "#Get model output\n",
    "output = model_rnn(data)"
   ]
  },
  {
   "cell_type": "code",
   "execution_count": 159,
   "metadata": {
    "colab": {
     "base_uri": "https://localhost:8080/",
     "height": 34
    },
    "colab_type": "code",
    "executionInfo": {
     "elapsed": 540,
     "status": "ok",
     "timestamp": 1590315419948,
     "user": {
      "displayName": "abiodun gold",
      "photoUrl": "https://lh3.googleusercontent.com/a-/AOh14GhJUHEg-9pYnAgHQWqSXEmr3MAJAkjXOhr6y-vFtg=s64",
      "userId": "04483878048487360383"
     },
     "user_tz": -180
    },
    "id": "4yFSqqE4h_hV",
    "outputId": "eac80765-a676-447c-9d98-2e2ec92d7eb5"
   },
   "outputs": [
    {
     "data": {
      "text/plain": [
       "[('E21', 'E211', 'ECAT', 'GCAT', 'GPOL')]"
      ]
     },
     "execution_count": 159,
     "metadata": {
      "tags": []
     },
     "output_type": "execute_result"
    }
   ],
   "source": [
    "#Convert output to text\n",
    "y_encoder.inverse_transform(changedata(output).cpu().detach().numpy())"
   ]
  },
  {
   "cell_type": "code",
   "execution_count": 160,
   "metadata": {
    "colab": {
     "base_uri": "https://localhost:8080/",
     "height": 34
    },
    "colab_type": "code",
    "executionInfo": {
     "elapsed": 805,
     "status": "ok",
     "timestamp": 1590315431117,
     "user": {
      "displayName": "abiodun gold",
      "photoUrl": "https://lh3.googleusercontent.com/a-/AOh14GhJUHEg-9pYnAgHQWqSXEmr3MAJAkjXOhr6y-vFtg=s64",
      "userId": "04483878048487360383"
     },
     "user_tz": -180
    },
    "id": "xi7kVf2SiC3c",
    "outputId": "5c4533e8-adb5-4eb6-a25d-b059953ac00d"
   },
   "outputs": [
    {
     "data": {
      "text/plain": [
       "[('E21', 'E211', 'ECAT', 'GCAT', 'GPOL')]"
      ]
     },
     "execution_count": 160,
     "metadata": {
      "tags": []
     },
     "output_type": "execute_result"
    }
   ],
   "source": [
    "#Get original output\n",
    "y_encoder.inverse_transform(y_valid[112].reshape(1,103))"
   ]
  },
  {
   "cell_type": "code",
   "execution_count": 161,
   "metadata": {
    "colab": {
     "base_uri": "https://localhost:8080/",
     "height": 34
    },
    "colab_type": "code",
    "executionInfo": {
     "elapsed": 1862,
     "status": "ok",
     "timestamp": 1590315443570,
     "user": {
      "displayName": "abiodun gold",
      "photoUrl": "https://lh3.googleusercontent.com/a-/AOh14GhJUHEg-9pYnAgHQWqSXEmr3MAJAkjXOhr6y-vFtg=s64",
      "userId": "04483878048487360383"
     },
     "user_tz": -180
    },
    "id": "4iVb_W77uMG9",
    "outputId": "fd901a4a-c2f7-48f7-f6ae-ba6cb15f231d"
   },
   "outputs": [
    {
     "data": {
      "text/plain": [
       "1.0"
      ]
     },
     "execution_count": 161,
     "metadata": {
      "tags": []
     },
     "output_type": "execute_result"
    }
   ],
   "source": [
    "#Check the f1 score\n",
    "f1_score(y_valid[112],np.array(changedata(output).cpu().detach())[0], average='micro')"
   ]
  },
  {
   "cell_type": "markdown",
   "metadata": {
    "colab_type": "text",
    "id": "6NdnH0WLa4I1"
   },
   "source": [
    "## Save your model\n",
    "\n",
    "It might be useful to save your model if you want to continue your work later, or use it for inference later."
   ]
  },
  {
   "cell_type": "code",
   "execution_count": 0,
   "metadata": {
    "colab": {},
    "colab_type": "code",
    "id": "KPZ98HN5a3QV"
   },
   "outputs": [],
   "source": [
    "torch.save(model_rnn.state_dict(), 'model.pkl')"
   ]
  },
  {
   "cell_type": "markdown",
   "metadata": {
    "colab_type": "text",
    "id": "IxOo1yfba-Wz"
   },
   "source": [
    "The model file should now be visible in the \"Home\" screen of the jupyter notebooks interface.  There you should be able to select it and press \"download\".\n",
    "\n",
    "## Download test set\n",
    "\n",
    "The testset will be made available during the last week before the deadline and can be downloaded in the same way as the training set.\n",
    "\n",
    "## Predict for test set\n",
    "\n",
    "You will be asked to return your predictions a separate test set.  These should be returned as a matrix with one row for each test article.  Each row contains a binary prediction for each label, 1 if it's present in the image, and 0 if not. The order of the labels is the order of the label (topic) codes.\n",
    "\n",
    "An example row could like like this if your system predicts the presense of the second and fourth topic:\n",
    "\n",
    "    0 1 0 1 0 0 0 0 0 0 0 0 0 0 ...\n",
    "    \n",
    "If you have the matrix prepared in `y` you can use the following function to save it to a text file."
   ]
  },
  {
   "cell_type": "markdown",
   "metadata": {
    "colab_type": "text",
    "id": "R4tAHn-RbBUp"
   },
   "source": [
    "np.savetxt('results.txt', y, fmt='%d')"
   ]
  },
  {
   "cell_type": "code",
   "execution_count": 0,
   "metadata": {
    "colab": {},
    "colab_type": "code",
    "id": "l1aoAjAea-5C"
   },
   "outputs": [],
   "source": []
  }
 ],
 "metadata": {
  "accelerator": "GPU",
  "colab": {
   "collapsed_sections": [],
   "name": "text_project_google_with test_colab.ipynb",
   "provenance": [
    {
     "file_id": "https://github.com/Avocadososemix/2020-deep-learning/blob/master/text_project_google_colab.ipynb",
     "timestamp": 1590223269111
    }
   ],
   "toc_visible": true
  },
  "kernelspec": {
   "display_name": "Python 3",
   "language": "python",
   "name": "python3"
  },
  "language_info": {
   "codemirror_mode": {
    "name": "ipython",
    "version": 3
   },
   "file_extension": ".py",
   "mimetype": "text/x-python",
   "name": "python",
   "nbconvert_exporter": "python",
   "pygments_lexer": "ipython3",
   "version": "3.6.9"
  },
  "widgets": {
   "application/vnd.jupyter.widget-state+json": {
    "14274bccae124a328fa970f41d3436d0": {
     "model_module": "@jupyter-widgets/base",
     "model_name": "LayoutModel",
     "state": {
      "_model_module": "@jupyter-widgets/base",
      "_model_module_version": "1.2.0",
      "_model_name": "LayoutModel",
      "_view_count": null,
      "_view_module": "@jupyter-widgets/base",
      "_view_module_version": "1.2.0",
      "_view_name": "LayoutView",
      "align_content": null,
      "align_items": null,
      "align_self": null,
      "border": null,
      "bottom": null,
      "display": null,
      "flex": null,
      "flex_flow": null,
      "grid_area": null,
      "grid_auto_columns": null,
      "grid_auto_flow": null,
      "grid_auto_rows": null,
      "grid_column": null,
      "grid_gap": null,
      "grid_row": null,
      "grid_template_areas": null,
      "grid_template_columns": null,
      "grid_template_rows": null,
      "height": null,
      "justify_content": null,
      "justify_items": null,
      "left": null,
      "margin": null,
      "max_height": null,
      "max_width": null,
      "min_height": null,
      "min_width": null,
      "object_fit": null,
      "object_position": null,
      "order": null,
      "overflow": null,
      "overflow_x": null,
      "overflow_y": null,
      "padding": null,
      "right": null,
      "top": null,
      "visibility": null,
      "width": null
     }
    },
    "246d46baf0b74bd385a23cf2bd35163f": {
     "model_module": "@jupyter-widgets/base",
     "model_name": "LayoutModel",
     "state": {
      "_model_module": "@jupyter-widgets/base",
      "_model_module_version": "1.2.0",
      "_model_name": "LayoutModel",
      "_view_count": null,
      "_view_module": "@jupyter-widgets/base",
      "_view_module_version": "1.2.0",
      "_view_name": "LayoutView",
      "align_content": null,
      "align_items": null,
      "align_self": null,
      "border": null,
      "bottom": null,
      "display": null,
      "flex": null,
      "flex_flow": null,
      "grid_area": null,
      "grid_auto_columns": null,
      "grid_auto_flow": null,
      "grid_auto_rows": null,
      "grid_column": null,
      "grid_gap": null,
      "grid_row": null,
      "grid_template_areas": null,
      "grid_template_columns": null,
      "grid_template_rows": null,
      "height": null,
      "justify_content": null,
      "justify_items": null,
      "left": null,
      "margin": null,
      "max_height": null,
      "max_width": null,
      "min_height": null,
      "min_width": null,
      "object_fit": null,
      "object_position": null,
      "order": null,
      "overflow": null,
      "overflow_x": null,
      "overflow_y": null,
      "padding": null,
      "right": null,
      "top": null,
      "visibility": null,
      "width": null
     }
    },
    "334b2c076c044b68be7414a62fa48d16": {
     "model_module": "@jupyter-widgets/controls",
     "model_name": "ProgressStyleModel",
     "state": {
      "_model_module": "@jupyter-widgets/controls",
      "_model_module_version": "1.5.0",
      "_model_name": "ProgressStyleModel",
      "_view_count": null,
      "_view_module": "@jupyter-widgets/base",
      "_view_module_version": "1.2.0",
      "_view_name": "StyleView",
      "bar_color": null,
      "description_width": "initial"
     }
    },
    "4b534e7a4d194d81860d3109483d54bb": {
     "model_module": "@jupyter-widgets/base",
     "model_name": "LayoutModel",
     "state": {
      "_model_module": "@jupyter-widgets/base",
      "_model_module_version": "1.2.0",
      "_model_name": "LayoutModel",
      "_view_count": null,
      "_view_module": "@jupyter-widgets/base",
      "_view_module_version": "1.2.0",
      "_view_name": "LayoutView",
      "align_content": null,
      "align_items": null,
      "align_self": null,
      "border": null,
      "bottom": null,
      "display": null,
      "flex": null,
      "flex_flow": null,
      "grid_area": null,
      "grid_auto_columns": null,
      "grid_auto_flow": null,
      "grid_auto_rows": null,
      "grid_column": null,
      "grid_gap": null,
      "grid_row": null,
      "grid_template_areas": null,
      "grid_template_columns": null,
      "grid_template_rows": null,
      "height": null,
      "justify_content": null,
      "justify_items": null,
      "left": null,
      "margin": null,
      "max_height": null,
      "max_width": null,
      "min_height": null,
      "min_width": null,
      "object_fit": null,
      "object_position": null,
      "order": null,
      "overflow": null,
      "overflow_x": null,
      "overflow_y": null,
      "padding": null,
      "right": null,
      "top": null,
      "visibility": null,
      "width": null
     }
    },
    "4d5edc2509e6481e84684bc5ad11ac05": {
     "model_module": "@jupyter-widgets/controls",
     "model_name": "HTMLModel",
     "state": {
      "_dom_classes": [],
      "_model_module": "@jupyter-widgets/controls",
      "_model_module_version": "1.5.0",
      "_model_name": "HTMLModel",
      "_view_count": null,
      "_view_module": "@jupyter-widgets/controls",
      "_view_module_version": "1.5.0",
      "_view_name": "HTMLView",
      "description": "",
      "description_tooltip": null,
      "layout": "IPY_MODEL_4b534e7a4d194d81860d3109483d54bb",
      "placeholder": "​",
      "style": "IPY_MODEL_a0506a1dadf846b0a06479d3272b802d",
      "value": " 0/2842 [00:00&lt;?, ?it/s]"
     }
    },
    "61cd8e3ccb9f47c88d3a14b45736ce7f": {
     "model_module": "@jupyter-widgets/base",
     "model_name": "LayoutModel",
     "state": {
      "_model_module": "@jupyter-widgets/base",
      "_model_module_version": "1.2.0",
      "_model_name": "LayoutModel",
      "_view_count": null,
      "_view_module": "@jupyter-widgets/base",
      "_view_module_version": "1.2.0",
      "_view_name": "LayoutView",
      "align_content": null,
      "align_items": null,
      "align_self": null,
      "border": null,
      "bottom": null,
      "display": null,
      "flex": null,
      "flex_flow": null,
      "grid_area": null,
      "grid_auto_columns": null,
      "grid_auto_flow": null,
      "grid_auto_rows": null,
      "grid_column": null,
      "grid_gap": null,
      "grid_row": null,
      "grid_template_areas": null,
      "grid_template_columns": null,
      "grid_template_rows": null,
      "height": null,
      "justify_content": null,
      "justify_items": null,
      "left": null,
      "margin": null,
      "max_height": null,
      "max_width": null,
      "min_height": null,
      "min_width": null,
      "object_fit": null,
      "object_position": null,
      "order": null,
      "overflow": null,
      "overflow_x": null,
      "overflow_y": null,
      "padding": null,
      "right": null,
      "top": null,
      "visibility": null,
      "width": null
     }
    },
    "6bc24a130d46483b8272cf34fe55af15": {
     "model_module": "@jupyter-widgets/controls",
     "model_name": "FloatProgressModel",
     "state": {
      "_dom_classes": [],
      "_model_module": "@jupyter-widgets/controls",
      "_model_module_version": "1.5.0",
      "_model_name": "FloatProgressModel",
      "_view_count": null,
      "_view_module": "@jupyter-widgets/controls",
      "_view_module_version": "1.5.0",
      "_view_name": "ProgressView",
      "bar_style": "info",
      "description": "",
      "description_tooltip": null,
      "layout": "IPY_MODEL_61cd8e3ccb9f47c88d3a14b45736ce7f",
      "max": 1,
      "min": 0,
      "orientation": "horizontal",
      "style": "IPY_MODEL_334b2c076c044b68be7414a62fa48d16",
      "value": 1
     }
    },
    "6d1217467dec4dc79ed0d2b8845bc02b": {
     "model_module": "@jupyter-widgets/base",
     "model_name": "LayoutModel",
     "state": {
      "_model_module": "@jupyter-widgets/base",
      "_model_module_version": "1.2.0",
      "_model_name": "LayoutModel",
      "_view_count": null,
      "_view_module": "@jupyter-widgets/base",
      "_view_module_version": "1.2.0",
      "_view_name": "LayoutView",
      "align_content": null,
      "align_items": null,
      "align_self": null,
      "border": null,
      "bottom": null,
      "display": null,
      "flex": null,
      "flex_flow": null,
      "grid_area": null,
      "grid_auto_columns": null,
      "grid_auto_flow": null,
      "grid_auto_rows": null,
      "grid_column": null,
      "grid_gap": null,
      "grid_row": null,
      "grid_template_areas": null,
      "grid_template_columns": null,
      "grid_template_rows": null,
      "height": null,
      "justify_content": null,
      "justify_items": null,
      "left": null,
      "margin": null,
      "max_height": null,
      "max_width": null,
      "min_height": null,
      "min_width": null,
      "object_fit": null,
      "object_position": null,
      "order": null,
      "overflow": null,
      "overflow_x": null,
      "overflow_y": null,
      "padding": null,
      "right": null,
      "top": null,
      "visibility": null,
      "width": null
     }
    },
    "a0506a1dadf846b0a06479d3272b802d": {
     "model_module": "@jupyter-widgets/controls",
     "model_name": "DescriptionStyleModel",
     "state": {
      "_model_module": "@jupyter-widgets/controls",
      "_model_module_version": "1.5.0",
      "_model_name": "DescriptionStyleModel",
      "_view_count": null,
      "_view_module": "@jupyter-widgets/base",
      "_view_module_version": "1.2.0",
      "_view_name": "StyleView",
      "description_width": ""
     }
    },
    "ab412ad7149b4516a002879f70598a4a": {
     "model_module": "@jupyter-widgets/controls",
     "model_name": "DescriptionStyleModel",
     "state": {
      "_model_module": "@jupyter-widgets/controls",
      "_model_module_version": "1.5.0",
      "_model_name": "DescriptionStyleModel",
      "_view_count": null,
      "_view_module": "@jupyter-widgets/base",
      "_view_module_version": "1.2.0",
      "_view_name": "StyleView",
      "description_width": ""
     }
    },
    "affe2906175f4863aa20bbca0ca27804": {
     "model_module": "@jupyter-widgets/controls",
     "model_name": "HBoxModel",
     "state": {
      "_dom_classes": [],
      "_model_module": "@jupyter-widgets/controls",
      "_model_module_version": "1.5.0",
      "_model_name": "HBoxModel",
      "_view_count": null,
      "_view_module": "@jupyter-widgets/controls",
      "_view_module_version": "1.5.0",
      "_view_name": "HBoxView",
      "box_style": "",
      "children": [
       "IPY_MODEL_cfbe03c518d7483288f8503a7c48225d",
       "IPY_MODEL_4d5edc2509e6481e84684bc5ad11ac05"
      ],
      "layout": "IPY_MODEL_6d1217467dec4dc79ed0d2b8845bc02b"
     }
    },
    "c0efd3fd59fd489cbb8e7f3954fc900c": {
     "model_module": "@jupyter-widgets/controls",
     "model_name": "HTMLModel",
     "state": {
      "_dom_classes": [],
      "_model_module": "@jupyter-widgets/controls",
      "_model_module_version": "1.5.0",
      "_model_name": "HTMLModel",
      "_view_count": null,
      "_view_module": "@jupyter-widgets/controls",
      "_view_module_version": "1.5.0",
      "_view_name": "HTMLView",
      "description": "",
      "description_tooltip": null,
      "layout": "IPY_MODEL_eb96802b4c824fd9be5469112d3942fb",
      "placeholder": "​",
      "style": "IPY_MODEL_ab412ad7149b4516a002879f70598a4a",
      "value": " 384229376/? [05:30&lt;00:00, 1482793.39it/s]"
     }
    },
    "cfbe03c518d7483288f8503a7c48225d": {
     "model_module": "@jupyter-widgets/controls",
     "model_name": "FloatProgressModel",
     "state": {
      "_dom_classes": [],
      "_model_module": "@jupyter-widgets/controls",
      "_model_module_version": "1.5.0",
      "_model_name": "FloatProgressModel",
      "_view_count": null,
      "_view_module": "@jupyter-widgets/controls",
      "_view_module_version": "1.5.0",
      "_view_name": "ProgressView",
      "bar_style": "info",
      "description": "  0%",
      "description_tooltip": null,
      "layout": "IPY_MODEL_246d46baf0b74bd385a23cf2bd35163f",
      "max": 1,
      "min": 0,
      "orientation": "horizontal",
      "style": "IPY_MODEL_f7932b4a99b242adb3ca7c7d806b7750",
      "value": 0
     }
    },
    "eb96802b4c824fd9be5469112d3942fb": {
     "model_module": "@jupyter-widgets/base",
     "model_name": "LayoutModel",
     "state": {
      "_model_module": "@jupyter-widgets/base",
      "_model_module_version": "1.2.0",
      "_model_name": "LayoutModel",
      "_view_count": null,
      "_view_module": "@jupyter-widgets/base",
      "_view_module_version": "1.2.0",
      "_view_name": "LayoutView",
      "align_content": null,
      "align_items": null,
      "align_self": null,
      "border": null,
      "bottom": null,
      "display": null,
      "flex": null,
      "flex_flow": null,
      "grid_area": null,
      "grid_auto_columns": null,
      "grid_auto_flow": null,
      "grid_auto_rows": null,
      "grid_column": null,
      "grid_gap": null,
      "grid_row": null,
      "grid_template_areas": null,
      "grid_template_columns": null,
      "grid_template_rows": null,
      "height": null,
      "justify_content": null,
      "justify_items": null,
      "left": null,
      "margin": null,
      "max_height": null,
      "max_width": null,
      "min_height": null,
      "min_width": null,
      "object_fit": null,
      "object_position": null,
      "order": null,
      "overflow": null,
      "overflow_x": null,
      "overflow_y": null,
      "padding": null,
      "right": null,
      "top": null,
      "visibility": null,
      "width": null
     }
    },
    "ec63707b80ae4eb18956353e724022da": {
     "model_module": "@jupyter-widgets/controls",
     "model_name": "HBoxModel",
     "state": {
      "_dom_classes": [],
      "_model_module": "@jupyter-widgets/controls",
      "_model_module_version": "1.5.0",
      "_model_name": "HBoxModel",
      "_view_count": null,
      "_view_module": "@jupyter-widgets/controls",
      "_view_module_version": "1.5.0",
      "_view_name": "HBoxView",
      "box_style": "",
      "children": [
       "IPY_MODEL_6bc24a130d46483b8272cf34fe55af15",
       "IPY_MODEL_c0efd3fd59fd489cbb8e7f3954fc900c"
      ],
      "layout": "IPY_MODEL_14274bccae124a328fa970f41d3436d0"
     }
    },
    "f7932b4a99b242adb3ca7c7d806b7750": {
     "model_module": "@jupyter-widgets/controls",
     "model_name": "ProgressStyleModel",
     "state": {
      "_model_module": "@jupyter-widgets/controls",
      "_model_module_version": "1.5.0",
      "_model_name": "ProgressStyleModel",
      "_view_count": null,
      "_view_module": "@jupyter-widgets/base",
      "_view_module_version": "1.2.0",
      "_view_name": "StyleView",
      "bar_color": null,
      "description_width": "initial"
     }
    }
   }
  }
 },
 "nbformat": 4,
 "nbformat_minor": 1
}
