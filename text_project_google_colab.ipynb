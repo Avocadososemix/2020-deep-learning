{
  "nbformat": 4,
  "nbformat_minor": 0,
  "metadata": {
    "colab": {
      "name": "text_project_google_colab.ipynb",
      "provenance": [],
      "collapsed_sections": [],
      "toc_visible": true
    },
    "kernelspec": {
      "name": "python3",
      "display_name": "Python 3"
    },
    "accelerator": "GPU",
    "widgets": {
      "application/vnd.jupyter.widget-state+json": {
        "fb9232f961b442f08982623e73c26db3": {
          "model_module": "@jupyter-widgets/controls",
          "model_name": "HBoxModel",
          "state": {
            "_view_name": "HBoxView",
            "_dom_classes": [],
            "_model_name": "HBoxModel",
            "_view_module": "@jupyter-widgets/controls",
            "_model_module_version": "1.5.0",
            "_view_count": null,
            "_view_module_version": "1.5.0",
            "box_style": "",
            "layout": "IPY_MODEL_cc366460c6d14a899d3a856fe0068bff",
            "_model_module": "@jupyter-widgets/controls",
            "children": [
              "IPY_MODEL_ed660d92269549e79988ffb02f11142e",
              "IPY_MODEL_c82b96c1f15341348c84eef492e31979"
            ]
          }
        },
        "cc366460c6d14a899d3a856fe0068bff": {
          "model_module": "@jupyter-widgets/base",
          "model_name": "LayoutModel",
          "state": {
            "_view_name": "LayoutView",
            "grid_template_rows": null,
            "right": null,
            "justify_content": null,
            "_view_module": "@jupyter-widgets/base",
            "overflow": null,
            "_model_module_version": "1.2.0",
            "_view_count": null,
            "flex_flow": null,
            "width": null,
            "min_width": null,
            "border": null,
            "align_items": null,
            "bottom": null,
            "_model_module": "@jupyter-widgets/base",
            "top": null,
            "grid_column": null,
            "overflow_y": null,
            "overflow_x": null,
            "grid_auto_flow": null,
            "grid_area": null,
            "grid_template_columns": null,
            "flex": null,
            "_model_name": "LayoutModel",
            "justify_items": null,
            "grid_row": null,
            "max_height": null,
            "align_content": null,
            "visibility": null,
            "align_self": null,
            "height": null,
            "min_height": null,
            "padding": null,
            "grid_auto_rows": null,
            "grid_gap": null,
            "max_width": null,
            "order": null,
            "_view_module_version": "1.2.0",
            "grid_template_areas": null,
            "object_position": null,
            "object_fit": null,
            "grid_auto_columns": null,
            "margin": null,
            "display": null,
            "left": null
          }
        },
        "ed660d92269549e79988ffb02f11142e": {
          "model_module": "@jupyter-widgets/controls",
          "model_name": "FloatProgressModel",
          "state": {
            "_view_name": "ProgressView",
            "style": "IPY_MODEL_8caaeb55a1bd422ba3e557fe836108a3",
            "_dom_classes": [],
            "description": "",
            "_model_name": "FloatProgressModel",
            "bar_style": "info",
            "max": 1,
            "_view_module": "@jupyter-widgets/controls",
            "_model_module_version": "1.5.0",
            "value": 1,
            "_view_count": null,
            "_view_module_version": "1.5.0",
            "orientation": "horizontal",
            "min": 0,
            "description_tooltip": null,
            "_model_module": "@jupyter-widgets/controls",
            "layout": "IPY_MODEL_cd51bce335db46999aa513c3713032a5"
          }
        },
        "c82b96c1f15341348c84eef492e31979": {
          "model_module": "@jupyter-widgets/controls",
          "model_name": "HTMLModel",
          "state": {
            "_view_name": "HTMLView",
            "style": "IPY_MODEL_be7fac5562534017974f04ecb02a0a10",
            "_dom_classes": [],
            "description": "",
            "_model_name": "HTMLModel",
            "placeholder": "​",
            "_view_module": "@jupyter-widgets/controls",
            "_model_module_version": "1.5.0",
            "value": " 384229376/? [15:50&lt;00:00, 271313.07it/s]",
            "_view_count": null,
            "_view_module_version": "1.5.0",
            "description_tooltip": null,
            "_model_module": "@jupyter-widgets/controls",
            "layout": "IPY_MODEL_059e9d1e4dc944f9a28c6aeb3d88477b"
          }
        },
        "8caaeb55a1bd422ba3e557fe836108a3": {
          "model_module": "@jupyter-widgets/controls",
          "model_name": "ProgressStyleModel",
          "state": {
            "_view_name": "StyleView",
            "_model_name": "ProgressStyleModel",
            "description_width": "initial",
            "_view_module": "@jupyter-widgets/base",
            "_model_module_version": "1.5.0",
            "_view_count": null,
            "_view_module_version": "1.2.0",
            "bar_color": null,
            "_model_module": "@jupyter-widgets/controls"
          }
        },
        "cd51bce335db46999aa513c3713032a5": {
          "model_module": "@jupyter-widgets/base",
          "model_name": "LayoutModel",
          "state": {
            "_view_name": "LayoutView",
            "grid_template_rows": null,
            "right": null,
            "justify_content": null,
            "_view_module": "@jupyter-widgets/base",
            "overflow": null,
            "_model_module_version": "1.2.0",
            "_view_count": null,
            "flex_flow": null,
            "width": null,
            "min_width": null,
            "border": null,
            "align_items": null,
            "bottom": null,
            "_model_module": "@jupyter-widgets/base",
            "top": null,
            "grid_column": null,
            "overflow_y": null,
            "overflow_x": null,
            "grid_auto_flow": null,
            "grid_area": null,
            "grid_template_columns": null,
            "flex": null,
            "_model_name": "LayoutModel",
            "justify_items": null,
            "grid_row": null,
            "max_height": null,
            "align_content": null,
            "visibility": null,
            "align_self": null,
            "height": null,
            "min_height": null,
            "padding": null,
            "grid_auto_rows": null,
            "grid_gap": null,
            "max_width": null,
            "order": null,
            "_view_module_version": "1.2.0",
            "grid_template_areas": null,
            "object_position": null,
            "object_fit": null,
            "grid_auto_columns": null,
            "margin": null,
            "display": null,
            "left": null
          }
        },
        "be7fac5562534017974f04ecb02a0a10": {
          "model_module": "@jupyter-widgets/controls",
          "model_name": "DescriptionStyleModel",
          "state": {
            "_view_name": "StyleView",
            "_model_name": "DescriptionStyleModel",
            "description_width": "",
            "_view_module": "@jupyter-widgets/base",
            "_model_module_version": "1.5.0",
            "_view_count": null,
            "_view_module_version": "1.2.0",
            "_model_module": "@jupyter-widgets/controls"
          }
        },
        "059e9d1e4dc944f9a28c6aeb3d88477b": {
          "model_module": "@jupyter-widgets/base",
          "model_name": "LayoutModel",
          "state": {
            "_view_name": "LayoutView",
            "grid_template_rows": null,
            "right": null,
            "justify_content": null,
            "_view_module": "@jupyter-widgets/base",
            "overflow": null,
            "_model_module_version": "1.2.0",
            "_view_count": null,
            "flex_flow": null,
            "width": null,
            "min_width": null,
            "border": null,
            "align_items": null,
            "bottom": null,
            "_model_module": "@jupyter-widgets/base",
            "top": null,
            "grid_column": null,
            "overflow_y": null,
            "overflow_x": null,
            "grid_auto_flow": null,
            "grid_area": null,
            "grid_template_columns": null,
            "flex": null,
            "_model_name": "LayoutModel",
            "justify_items": null,
            "grid_row": null,
            "max_height": null,
            "align_content": null,
            "visibility": null,
            "align_self": null,
            "height": null,
            "min_height": null,
            "padding": null,
            "grid_auto_rows": null,
            "grid_gap": null,
            "max_width": null,
            "order": null,
            "_view_module_version": "1.2.0",
            "grid_template_areas": null,
            "object_position": null,
            "object_fit": null,
            "grid_auto_columns": null,
            "margin": null,
            "display": null,
            "left": null
          }
        }
      }
    }
  },
  "cells": [
    {
      "cell_type": "markdown",
      "metadata": {
        "id": "kntcOrMxbE-F",
        "colab_type": "text"
      },
      "source": [
        "# DATA20001 Deep Learning - Group Project\n",
        "## Text project\n",
        "\n",
        "**Due Thursday, May 20, before 23:59.**\n",
        "\n",
        "The task is to learn to assign the correct labels to news articles.  The corpus contains ~850K articles from Reuters.  The test set is about 10% of the articles. The data is unextracted in XML files.\n",
        "\n",
        "We're only giving you the code for downloading the data, and how to save the final model. The rest you'll have to do yourselves.\n",
        "\n",
        "Some comments and hints particular to the project:\n",
        "\n",
        "- One document may belong to many classes in this problem, i.e., it's a multi-label classification problem. In fact there are documents that don't belong to any class, and you should also be able to handle these correctly. Pay careful attention to how you design the outputs of the network (e.g., what activation to use) and what loss function should be used.\n",
        "- You may use word-embeddings to get better results. For example, you were already using a smaller version of the GloVE  embeddings in exercise 4. Do note that these embeddings take a lot of memory. \n",
        "- In the exercises we used e.g., `torchvision.datasets.MNIST` to handle the loading of the data in suitable batches. Here, you need to handle the dataloading yourself.  The easiest way is probably to create a custom `Dataset`. [See for example here for a tutorial](https://github.com/utkuozbulak/pytorch-custom-dataset-examples)."
      ]
    },
    {
      "cell_type": "code",
      "metadata": {
        "id": "tc_DfDJK0qeV",
        "colab_type": "code",
        "outputId": "5ae5f222-437e-4c7c-8e0e-8eea1c34e0ae",
        "colab": {
          "base_uri": "https://localhost:8080/",
          "height": 245
        }
      },
      "source": [
        "# installing PIL (neccessary when using google colab)\n",
        "#!pip install --no-cache-dir -I pillow"
      ],
      "execution_count": 1,
      "outputs": [
        {
          "output_type": "stream",
          "text": [
            "Collecting pillow\n",
            "\u001b[?25l  Downloading https://files.pythonhosted.org/packages/e0/50/8e78e6f62ffa50d6ca95c281d5a2819bef66d023ac1b723e253de5bda9c5/Pillow-7.1.2-cp36-cp36m-manylinux1_x86_64.whl (2.1MB)\n",
            "\u001b[K     |████████████████████████████████| 2.1MB 4.6MB/s \n",
            "\u001b[31mERROR: albumentations 0.1.12 has requirement imgaug<0.2.7,>=0.2.5, but you'll have imgaug 0.2.9 which is incompatible.\u001b[0m\n",
            "\u001b[?25hInstalling collected packages: pillow\n",
            "Successfully installed pillow-7.1.2\n"
          ],
          "name": "stdout"
        },
        {
          "output_type": "display_data",
          "data": {
            "application/vnd.colab-display-data+json": {
              "pip_warning": {
                "packages": [
                  "PIL"
                ]
              }
            }
          },
          "metadata": {
            "tags": []
          }
        }
      ]
    },
    {
      "cell_type": "code",
      "metadata": {
        "id": "2MtQi2p1OLfY",
        "colab_type": "code",
        "outputId": "9c96609b-6a14-498f-f681-73dceff1272f",
        "colab": {
          "base_uri": "https://localhost:8080/",
          "height": 132
        }
      },
      "source": [
        "pip install torchvision"
      ],
      "execution_count": 1,
      "outputs": [
        {
          "output_type": "stream",
          "text": [
            "Requirement already satisfied: torchvision in /usr/local/lib/python3.6/dist-packages (0.6.0+cu101)\n",
            "Requirement already satisfied: pillow>=4.1.1 in /usr/local/lib/python3.6/dist-packages (from torchvision) (7.1.2)\n",
            "Requirement already satisfied: torch==1.5.0 in /usr/local/lib/python3.6/dist-packages (from torchvision) (1.5.0+cu101)\n",
            "Requirement already satisfied: numpy in /usr/local/lib/python3.6/dist-packages (from torchvision) (1.18.4)\n",
            "Requirement already satisfied: future in /usr/local/lib/python3.6/dist-packages (from torch==1.5.0->torchvision) (0.16.0)\n"
          ],
          "name": "stdout"
        }
      ]
    },
    {
      "cell_type": "code",
      "metadata": {
        "id": "GCYZNY_MYUY0",
        "colab_type": "code",
        "outputId": "c0831044-f954-461a-a5dc-12dd987a5fec",
        "colab": {
          "base_uri": "https://localhost:8080/",
          "height": 170
        }
      },
      "source": [
        "pip install pytorch-nlp"
      ],
      "execution_count": 2,
      "outputs": [
        {
          "output_type": "stream",
          "text": [
            "Collecting pytorch-nlp\n",
            "\u001b[?25l  Downloading https://files.pythonhosted.org/packages/4f/51/f0ee1efb75f7cc2e3065c5da1363d6be2eec79691b2821594f3f2329528c/pytorch_nlp-0.5.0-py3-none-any.whl (90kB)\n",
            "\r\u001b[K     |███▋                            | 10kB 26.6MB/s eta 0:00:01\r\u001b[K     |███████▎                        | 20kB 3.0MB/s eta 0:00:01\r\u001b[K     |███████████                     | 30kB 4.2MB/s eta 0:00:01\r\u001b[K     |██████████████▌                 | 40kB 4.5MB/s eta 0:00:01\r\u001b[K     |██████████████████▏             | 51kB 3.6MB/s eta 0:00:01\r\u001b[K     |█████████████████████▉          | 61kB 4.0MB/s eta 0:00:01\r\u001b[K     |█████████████████████████▌      | 71kB 4.3MB/s eta 0:00:01\r\u001b[K     |█████████████████████████████   | 81kB 4.7MB/s eta 0:00:01\r\u001b[K     |████████████████████████████████| 92kB 3.8MB/s \n",
            "\u001b[?25hRequirement already satisfied: numpy in /usr/local/lib/python3.6/dist-packages (from pytorch-nlp) (1.18.4)\n",
            "Requirement already satisfied: tqdm in /usr/local/lib/python3.6/dist-packages (from pytorch-nlp) (4.41.1)\n",
            "Installing collected packages: pytorch-nlp\n",
            "Successfully installed pytorch-nlp-0.5.0\n"
          ],
          "name": "stdout"
        }
      ]
    },
    {
      "cell_type": "code",
      "metadata": {
        "id": "ToMjEXCE19al",
        "colab_type": "code",
        "colab": {
          "base_uri": "https://localhost:8080/",
          "height": 75
        },
        "outputId": "32fb9c86-97ad-4192-d674-bd93737ac762"
      },
      "source": [
        "import sys\n",
        "import os\n",
        "from os.path import exists\n",
        "import zipfile\n",
        "import gc\n",
        "import pickle\n",
        "\n",
        "# text handling\n",
        "from bs4 import BeautifulSoup as bs\n",
        "import re\n",
        "import nltk\n",
        "from nltk.corpus import stopwords\n",
        "from nltk.stem import WordNetLemmatizer\n",
        "\n",
        "# dataframes\n",
        "import pandas as pd\n",
        "import numpy as np\n",
        "\n",
        "# visualization\n",
        "import seaborn as sns\n",
        "\n",
        "# torch\n",
        "import torch\n",
        "import torch.nn as nn\n",
        "import torch.nn.functional as F\n",
        "from torch.autograd import Variable\n",
        "from torch.utils.data import SubsetRandomSampler\n",
        "from torch.utils.data.dataset import Dataset\n",
        "from torch.utils.data import Dataset, DataLoader\n",
        "from torchnlp.encoders.text import StaticTokenizerEncoder,stack_and_pad_tensors, pad_tensor\n",
        "\n",
        "# torchvision\n",
        "import torchvision\n",
        "from torchvision.datasets.utils import download_url\n",
        "\n",
        "\n",
        "#TensorFlow\n",
        "from tensorflow.keras.preprocessing.text import Tokenizer\n",
        "from tensorflow.keras.preprocessing.sequence import pad_sequences\n",
        "\n",
        "# sklearn & matplotlib\n",
        "from sklearn.model_selection import train_test_split\n",
        "from sklearn.preprocessing import MultiLabelBinarizer\n",
        "from sklearn.feature_extraction.text import TfidfVectorizer\n",
        "#from sklearn.metrics import f1_score\n",
        "import matplotlib.pyplot as plt\n",
        "#%matplotlib inline\n",
        "\n",
        "# wheel\n",
        "from wheel.pep425tags import get_abbr_impl, get_impl_ver, get_abi_tag\n",
        "platform = '{}{}-{}'.format(get_abbr_impl(), get_impl_ver(), get_abi_tag())\n",
        "cuda_output = !ldconfig -p|grep cudart.so|sed -e 's/.*\\.\\([0-9]*\\)\\.\\([0-9]*\\)$/cu\\1\\2/'\n",
        "accelerator = cuda_output[0] if exists('/dev/nvidia0') else 'cpu'"
      ],
      "execution_count": 3,
      "outputs": [
        {
          "output_type": "stream",
          "text": [
            "/usr/local/lib/python3.6/dist-packages/statsmodels/tools/_testing.py:19: FutureWarning: pandas.util.testing is deprecated. Use the functions in the public API at pandas.testing instead.\n",
            "  import pandas.util.testing as tm\n"
          ],
          "name": "stderr"
        }
      ]
    },
    {
      "cell_type": "code",
      "metadata": {
        "id": "L9plWlZNOq8n",
        "colab_type": "code",
        "outputId": "d505bfce-3ac2-4113-83d7-38bdb352b374",
        "colab": {
          "base_uri": "https://localhost:8080/",
          "height": 36
        }
      },
      "source": [
        "torch.cuda\n",
        "print(torch.cuda.get_device_name())"
      ],
      "execution_count": 4,
      "outputs": [
        {
          "output_type": "stream",
          "text": [
            "Tesla P100-PCIE-16GB\n"
          ],
          "name": "stdout"
        }
      ]
    },
    {
      "cell_type": "code",
      "metadata": {
        "id": "u9jd7dAUPFgH",
        "colab_type": "code",
        "colab": {}
      },
      "source": [
        "cuda0 = torch.device('cuda:0') # test set GPU to respond to device name cuda0"
      ],
      "execution_count": 0,
      "outputs": []
    },
    {
      "cell_type": "code",
      "metadata": {
        "id": "71FcieHYWjWs",
        "colab_type": "code",
        "outputId": "1d4cf6ec-9ae7-44ad-a937-a9545b6f1f49",
        "colab": {
          "base_uri": "https://localhost:8080/",
          "height": 36
        }
      },
      "source": [
        "accelerator"
      ],
      "execution_count": 6,
      "outputs": [
        {
          "output_type": "execute_result",
          "data": {
            "text/plain": [
              "'cu101'"
            ]
          },
          "metadata": {
            "tags": []
          },
          "execution_count": 6
        }
      ]
    },
    {
      "cell_type": "markdown",
      "metadata": {
        "id": "qf5ejtnjbL9N",
        "colab_type": "text"
      },
      "source": [
        "## Get the data"
      ]
    },
    {
      "cell_type": "code",
      "metadata": {
        "id": "rGc_nU5kXUOb",
        "colab_type": "code",
        "colab": {}
      },
      "source": [
        "root_dir = os.getcwd()\n",
        "if root_dir not in sys.path:\n",
        "    sys.path.append(root_dir)"
      ],
      "execution_count": 0,
      "outputs": []
    },
    {
      "cell_type": "code",
      "metadata": {
        "id": "abA3xHaJ05V4",
        "colab_type": "code",
        "outputId": "d94c5ae5-22ae-4abf-9da0-50d1eb26ee2b",
        "colab": {
          "base_uri": "https://localhost:8080/",
          "height": 66,
          "referenced_widgets": [
            "fb9232f961b442f08982623e73c26db3",
            "cc366460c6d14a899d3a856fe0068bff",
            "ed660d92269549e79988ffb02f11142e",
            "c82b96c1f15341348c84eef492e31979",
            "8caaeb55a1bd422ba3e557fe836108a3",
            "cd51bce335db46999aa513c3713032a5",
            "be7fac5562534017974f04ecb02a0a10",
            "059e9d1e4dc944f9a28c6aeb3d88477b"
          ]
        }
      },
      "source": [
        "# importing the data\n",
        "train_path = 'train'\n",
        "dl_file = 'reuters-training-corpus.zip'\n",
        "dl_url = 'https://www.cs.helsinki.fi/u/yangarbe/Courses/2020-deep-learning/text-training-corpus/'\n",
        "\n",
        "zip_path = os.path.join(train_path, dl_file)\n",
        "if not os.path.isfile(zip_path):\n",
        "    download_url(dl_url + dl_file, root=train_path, filename=dl_file, md5=None)\n",
        "\n",
        "with zipfile.ZipFile(zip_path) as zip_f:\n",
        "    zip_f.extractall(train_path)"
      ],
      "execution_count": 0,
      "outputs": [
        {
          "output_type": "stream",
          "text": [
            "Downloading https://www.cs.helsinki.fi/u/yangarbe/Courses/2020-deep-learning/text-training-corpus/reuters-training-corpus.zip to train/reuters-training-corpus.zip\n"
          ],
          "name": "stdout"
        },
        {
          "output_type": "display_data",
          "data": {
            "application/vnd.jupyter.widget-view+json": {
              "model_id": "fb9232f961b442f08982623e73c26db3",
              "version_minor": 0,
              "version_major": 2
            },
            "text/plain": [
              "HBox(children=(FloatProgress(value=1.0, bar_style='info', max=1.0), HTML(value='')))"
            ]
          },
          "metadata": {
            "tags": []
          }
        }
      ]
    },
    {
      "cell_type": "code",
      "metadata": {
        "id": "yodgNCDrRaiu",
        "colab_type": "code",
        "colab": {}
      },
      "source": [
        "# importing the topic codes\n",
        "text_project_path = 'text-project'\n",
        "dl_file = 'topic_codes.txt'\n",
        "dl_url = 'https://www.cs.helsinki.fi/u/yangarbe/Courses/2020-deep-learning/text-project/'\n",
        "\n",
        "topic_codes_path = os.path.join(text_project_path, dl_file)\n",
        "#text_project_path\n",
        "if not os.path.isfile(topic_codes_path):\n",
        "    download_url(dl_url + dl_file, root=text_project_path, filename=dl_file, md5=None)\n",
        "    "
      ],
      "execution_count": 0,
      "outputs": []
    },
    {
      "cell_type": "code",
      "metadata": {
        "id": "eXLCFtT_Vwlj",
        "colab_type": "code",
        "colab": {}
      },
      "source": [
        "DATA_FOLDER_DIR = os.path.abspath(os.path.join(root_dir, text_project_path))\n",
        "\n",
        "topic_codes_location = os.path.join(text_project_path, dl_file)\n",
        "\n",
        "# from get_data.py\n",
        "def get_codes(codefile):\n",
        "    codes = {}\n",
        "    i = 0\n",
        "    with open(codefile, 'r') as cf:\n",
        "        for line in cf:\n",
        "            if not line.startswith(';'):\n",
        "                code = line.strip().split('\\t')[0]\n",
        "                codes[code] = i\n",
        "                i += 1\n",
        "    return codes\n",
        "\n",
        "CODEMAP = get_codes(topic_codes_location)\n",
        "CODEMAP_list = (list(CODEMAP.keys()))"
      ],
      "execution_count": 0,
      "outputs": []
    },
    {
      "cell_type": "code",
      "metadata": {
        "id": "3f5CqOkD1KDQ",
        "colab_type": "code",
        "outputId": "d0418976-b6f0-4ac2-aead-5a99ee051e75",
        "colab": {
          "base_uri": "https://localhost:8080/",
          "height": 51
        }
      },
      "source": [
        "train_path = os.path.abspath(os.path.join(root_dir, train_path))\n",
        "reuters_unzipped_path = os.path.abspath(os.path.join(train_path, 'REUTERS_CORPUS_2'))\n",
        "\n",
        "zipped_news_files = os.listdir(os.path.abspath(reuters_unzipped_path))\n",
        "print(len(zipped_news_files))\n",
        "zipped_news_files = [x for x in zipped_news_files if \"1\" in x]\n",
        "print(len(zipped_news_files))"
      ],
      "execution_count": 0,
      "outputs": [
        {
          "output_type": "stream",
          "text": [
            "130\n",
            "127\n"
          ],
          "name": "stdout"
        }
      ]
    },
    {
      "cell_type": "code",
      "metadata": {
        "id": "EfBrq7o1d6Dy",
        "colab_type": "code",
        "colab": {}
      },
      "source": [
        "rows_list = []"
      ],
      "execution_count": 0,
      "outputs": []
    },
    {
      "cell_type": "code",
      "metadata": {
        "id": "UOp0ly0aXt2-",
        "colab_type": "code",
        "outputId": "a32ad1e6-1426-407d-b9f4-8204d4194967",
        "colab": {
          "base_uri": "https://localhost:8080/",
          "height": 68
        }
      },
      "source": [
        "%%time\n",
        "\n",
        "\n",
        "pattern = r'\"([A-Za-z0-9_\\./\\\\-]*)\"'\n",
        "\n",
        "for news_file in zipped_news_files:\n",
        "    zf = zipfile.ZipFile(os.path.abspath(os.path.join(reuters_unzipped_path, news_file)), 'r')\n",
        "    for name in zf.namelist():\n",
        "        dict1 = {} # saving into dicts which are then saved into a list which is then saved into the df.\n",
        "        f = zf.open(name).read()\n",
        "        soup = bs(f, \"lxml\")\n",
        "        \n",
        "        #title = soup.title.text\n",
        "        dict1[\"title\"] = soup.title.text\n",
        "        dict1[\"text\"] = soup.find(\"text\").text\n",
        "        codes = []\n",
        "        metadata_codes = soup.metadata.find_all(\"code\")\n",
        "        \n",
        "        for val in metadata_codes:\n",
        "            m = re.search(pattern, str(val))\n",
        "            codes.append(m.group().replace('\"', ''))\n",
        "        \n",
        "        dict1[\"codes\"] = [value for value in codes if value in CODEMAP_list] # remove unnecessary codes\n",
        "        \n",
        "        rows_list.append(dict1)\n",
        "    break # remove break for full dataframe\n",
        "\n"
      ],
      "execution_count": 0,
      "outputs": [
        {
          "output_type": "stream",
          "text": [
            "shape: (2928, 3)\n",
            "CPU times: user 6.83 s, sys: 0 ns, total: 6.83 s\n",
            "Wall time: 6.83 s\n"
          ],
          "name": "stdout"
        }
      ]
    },
    {
      "cell_type": "markdown",
      "metadata": {
        "id": "us2qEJIseKfK",
        "colab_type": "text"
      },
      "source": [
        "Use this code to load dataset from text file. Text file is a list of dictionary(faster way to load data)"
      ]
    },
    {
      "cell_type": "code",
      "metadata": {
        "id": "w4R5KAM7eEwA",
        "colab_type": "code",
        "colab": {}
      },
      "source": [
        "list_file = '/content/cleaned_text_data.txt'"
      ],
      "execution_count": 0,
      "outputs": []
    },
    {
      "cell_type": "code",
      "metadata": {
        "id": "VrIim5IPeFvv",
        "colab_type": "code",
        "colab": {}
      },
      "source": [
        "#Read list from file\n",
        "\n",
        "\n",
        "# open file and read the content in a list\n",
        "with open(list_file, 'r') as filehandle:\n",
        "    for line in filehandle:\n",
        "        # remove linebreak which is the last character of the string\n",
        "        currentPlace =ast.literal_eval(line[:-1])\n",
        "\n",
        "        # add item to the list\n",
        "        rows_list.append(currentPlace)"
      ],
      "execution_count": 0,
      "outputs": []
    },
    {
      "cell_type": "code",
      "metadata": {
        "id": "I1WPNMqKd-mP",
        "colab_type": "code",
        "colab": {}
      },
      "source": [
        "df = pd.DataFrame(rows_list, columns=['title', 'text', 'codes'])\n",
        "print('shape:', df.shape)"
      ],
      "execution_count": 0,
      "outputs": []
    },
    {
      "cell_type": "code",
      "metadata": {
        "id": "0K704fImYjh2",
        "colab_type": "code",
        "outputId": "0819f2bf-a09d-4d30-8d15-dd4204f50938",
        "colab": {
          "base_uri": "https://localhost:8080/",
          "height": 204
        }
      },
      "source": [
        "#Check out the dataframe\n",
        "df.head()"
      ],
      "execution_count": 0,
      "outputs": [
        {
          "output_type": "execute_result",
          "data": {
            "text/html": [
              "<div>\n",
              "<style scoped>\n",
              "    .dataframe tbody tr th:only-of-type {\n",
              "        vertical-align: middle;\n",
              "    }\n",
              "\n",
              "    .dataframe tbody tr th {\n",
              "        vertical-align: top;\n",
              "    }\n",
              "\n",
              "    .dataframe thead th {\n",
              "        text-align: right;\n",
              "    }\n",
              "</style>\n",
              "<table border=\"1\" class=\"dataframe\">\n",
              "  <thead>\n",
              "    <tr style=\"text-align: right;\">\n",
              "      <th></th>\n",
              "      <th>title</th>\n",
              "      <th>text</th>\n",
              "      <th>codes</th>\n",
              "    </tr>\n",
              "  </thead>\n",
              "  <tbody>\n",
              "    <tr>\n",
              "      <th>0</th>\n",
              "      <td>EU: Reuter EC Report Long-Term Diary for July ...</td>\n",
              "      <td>\\n****\\nHIGHLIGHTS\\n****\\nMADRID - NATO holds ...</td>\n",
              "      <td>[G15, GCAT]</td>\n",
              "    </tr>\n",
              "    <tr>\n",
              "      <th>1</th>\n",
              "      <td>EU: Official Journal contents - OJ C 199 of Ju...</td>\n",
              "      <td>\\n*\\n(Note - contents are displayed in reverse...</td>\n",
              "      <td>[G15, GCAT]</td>\n",
              "    </tr>\n",
              "    <tr>\n",
              "      <th>2</th>\n",
              "      <td>EU: Official Journal contents - OJ L 172 of Ju...</td>\n",
              "      <td>\\n*\\nCOUNCIL REGULATION (EC) No 1186/97 of 27 ...</td>\n",
              "      <td>[G15, GCAT]</td>\n",
              "    </tr>\n",
              "    <tr>\n",
              "      <th>3</th>\n",
              "      <td>EU: Official Journal contents - OJ L 171 of Ju...</td>\n",
              "      <td>\\n*\\n(Note - contents are displayed in reverse...</td>\n",
              "      <td>[G15, GCAT]</td>\n",
              "    </tr>\n",
              "    <tr>\n",
              "      <th>4</th>\n",
              "      <td>EU: Official Journal contents - OJ C 201 of Ju...</td>\n",
              "      <td>\\n*\\n(Note - contents are displayed in reverse...</td>\n",
              "      <td>[G15, GCAT]</td>\n",
              "    </tr>\n",
              "  </tbody>\n",
              "</table>\n",
              "</div>"
            ],
            "text/plain": [
              "                                               title  ...        codes\n",
              "0  EU: Reuter EC Report Long-Term Diary for July ...  ...  [G15, GCAT]\n",
              "1  EU: Official Journal contents - OJ C 199 of Ju...  ...  [G15, GCAT]\n",
              "2  EU: Official Journal contents - OJ L 172 of Ju...  ...  [G15, GCAT]\n",
              "3  EU: Official Journal contents - OJ L 171 of Ju...  ...  [G15, GCAT]\n",
              "4  EU: Official Journal contents - OJ C 201 of Ju...  ...  [G15, GCAT]\n",
              "\n",
              "[5 rows x 3 columns]"
            ]
          },
          "metadata": {
            "tags": []
          },
          "execution_count": 43
        }
      ]
    },
    {
      "cell_type": "code",
      "metadata": {
        "id": "_W_2B-4tYmUN",
        "colab_type": "code",
        "outputId": "fd9bfc9c-ae9a-4495-de66-ebf14a7f8164",
        "colab": {
          "base_uri": "https://localhost:8080/",
          "height": 54
        }
      },
      "source": [
        "#inspect the text content\n",
        "df.loc[1][\"text\"]"
      ],
      "execution_count": 0,
      "outputs": [
        {
          "output_type": "execute_result",
          "data": {
            "text/plain": [
              "\"\\n*\\n(Note - contents are displayed in reverse order to that in the printed Journal)\\n*\\nRemoval from the register of T-8/96 (1) (97/C 199/95)\\nRemoval from the register of T-115/95 (1) (97/C 199/94)\\nRemoval from the register of T-300/94 (1) (97/C 199/93)\\nRemoval from the register of T-259/94 (1) (97/C 199/92)\\nAction brought on 5 May 1997 by David T. Keeling against the Office for Harmonization in the Internal Market (Trade Marks and Designs) (Case T-148/97) (97/C 199/91)\\nAction brought on 30 April 1997 by Champion Stationery Mfg Co. Ltd., Sun Kwong Metal Manufacturer Co. Ltd and US Ring Binder Corporation against the Council of the European Union (Case T-147/97) (97/C 199/90)\\nAction brought on 30 April 1997 by J. M. M. Bakkers against the Council of the European Union and the Commission of the European Communities (Case T-146/97) (97/C 199/89)\\nAction brought on 29 April 1997 by J. P. W. Vrencken against the European Community (Case T-145/97) (97/C 199/88)\\nAction brought on 29 April 1997 by C. de Keijzer against the European Community (Case T-144/97) (97/C 199/87)\\nAction brought on 29 April 1997 by G. M. van den Berg against the European Community (Case T-143/97) (97/C 199/86)\\nAction brought on 29 April 1997 by Eugenio Branco Lda. against the Commission of the European Communities (Case T-142/97) (97/C 199/85)\\nAction brought on 25 April 1997 by Kesko Oy against the Commission of the European Communities (Case T-134/97) (97/C 199/84)\\nAction brought on 24 April 1997 by Michael Collins against the Committee of the Regions of the European Union (Case T-132/97) (97/C 199/83)\\nAction brought on 22 April 1997 by Nuova Sidercamuna SpA (in liquidation) against the Commission of the European Communities (Case T-130/97) (97/C 199/82)\\nAction brought on 22 April 1997 by Coca-Cola Enterprises Inc. against the Commission of the European Communities (Case T-127/97) (97/C 199/81)\\nAction brought on 22 April 1997 by Sonasa, Sociedade Nacional de Seguranca, Lda. against the Commission of the European Communities (Case T-126/97) (97/C 199/80)\\nAction brought on 22 April 1997 by the Coca-Cola Company against the Commission of the European Communities (Case T-125/97) (97/C 199/79)\\nAction brought on 18 April 1997 by Salomon SA against the Commission of the European Communities (Case T-123/97) (97/C 199/78)\\nAction brought on 18 April 1997 by Ferriera Lamifer S.p.A. against the Commission of the European Communities (Case T-122/97) (97/C 199/77)\\nAction brought on 16 April 1997 by Richie Ryan against the Court of Auditors (Case T-121/97) (97/C 199/76)\\nAction brought on 16 April 1997 by Paul Keyaerts against the Commission of the European Communities (Case T-114/97) (97/C 199/75)\\nAction brought on 15 April 1997 by Pierre Tomarchio against the Court of Auditors of the European Communities (Case T-113/97) (97/C 199/74)\\nAction brought on 14 April 1997 by Monsanto Company against the Commission of the European Communities (Case T-112/97) (97/C 199/73)\\nAction brought on 14 April 1997 by Kneissl Dachstein Sportartikel AG against the Commission of the European Communities (Case T-110/97) (97/C 199/72)\\nAction brought on 11 April 1997 by Molkerei Grossbraunshain GmbH and Bene Nahrungsmittel GmbH against the Commission of the European Communities (Case T-109/97) (97/C 199/71)\\nAction brought on 9 April 1997 by C. A. S. Succhi di Frutta S.p.a. against Commission of the European Communities (Case T-106/97) (97/C 199/70)\\nORDER OF THE COURT OF FIRST INSTANCE (Second Chamber) of 2 May 1997 in Case T-136/96: Automobiles Peugeot SA v. Commission of the European Communities (1) (Competition - Action for annulment - Objection of inadmissibility) (97/C 199/69)\\nORDER OF THE COURT OF FIRST INSTANCE (Third Chamber) of 26 March 1997 in Case T-119/96: X v. European Parliament (1) (Officials - Action for annulment - Prior administrative complaint - Objection on admissibility) (97/C 199/68)\\nORDER OF THE COURT OF FIRST INSTANCE of 2 May 1997 in Case T-90/96: Automobiles Peugeot SA v. Commission of the European Communities (1) (Competition - Action for annulment - Objection of inadmissibility) (97/C 199/67)\\nORDER OF THE PRESIDENT OF THE COURT OF FIRST INSTANCE of 21 March 1997 in Case T-79/96 R: CAMAR S.r.l. v. Commission of the European Communities (Organization of the common market - Bananas - Application for interim measures - Request for delivery of import certificates) (97/C 199/66)\\nORDER OF THE COURT OF FIRST INSTANCE (Fourth Chamber, Extended Composition) of 14 March 1997 in Case T-25/96: Arbeitsgemeinschaft Deutscher Luftfahrt-Unternehmen and Others v. Commission of the European Communities (1) (Action for annulment - Contested decision withdrawn in the course of proceedings - No need to give a decision) (97/C 199/65)\\nJUDGMENT OF THE COURT OF FIRST INSTANCE of 14 May 1997 in Case T-77/94: Vereniging van Groothandelaren in Bloemkwekerijprodukten and Others v. Commission of the European Communities (1) (Competition - Closure of procedure on a complaint in the absence of a response by the complainants within the time-limit notified to them - Compatibility with Article 85 (1) of the EC Treaty of a fee levied on suppliers who have concluded agreements relating to the delivery of floricultural products to undertakings established on the premises of a cooperative auction society - Compatibility with Article 85 (1) of the EC Treaty of an exclusive purchase obligation accepted by certain wholesalers reselling such products to retailers in a specific trading area forming part of the same premises - Discrimination - Effect on trade between Member States - Assessment by reference to a body of rules taken as a whole - Lack of appreciable effect) (97/C 199/64)\\nJUDGMENT OF THE COURT OF FIRST INSTANCE of 14 May 1997 in Joined Cases T-70/92 and T-71/92: Florimex BV and Vereniging van Groothandelaren in Bloemkwekerijprodukten v. Commission of the European Communities (1) (Competition - Decision rejecting a complaint sent to the complainants' lawyer's postoffice box - Calculation of time-limit for bringing an action - Compatibility with Article 2 of Regulation No 26 of a fee charged to external suppliers on floricultural products supplied to wholesalers established on the premises of a cooperative society of auctioneers - Statement of reasons) (97/C 199/63) 010932 OVR:BC-TEXT-OJ-C 199 =2 Official Journal contents: OJ C 199 of June 28 (page 2/3)\\nJUDGMENT OF THE COURT OF FIRST INSTANCE of 6 May 1997 in Case T-195/95: Guerin Automobiles v. Commission of the European Communities (1) (Competition - Action for damages - Inadmissibility) (97/C 199/62)\\nJUDGMENT OF THE COURT OF FIRST INSTANCE of 6 May 1997 in Case T-169/95: Agustin Quijano v. Commission of the European Communities (1) (Officials - Sick leave - Medical certificate - Medical examination - Conclusions at variance with the medical certificate) (97/C 199/61)\\nRemoval from the register of C-296/96 (1) (97/C 199/60)\\nRemoval from the register of C-295/96 (1) (97/C 199/59)\\nRemoval from the register of C-273/96 (1) (97/C 199/58)\\nRemoval from the register of C-272/96 (1) (97/C 199/57)\\nRemoval from the register of C-271/96 (1) (97/C 199/56)\\nRemoval from the register of C-202/96 (1) (97/C 199/55)\\nRemoval from the register of C-190/96 (1) (97/C 199/54)\\nRemoval from the register of C-189/96 (1) (97/C 199/53)\\nRemoval from the register of Joined Cases C-165/96, C-166/96, C-167/96, C-168/96 and C-169/96 (1) (97/C 199/52)\\nRemoval from the register of C-34/96 (1) (97/C 199/51)\\nRemoval from the register of C-25/96 (1) (97/C 199/50)\\nRemoval from the register of C-24/96 (1) (97/C 199/49)\\nRemoval from the register of C-7/96 (1) (97/C 199/48)\\nRemoval from the register of C-6/96 (1) (97/C 199/47)\\nRemoval from the register of C-1/96 SA (1) (97/C 199/46)\\nRemoval from the register of C-378/95 (1) (97/C 199/45)\\nRemoval from the register of C-377/95 (1) (97/C 199/44)\\nRemoval from the register of C-363/95 (1) (97/C 199/43)\\nRemoval from the register of C-342/95 (1) (97/C 199/42)\\nRemoval from the register of C-332/95 (1) (97/C 199/41)\\nRemova\\nRemoval from the register of C-187/95 (1) (97/C 199/39)\\nRemoval from the register of C-176/95 (1) (97/C 199/38)\\nRemoval from the register of C-175/95 (1) (97/C 199/37)\\nRemoval from the register of C-174/95 (1) (97/C 199/36)\\nRemoval from the register of C-282/94 (1) (97/C 199/35)\\nAction brought on 16 May 1997 by the Commission of the European Communities against the Kingdom of Belgium (Case C-190/97) (97/C 199/34)\\nAction brought on 12 May 1997 by the Commission of the European Communities against the Portuguese Republic (Case C-183/97) (97/C 199/33)\\nAction brought on 12 May 1997 by the Kingdom of Spain against Commission of the European Communities (Case C-179/97) (97/C 199/32)\\nAction brought on 5 May 1997 by the Commission of the European Communities against the Grand Duchy of Luxembourg (Case C-177/97) (97/C 199/31)\\nAction brought on 5 May 1997 by the Commission of the European Communities against the Kingdom of Belgium (Case C-176/97) (97/C 199/30)\\nAction brought on 5 May 1997 by the Commission of the European Communities against the French Republic (Case C-175/97) (97/C 199/29)\\nAppeal brought on 5 May 1997 by Federation Francaise des Societes d'Assurances (FFSA), Union des Societes Etrangeres d'Assurances (USEA), Groupe des Assurances Mutuelles Agricoles (Groupama), Federation Nationale des Syndicats d'Agents Generaux d'Assurances (FNSAGA), Federation Francaise des Courtiers d'Assurance et de Reassurances (FCA) and Bureau International des Producteurs d'Assurances et de Reassurances (BIPAR) against the judgment delivered on 27 February 1997 by the Third Chamber, Extended Composition, of the Court of First Instance of the European Communities in Case T-106/95 between the Federation Francaise des Societes d'Assurances (FFSA), Union des Societes Etrangeres d'Assurances (USEA), Groupe des Assurances Mutuelles Agricoles (Groupama), Federation Nationale des Syndicats d'Agents Generaux d'Assurances (FNSAGA), Federation Francaise des Courtiers d'Assurance et de Reassurances (FCA) and Bureau International des Producteurs d'Assurances et de Reassurances (BIPAR) and the Commission of the E\\nAction brought on 5 May 1997 by the Commission of the European Communities against the Hellenic Republic (Case C-173/97) (97/C 199/27)\\nAction brought on 2 May 1997 by the Commission of the European Communities against SIVU du Plan d'Eau de la Vallee du Lot and Sarl Hydro-Realisations (Case C-172/97) (97/C 199/26)\\nAction brought on 2 May 1997 by the Commission of the European Communities against the Portuguese Republic (Case C-171/97) (97/C 199/25)\\nAction brought on 2 May 1997 by the Commission of the European Communities against the Portuguese Republic (Case C-170/97) (97/C 199/24)\\nAction brought on 2 May 1997 by the Commission of the European Communities against the Portuguese Republic (Case C-169/97) (97/C 199/23)\\nReference for a preliminary ruling by the Divisional Court, High Court of Justice, Queen's Bench Division, by order of that court of 13 March 1997, in the case of The Queen against Secretary of State for Defence, ex parte: Terence Perkins (Case C-168/97) (97/C 199/22)\\nAction brought on 25 April 1997 by the Commission of the European Communities against the Italian Republic (Case C-160/97) (97/C 199/21)\\nReference for a preliminary ruling from the Staatsgerichtshof des Landes Hessen by order of that court of 16 April 1997 in the application for review of legislative provisions brought by Georg Badeck and other members and former members of the Hessischer Landtag, interveners: Hessischer Ministerprasident and Landesanwalt beim Staatsgerichtshof des Landes Hessen (Case C-158/97) (97/C 199/20)\\nReference for a preliminary ruling by the Commissione Tributaria Provinciale di Milano - Sezione XII - by order of that court of 24 March 1997 in the case of AGAS (Abbruzzi Gas Agas) SpA against Amministrazione Tributaria (Case C-152/97) (97/C 199/19)\\nAction brought on 16 April 1997 by the Commission of the European Communities against the Hellenic Republic (Case C-146/97) (97/C 199/18)\\nJUDGMENT OF THE COURT (First Chamber) of 15 May 1997 in Case C-405/95 (reference for a preliminary ruling from the Finanzgericht Munchen): Bioforce GmbH v. Oberfinanzdirektion Munchen (1) (Common customs tariff - Heading 3004 - Echinacea - Medicament) (97/C 199/17)\\nJUDGMENT OF THE COURT of 15 May 1997 in Case C-355/95 P: Textilwerke Deggendorf GmbH (TWD) v. Commission of the European Communities (1) (State aid - Commission decisions suspending payment of certain aids until previous unlawful aid has been repaid) (97/C 199/16)\\nJUDGMENT OF THE COURT (Fourth Chamber) of 15 May 1997 in Case C-278/95 P: Siemens SA v. Commission of the European Communities (1) (Appeal - State aid - General aid - Definition of aid) (97/C 199/15) 010934 OVR:BC-TEXT-OJ-C 199 =3 Official Journal contents: OJ C 199 of June 28 (page 3/3)\\nJUDGMENT OF THE COURT of 15 May 1997 in Case C-250/95 (reference for a preliminary ruling from the Conseil d'Etat du Grand-Duche de Luxembourg): Futura Participations SA and Singer v. Administration des Contributions (1) (Article 52 of the EEC Treaty - Freedom of establishment for companies - Taxation of a branch's income - Apportionment of income) (97/C 199/14)\\nJUDGMENT OF THE COURT (Fifth Chamber) of 7 May 1997 in Case C-223/95 (reference for a preliminary ruling from the Finanzgericht Hamburg): A. Moksel AG v. Hauptzollamt Hamburg-Jonas (1) (Agriculture - Export refunds - Cattle imported from the former German Democratic Republic into the Federal Republic of Germany under the transit procedure - Impact of German reunification on the origin and status of goods in free circulation) (97/C 199/13)\\nJUDGMENT OF THE COURT (Fifth Chamber) of 7 May 1997 in Joined Cases C-321/94, C-322/94, C-323/94 and C-324/94 (references for a preliminary ruling from the French Cour de Cassation): criminal proceedings against Jacques Pistre and Others (1) (Regulation (EEC) No 2081/92 on the protection of geographical indications and designations of origin for agricultural products and foodstuffs - Articles 30 and 36 of the EC Treaty - Domestic legislation on the use of the description 'mountain' for agricultural products and foodstuffs) (97/C 199/12)\\nJUDGMENT OF THE COURT (Fifth Chamber) of 24 April 1997 in Case C-39/96 (reference for a preliminary ruling from the Arrondissementsrechtbank te Amsterdam): Koninklijke Vereeniging ter Bevordering van de Belangen des Boekhandels v. Free Record Shop BV, Free Record Shop Holding NV (1) (Article 85 of the EC Treaty - Article 5 of Council Regulation No 17 - Provisional validity of agreements pre-dating Regulation No 17 and notified to the Commission - Provisional validity of agreements amended after notification) (97/C 199/11)\\nJUDGMENT OF THE COURT of 22 April 1997 in Case C-395/95 P: Geotronics SA v. Commission of the European Communities (1) (Phare Programme - Restricted invitation to tender - Action for annulment - Admissibility - EEA Agreement - Product origin - Discrimination - Action for damages) (97/C 199/10)\\nJUDGMENT OF THE COURT of 22 April 1997 in Case C-310/95 (reference for a preliminary ruling from the Tariefcommissie): Road Air BV v. Inspecteur der Invoerrechten en Accijnzen (1) (Association of overseas countries and territories - Import into the Community of goods originating in a non-member country but in free circulation in an overseas country or territory - Article 227 (3) of the EC Treaty - Part Four of the EC Treaty (Articles 131 to 136a) - Council Decisions 86/283/EEC, 91/110/EEC and 91/482/EEC) (97/C 199/09)\\nJUDGMENT OF THE COURT of 22 April 1997 in Case C-180/95 (reference for a preliminary ruling from the Arbeitsgericht Hamburg): Nils Draehmpaehl v. Urania Immobilienservice oHG (1) (Social policy - Equal treatment for men and women - Directive 76/207/EEC - Right to reparation in the event of discrimination as regards access to employment - Choice of sanctions by the Member States - Setting of a ceiling for aggregate of compensation awards) (97/C 199/08)\\nJUDGMENT OF THE COURTice, Queen's Bench Division): The Queen v. Secretary of State for Social Security, ex parte: Eunice Sutton (1) (Directive 79/7/EEC - Equal treatment for men and women in matters of social security - Responsibility of a Member State for an infringement of Community law - Right to receive interest on arrears of social security benefits) (97/C 199/07)\\nJUDGMENT OF THE COURT (Sixth Chamber) of 17 April 1997 in Case C-351/95 (reference for a preliminary ruling from the Bayerisches Verwaltungsgericht Munchen): Selma Kadiman v. Freistaat Bayern (1) (EEC-Turkey Association Agreement - Decision of the Association Council - Free movement of workers - Member of a worker's family - Extension of residence permit - Conditions - Family unity - Legal residence for three years - Calculation in the event of interruptions) (97/C 199/06)\\nJUDGMENT OF THE COURT (Fourth Chamber) of 17 April 1997 in Joined Cases C-274/95, C-275/95 and C-276/95 (reference for a preliminary ruling from the Bundesfinanzhof): Ludwig Wunsche & Co. v. Hauptzollamt Hamburg-Jonas (1) (Common Customs Tariff - Combined nomenclature - Potato starch) (97/C 199/05)\\nJUDGMENT OF THE COURT (Sixth Chamber) of 17 April 1997 in Case C-147/95 (reference for a preliminary ruling from the Diikitiko Efetio Athinon): Dimosia Epicheirisi Ilectrismou (DEI) v. Evthimios Evrenopoulos (1) (Social policy - Men and women - Equal treatment - Applicability of Article 119 of the EC Treaty or Directive 79/7/EEC - Insurance scheme of a State electricity company - survivors' pensions - Protocol No 2 to the Treaty on European Union - Meaning of 'legal proceedings') (97/C 199/04)\\nJUDGMENT OF THE COURT (First Chamber) of 17 April 1997 in Case C-138/95 P: Campo Ebro Industrial SA, Levaand Cerestar Iberica SA v. Council of the European Union, supported by Commission of the European Communities (1) (Appeal - Sugar - Accession of the Kingdom of Spain - Alignment of sugar prices - Isoglucose production) (97/C 199/03)\\nJUDGMENT OF THE COURT (Sixth Chamber) of 17 April 1997 in Case C-90/95 P: Henri de Compte v. European Parliament (1) (Officials - Decision recognizing the existence of an occupational disease - Revocation of an administrative act - Legitimate expectations - Reasonable period - Appeal) (97/C 199/02)\\nJUDGMENT OF THE COURT (Sixth Chamber) of 17 April 1997 in Case C-15/95 (reference for a preliminary ruling from the Tribunal de Grande Instance, Morlaix): EARL de Kerlast v. Union Regionale de Cooperatives Agricoles (Unicopa) and Cooperative du Trieux (1) (Additional levy on milk - Reference quantity - Conditions governing transfer - Temporary transfer - Societe en participation formed between producers) (97/C 199/01) END OF DOCUMENT.\\n\""
            ]
          },
          "metadata": {
            "tags": []
          },
          "execution_count": 44
        }
      ]
    },
    {
      "cell_type": "code",
      "metadata": {
        "id": "RL7eq242Y4NV",
        "colab_type": "code",
        "colab": {}
      },
      "source": [
        "def display_Codes(df):\n",
        "    codes = df[\"codes\"].values  #Get the Codes from the dataframe\n",
        "    \n",
        "    #Convert the list of lists to a single list\n",
        "    code_list= []\n",
        "    for sublist in codes:\n",
        "        for item in sublist:\n",
        "            code_list.append(item)\n",
        "            \n",
        "    #Get unique codes from the list        \n",
        "    code_list_unique = np.array(code_list)\n",
        "    print(\"Unique number of codes: \", len(np.unique(code_list_unique)))\n",
        "    \n",
        "    \n",
        "    #Count the frequency of codes in the list\n",
        "    code_freq = nltk.FreqDist(code_list)\n",
        "    \n",
        "    code_freq_df = pd.DataFrame({'Code': list(code_freq.keys()), \n",
        "                              'Count': list(code_freq.values())})\n",
        "    \n",
        "    #Convert the count to a dataframe and plot codes with more than 50 counts\n",
        "    g = code_freq_df.nlargest(columns=\"Count\", n=50)\n",
        "    plt.figure(figsize=(12,15)) \n",
        "    ax = sns.barplot(data=g, x= \"Count\", y = \"Code\") \n",
        "    ax.set(ylabel = 'Count') \n",
        "    plt.show()"
      ],
      "execution_count": 0,
      "outputs": []
    },
    {
      "cell_type": "code",
      "metadata": {
        "id": "wkqTINZSY7Ps",
        "colab_type": "code",
        "outputId": "15979877-2644-4ad9-d4f7-fee6eb487568",
        "colab": {
          "base_uri": "https://localhost:8080/",
          "height": 894
        }
      },
      "source": [
        "display_Codes(df)"
      ],
      "execution_count": 0,
      "outputs": [
        {
          "output_type": "stream",
          "text": [
            "Unique number of codes:  96\n"
          ],
          "name": "stdout"
        },
        {
          "output_type": "display_data",
          "data": {
            "image/png": "[encoded data removed]",
            "text/plain": [
              "<Figure size 864x1080 with 1 Axes>"
            ]
          },
          "metadata": {
            "tags": [],
            "needs_background": "light"
          }
        }
      ]
    },
    {
      "cell_type": "code",
      "metadata": {
        "id": "Ru20KiiwZIRv",
        "colab_type": "code",
        "colab": {}
      },
      "source": [
        "def clean_text(text):\n",
        "    # remove backslash-apostrophe \n",
        "    text = re.sub(\"\\n'\", \"\", text) \n",
        "    # remove everything except alphabets \n",
        "    text = re.sub(\"[^a-zA-Z]\",\" \",text) \n",
        "    # remove whitespaces \n",
        "    text = ' '.join(text.split()) \n",
        "    # convert text to lowercase \n",
        "    text = text.lower() \n",
        "    \n",
        "    return text"
      ],
      "execution_count": 0,
      "outputs": []
    },
    {
      "cell_type": "code",
      "metadata": {
        "id": "tqd2P8K1ZJ-n",
        "colab_type": "code",
        "outputId": "ab167a9c-6dde-4bac-c7ee-1ba6f3dbc82d",
        "colab": {
          "base_uri": "https://localhost:8080/",
          "height": 85
        }
      },
      "source": [
        "nltk.download('stopwords')\n",
        "nltk.download('wordnet')\n",
        "stop_words = set(stopwords.words('english'))\n",
        "\n",
        "def remove_stopwords(text):\n",
        "    no_stopword_text = [w for w in text.split() if not w in stop_words]\n",
        "    return ' '.join(no_stopword_text)\n"
      ],
      "execution_count": 0,
      "outputs": [
        {
          "output_type": "stream",
          "text": [
            "[nltk_data] Downloading package stopwords to /root/nltk_data...\n",
            "[nltk_data]   Package stopwords is already up-to-date!\n",
            "[nltk_data] Downloading package wordnet to /root/nltk_data...\n",
            "[nltk_data]   Unzipping corpora/wordnet.zip.\n"
          ],
          "name": "stdout"
        }
      ]
    },
    {
      "cell_type": "code",
      "metadata": {
        "id": "CSu7m-RbZZI_",
        "colab_type": "code",
        "colab": {}
      },
      "source": [
        "lemmatizer = WordNetLemmatizer() \n",
        "\n",
        "def lemmatize(words):\n",
        "    lemmatized_text = [lemmatizer.lemmatize(t, pos='n') for t in words] # lemmatized nouns\n",
        "    return ''.join(lemmatized_text)"
      ],
      "execution_count": 0,
      "outputs": []
    },
    {
      "cell_type": "code",
      "metadata": {
        "id": "mZM_HET5ZqSw",
        "colab_type": "code",
        "colab": {}
      },
      "source": [
        "def implement_clean_text(df):\n",
        "    df['clean_text'] = df['text'].apply(lambda x: clean_text(x))\n",
        "    df['clean_text'] = df['clean_text'].apply(lambda x: remove_stopwords(x))\n",
        "    df['clean_text'] = df['clean_text'].apply(lambda x: lemmatize(x))\n",
        "    return df"
      ],
      "execution_count": 0,
      "outputs": []
    },
    {
      "cell_type": "code",
      "metadata": {
        "id": "D_sX0p9RZq_l",
        "colab_type": "code",
        "colab": {}
      },
      "source": [
        "df = implement_clean_text(df)"
      ],
      "execution_count": 0,
      "outputs": []
    },
    {
      "cell_type": "code",
      "metadata": {
        "id": "24ndPOZ8Z3J2",
        "colab_type": "code",
        "outputId": "7d201e6b-9aa5-410c-cad6-a79debd08055",
        "colab": {
          "base_uri": "https://localhost:8080/",
          "height": 54
        }
      },
      "source": [
        "#inspect column\n",
        "df.loc[1][\"clean_text\"]"
      ],
      "execution_count": 0,
      "outputs": [
        {
          "output_type": "execute_result",
          "data": {
            "text/plain": [
              "'note contents displayed reverse order printed journal removal register c removal register c removal register c removal register c action brought may david keeling office harmonization internal market trade marks designs case c action brought april champion stationery mfg co ltd sun kwong metal manufacturer co ltd us ring binder corporation council european union case c action brought april j bakkers council european union commission european communities case c action brought april j p w vrencken european community case c action brought april c de keijzer european community case c action brought april g van den berg european community case c action brought april eugenio branco lda commission european communities case c action brought april kesko oy commission european communities case c action brought april michael collins committee regions european union case c action brought april nuova sidercamuna spa liquidation commission european communities case c action brought april coca cola enterprises inc commission european communities case c action brought april sonasa sociedade nacional de seguranca lda commission european communities case c action brought april coca cola company commission european communities case c action brought april salomon sa commission european communities case c action brought april ferriera lamifer p commission european communities case c action brought april richie ryan court auditors case c action brought april paul keyaerts commission european communities case c action brought april pierre tomarchio court auditors european communities case c action brought april monsanto company commission european communities case c action brought april kneissl dachstein sportartikel ag commission european communities case c action brought april molkerei grossbraunshain gmbh bene nahrungsmittel gmbh commission european communities case c action brought april c succhi di frutta p commission european communities case c order court first instance second chamber may case automobiles peugeot sa v commission european communities competition action annulment objection inadmissibility c order court first instance third chamber march case x v european parliament officials action annulment prior administrative complaint objection admissibility c order court first instance may case automobiles peugeot sa v commission european communities competition action annulment objection inadmissibility c order president court first instance march case r camar r l v commission european communities organization common market bananas application interim measures request delivery import certificates c order court first instance fourth chamber extended composition march case arbeitsgemeinschaft deutscher luftfahrt unternehmen others v commission european communities action annulment contested decision withdrawn course proceedings need give decision c judgment court first instance may case vereniging van groothandelaren bloemkwekerijprodukten others v commission european communities competition closure procedure complaint absence response complainants within time limit notified compatibility article ec treaty fee levied suppliers concluded agreements relating delivery floricultural products undertakings established premises cooperative auction society compatibility article ec treaty exclusive purchase obligation accepted certain wholesalers reselling products retailers specific trading area forming part premises discrimination effect trade member states assessment reference body rules taken whole lack appreciable effect c judgment court first instance may joined cases florimex bv vereniging van groothandelaren bloemkwekerijprodukten v commission european communities competition decision rejecting complaint sent complainants lawyer postoffice box calculation time limit bringing action compatibility article regulation fee charged external suppliers floricultural products supplied wholesalers established premises cooperative society auctioneers statement reasons c ovr bc text oj c official journal contents oj c june page judgment court first instance may case guerin automobiles v commission european communities competition action damages inadmissibility c judgment court first instance may case agustin quijano v commission european communities officials sick leave medical certificate medical examination conclusions variance medical certificate c removal register c c removal register c c removal register c c removal register c c removal register c c removal register c c removal register c c removal register c c removal register joined cases c c c c c c removal register c c removal register c c removal register c c removal register c c removal register c c removal register c sa c removal register c c removal register c c removal register c c removal register c c removal register c c remova removal register c c removal register c c removal register c c removal register c c removal register c c action brought may commission european communities kingdom belgium case c c action brought may commission european communities portuguese republic case c c action brought may kingdom spain commission european communities case c c action brought may commission european communities grand duchy luxembourg case c c action brought may commission european communities kingdom belgium case c c action brought may commission european communities french republic case c c appeal brought may federation francaise des societes assurances ffsa union des societes etrangeres assurances usea groupe des assurances mutuelles agricoles groupama federation nationale des syndicats agents generaux assurances fnsaga federation francaise des courtiers assurance et de reassurances fca bureau international des producteurs assurances et de reassurances bipar judgment delivered february third chamber extended composition court first instance european communities case federation francaise des societes assurances ffsa union des societes etrangeres assurances usea groupe des assurances mutuelles agricoles groupama federation nationale des syndicats agents generaux assurances fnsaga federation francaise des courtiers assurance et de reassurances fca bureau international des producteurs assurances et de reassurances bipar commission e action brought may commission european communities hellenic republic case c c action brought may commission european communities sivu du plan eau de la vallee du lot sarl hydro realisations case c c action brought may commission european communities portuguese republic case c c action brought may commission european communities portuguese republic case c c action brought may commission european communities portuguese republic case c c reference preliminary ruling divisional court high court justice queen bench division order court march case queen secretary state defence ex parte terence perkins case c c action brought april commission european communities italian republic case c c reference preliminary ruling staatsgerichtshof des landes hessen order court april application review legislative provisions brought georg badeck members former members hessischer landtag interveners hessischer ministerprasident landesanwalt beim staatsgerichtshof des landes hessen case c c reference preliminary ruling commissione tributaria provinciale di milano sezione xii order court march case agas abbruzzi gas agas spa amministrazione tributaria case c c action brought april commission european communities hellenic republic case c c judgment court first chamber may case c reference preliminary ruling finanzgericht munchen bioforce gmbh v oberfinanzdirektion munchen common customs tariff heading echinacea medicament c judgment court may case c p textilwerke deggendorf gmbh twd v commission european communities state aid commission decisions suspending payment certain aids previous unlawful aid repaid c judgment court fourth chamber may case c p siemens sa v commission european communities appeal state aid general aid definition aid c ovr bc text oj c official journal contents oj c june page judgment court may case c reference preliminary ruling conseil etat du grand duche de luxembourg futura participations sa singer v administration des contributions article eec treaty freedom establishment companies taxation branch income apportionment income c judgment court fifth chamber may case c reference preliminary ruling finanzgericht hamburg moksel ag v hauptzollamt hamburg jonas agriculture export refunds cattle imported former german democratic republic federal republic germany transit procedure impact german reunification origin status goods free circulation c judgment court fifth chamber may joined cases c c c c references preliminary ruling french cour de cassation criminal proceedings jacques pistre others regulation eec protection geographical indications designations origin agricultural products foodstuffs articles ec treaty domestic legislation use description mountain agricultural products foodstuffs c judgment court fifth chamber april case c reference preliminary ruling arrondissementsrechtbank te amsterdam koninklijke vereeniging ter bevordering van de belangen des boekhandels v free record shop bv free record shop holding nv article ec treaty article council regulation provisional validity agreements pre dating regulation notified commission provisional validity agreements amended notification c judgment court april case c p geotronics sa v commission european communities phare programme restricted invitation tender action annulment admissibility eea agreement product origin discrimination action damages c judgment court april case c reference preliminary ruling tariefcommissie road air bv v inspecteur der invoerrechten en accijnzen association overseas countries territories import community goods originating non member country free circulation overseas country territory article ec treaty part four ec treaty articles council decisions eec eec eec c judgment court april case c reference preliminary ruling arbeitsgericht hamburg nils draehmpaehl v urania immobilienservice ohg social policy equal treatment men women directive eec right reparation event discrimination regards access employment choice sanctions member states setting ceiling aggregate compensation awards c judgment courtice queen bench division queen v secretary state social security ex parte eunice sutton directive eec equal treatment men women matters social security responsibility member state infringement community law right receive interest arrears social security benefits c judgment court sixth chamber april case c reference preliminary ruling bayerisches verwaltungsgericht munchen selma kadiman v freistaat bayern eec turkey association agreement decision association council free movement workers member worker family extension residence permit conditions family unity legal residence three years calculation event interruptions c judgment court fourth chamber april joined cases c c c reference preliminary ruling bundesfinanzhof ludwig wunsche co v hauptzollamt hamburg jonas common customs tariff combined nomenclature potato starch c judgment court sixth chamber april case c reference preliminary ruling diikitiko efetio athinon dimosia epicheirisi ilectrismou dei v evthimios evrenopoulos social policy men women equal treatment applicability article ec treaty directive eec insurance scheme state electricity company survivors pensions protocol treaty european union meaning legal proceedings c judgment court first chamber april case c p campo ebro industrial sa levaand cerestar iberica sa v council european union supported commission european communities appeal sugar accession kingdom spain alignment sugar prices isoglucose production c judgment court sixth chamber april case c p henri de compte v european parliament officials decision recognizing existence occupational disease revocation administrative act legitimate expectations reasonable period appeal c judgment court sixth chamber april case c reference preliminary ruling tribunal de grande instance morlaix earl de kerlast v union regionale de cooperatives agricoles unicopa cooperative du trieux additional levy milk reference quantity conditions governing transfer temporary transfer societe en participation formed producers c end document'"
            ]
          },
          "metadata": {
            "tags": []
          },
          "execution_count": 64
        }
      ]
    },
    {
      "cell_type": "code",
      "metadata": {
        "id": "RWpDQbQ0Z5IG",
        "colab_type": "code",
        "colab": {}
      },
      "source": [
        "def create_encoder(data, input_column=\"clean_text\", output_column=\"codes\", X_encoder_filename = 'X_encoder.pickle', Y_encoder_filename='Y_encoder.pickle'):\n",
        "    \n",
        "    #initialize tokenizer\n",
        "    tokenizer = Tokenizer()\n",
        "    \n",
        "    #Tokennize clean_text dataseries\n",
        "    X_token = (data[input_column].astype(\"str\"))\n",
        "    tokenizer.fit_on_texts(X_token)\n",
        "    \n",
        "    #Initialize multilabelbinarizer for encoding codes in one hot\n",
        "    multilabel_binarizer = MultiLabelBinarizer()\n",
        "    multilabel_binarizer.fit(data[output_column])\n",
        "    \n",
        "    #Save encoders to pickle\n",
        "    with open(X_encoder_filename, 'wb') as handle:\n",
        "        pickle.dump(tokenizer, handle)\n",
        "    with open(Y_encoder_filename, 'wb') as handle:\n",
        "        pickle.dump(multilabel_binarizer, handle)\n",
        "    \n",
        "    return tokenizer, multilabel_binarizer"
      ],
      "execution_count": 0,
      "outputs": []
    },
    {
      "cell_type": "code",
      "metadata": {
        "id": "KTqJ9_vtZ60V",
        "colab_type": "code",
        "colab": {}
      },
      "source": [
        "def tokenize_data(data,X_encoder, Y_encoder,input_column=\"clean_text\", output_column=\"codes\"):\n",
        "    #Convert cleaned text dataseries to token\n",
        "    X_raw= X_encoder.texts_to_sequences(df[input_column].astype(\"str\"))\n",
        "    #Pad text sequence to max of 1000 tokens. This was done so as most of the text had <1000 token\n",
        "    X_raw= np.array(pad_sequences(X_raw, maxlen=1000, padding= 'pre'))\n",
        "    \n",
        "    #transform code dataseries\n",
        "    y_raw = Y_encoder.transform(data[output_column])\n",
        "    \n",
        "    return X_raw, y_raw"
      ],
      "execution_count": 0,
      "outputs": []
    },
    {
      "cell_type": "code",
      "metadata": {
        "id": "SWIOPt40Z9Sw",
        "colab_type": "code",
        "colab": {}
      },
      "source": [
        "def load_encoder(X_encoder_filename = 'X_encoder.pickle', Y_encoder_filename='Y_encoder.pickle'):\n",
        "    with open (X_encoder_filename, 'rb') as handle:\n",
        "        X_encoder = pickle.load(handle)\n",
        "    \n",
        "    with open(Y_encoder_filename, 'rb') as handle:\n",
        "        Y_encoder = pickle.load(handle)\n",
        "    \n",
        "    return X_encoder, Y_encoder"
      ],
      "execution_count": 0,
      "outputs": []
    },
    {
      "cell_type": "code",
      "metadata": {
        "id": "CMlipKkDZ-qI",
        "colab_type": "code",
        "colab": {}
      },
      "source": [
        "use_preexisting_x_encoder = False\n",
        "use_preexisting_y_encoder = False"
      ],
      "execution_count": 0,
      "outputs": []
    },
    {
      "cell_type": "code",
      "metadata": {
        "id": "wA6BMGasaAtr",
        "colab_type": "code",
        "colab": {}
      },
      "source": [
        "if (use_preexisting_x_encoder and use_preexisting_y_encoder):\n",
        "    x_encoder, y_encoder = load_encoder()\n",
        "else:\n",
        "    x_encoder, y_encoder = create_encoder(data=df)"
      ],
      "execution_count": 0,
      "outputs": []
    },
    {
      "cell_type": "code",
      "metadata": {
        "id": "v2uPX6jxaCmi",
        "colab_type": "code",
        "colab": {}
      },
      "source": [
        "x_input, y_input = tokenize_data(df, x_encoder, y_encoder)"
      ],
      "execution_count": 0,
      "outputs": []
    },
    {
      "cell_type": "code",
      "metadata": {
        "id": "LBTIfH92aEkV",
        "colab_type": "code",
        "colab": {}
      },
      "source": [
        "X_train,X_valid, y_train, y_valid = train_test_split(x_input, y_input, test_size=0.2) "
      ],
      "execution_count": 0,
      "outputs": []
    },
    {
      "cell_type": "code",
      "metadata": {
        "id": "_LOPXQERaG7a",
        "colab_type": "code",
        "colab": {}
      },
      "source": [
        "class createDataset(Dataset):\n",
        "    def __init__(self, X,Y):\n",
        "        self.X = X\n",
        "        self.y=Y\n",
        "        \n",
        "    def __len__(self):\n",
        "        return len(self.y)\n",
        "    \n",
        "    def __getitem__(self, idx):\n",
        "        return  torch.from_numpy(self.X[idx][0]).long(), torch.from_numpy(self.y[idx]).long()"
      ],
      "execution_count": 0,
      "outputs": []
    },
    {
      "cell_type": "code",
      "metadata": {
        "id": "CC8iNRXIaItx",
        "colab_type": "code",
        "colab": {}
      },
      "source": [
        "train_ds = createDataset(X_train,y_train)\n",
        "valid_ds = createDataset(X_valid, y_valid)"
      ],
      "execution_count": 0,
      "outputs": []
    },
    {
      "cell_type": "code",
      "metadata": {
        "id": "s4VIc1OWaKNs",
        "colab_type": "code",
        "colab": {}
      },
      "source": [
        "train_loader = DataLoader(train_ds, batch_size = 32)\n",
        "valid_loader = DataLoader(valid_ds, batch_size=32)"
      ],
      "execution_count": 0,
      "outputs": []
    },
    {
      "cell_type": "code",
      "metadata": {
        "id": "zKZz4GJ3aZVY",
        "colab_type": "code",
        "outputId": "1b39ab21-12bc-415c-8990-8f0951536bd5",
        "colab": {
          "base_uri": "https://localhost:8080/",
          "height": 51
        }
      },
      "source": [
        "for (X_train, y_train) in train_loader:\n",
        "    print('X_train:', X_train.size(), 'type:', X_train.type())\n",
        "    print('y_train:', y_train.size(), 'type:', y_train.type())\n",
        "    break"
      ],
      "execution_count": 0,
      "outputs": [
        {
          "output_type": "stream",
          "text": [
            "X_train: torch.Size([100, 1678]) type: torch.LongTensor\n",
            "y_train: torch.Size([100, 96]) type: torch.LongTensor\n"
          ],
          "name": "stdout"
        }
      ]
    },
    {
      "cell_type": "code",
      "metadata": {
        "id": "7Ft8aORcaa4j",
        "colab_type": "code",
        "outputId": "cd223cc9-e188-48ca-c29c-944f93f6882f",
        "colab": {
          "base_uri": "https://localhost:8080/",
          "height": 34
        }
      },
      "source": [
        "if torch.cuda.is_available():\n",
        "    print('Using GPU!')\n",
        "    device = torch.device('cuda')\n",
        "else:\n",
        "    print('Using CPU')\n",
        "    device = torch.device('cpu')"
      ],
      "execution_count": 0,
      "outputs": [
        {
          "output_type": "stream",
          "text": [
            "Using GPU!\n"
          ],
          "name": "stdout"
        }
      ]
    },
    {
      "cell_type": "code",
      "metadata": {
        "id": "UloPpAm1aqtn",
        "colab_type": "code",
        "colab": {}
      },
      "source": [
        "class LSTM_Model_rnn(nn.Module):\n",
        "    def __init__(self, vocab_size, embedding_dim, hidden_dim,output_size):\n",
        "        super().__init__()\n",
        "        \n",
        "        self.embedding = nn.Embedding(vocab_size, embedding_dim,padding_idx=0)\n",
        "        self.rnn = nn.LSTM(embedding_dim,hidden_dim,bidirectional=True, batch_first=True)       \n",
        "        self.l1 = torch.nn.Linear(hidden_dim , 250)\n",
        "        self.l2 = torch.nn.Linear(250, output_size)\n",
        "\n",
        "\n",
        "    \n",
        "    def forward(self,x):\n",
        "        embedded = self.embedding(x)\n",
        "        _, (last_hidden,state) = self.rnn(embedded)\n",
        "        hidden_list = last_hidden[-1]\n",
        "        encoded2 = F.relu(self.l1(hidden_list))\n",
        "        output = torch.sigmoid(self.l2(encoded2))\n",
        "        return output"
      ],
      "execution_count": 0,
      "outputs": []
    },
    {
      "cell_type": "code",
      "metadata": {
        "id": "h44nYOXGaeZN",
        "colab_type": "code",
        "colab": {}
      },
      "source": [
        "total_words = len(x_encoder.word_index)+1\n",
        "\n",
        "model_rnn = LSTM_Model_rnn(total_words,100,100,y_raw.shape[1])\n",
        "optimizer_rnn = torch.optim.Adam(model_rnn.parameters(), lr=0.1)\n",
        "criterion_rnn = nn.MSELoss()"
      ],
      "execution_count": 0,
      "outputs": []
    },
    {
      "cell_type": "code",
      "metadata": {
        "id": "1m5uIn_Gas7l",
        "colab_type": "code",
        "outputId": "2d00b6c6-4adb-451e-a6a4-13cafd4e71e3",
        "colab": {
          "base_uri": "https://localhost:8080/",
          "height": 102
        }
      },
      "source": [
        "print(model)"
      ],
      "execution_count": 0,
      "outputs": [
        {
          "output_type": "stream",
          "text": [
            "LSTM_Model(\n",
            "  (embeddings): Embedding(26520, 20, padding_idx=0)\n",
            "  (lstm): LSTM(20, 20, batch_first=True)\n",
            "  (linear): Linear(in_features=20, out_features=96, bias=True)\n",
            ")\n"
          ],
          "name": "stdout"
        }
      ]
    },
    {
      "cell_type": "code",
      "metadata": {
        "id": "xCT68ra3g-nd",
        "colab_type": "code",
        "colab": {}
      },
      "source": [
        "def changedata(x):\n",
        "    return 1*(x>0.5)"
      ],
      "execution_count": 0,
      "outputs": []
    },
    {
      "cell_type": "code",
      "metadata": {
        "id": "13FjwSsahv3M",
        "colab_type": "code",
        "colab": {}
      },
      "source": [
        "model_rnn.to(device)"
      ],
      "execution_count": 0,
      "outputs": []
    },
    {
      "cell_type": "code",
      "metadata": {
        "id": "sbjtIicnauot",
        "colab_type": "code",
        "colab": {}
      },
      "source": [
        "def train_rnn(epoch,log_interval=100):\n",
        "\n",
        " \n",
        "    model_rnn.train()\n",
        "    for batch_idx, (data_rnn, target_rnn) in enumerate(train_loader):\n",
        "          \n",
        "        data_rnn= data_rnn.to(device)\n",
        "        target_rnn = target_rnn.to(device)\n",
        "        target_rnn= target_rnn.float()\n",
        "        data_rnn = data_rnn.long()\n",
        "        optimizer_rnn.zero_grad()\n",
        "        output_rnn = model_rnn(data_rnn)\n",
        "          \n",
        "        loss = criterion_rnn(output_rnn, target_rnn)\n",
        "          \n",
        "        loss.backward()\n",
        "\n",
        "        optimizer_rnn.step()     \n",
        "        #break\n",
        "        if batch_idx % log_interval == 0:\n",
        "            print('Train Epoch: {} [{}/{} ({:.1f}%)]\\tLoss: {:.6f}'.format(\n",
        "                epoch, batch_idx * len(data_rnn), len(train_loader.dataset),\n",
        "                100. * batch_idx / len(train_loader), loss.data.item()))"
      ],
      "execution_count": 0,
      "outputs": []
    },
    {
      "cell_type": "code",
      "metadata": {
        "id": "lA3XkgrAawgD",
        "colab_type": "code",
        "colab": {}
      },
      "source": [
        "def validate_rnn(loss_vector, f1_score_vector):\n",
        "    model_rnn.eval()\n",
        "\n",
        "    val_loss, val_f1 = 0, 0\n",
        "    for data, target in valid_loader:\n",
        "        data = data.to(device)\n",
        "        target = target.to(device)\n",
        "        target= target.float()\n",
        "        data = data.long()\n",
        "        output = model(data)\n",
        "        val_loss += criterion(output, target).data.item()\n",
        "        ouput= changedata(output)\n",
        "        val_f1 += f1_score(target, ouput, average='micro')\n",
        "        \n",
        "        \n",
        "        \n",
        "        \n",
        "    val_loss /= len(validation_loader)\n",
        "    loss_vector.append(val_loss)\n",
        "\n",
        "    f1_score = val_f1 / len(validation_loader.dataset)\n",
        "    f1_score_vector.append(f1_score)\n",
        "    \n",
        "    print('\\nValidation set: Average loss: {:.4f}, Average F1 Score: {}/{} ({:.0f}%)\\n'.format(\n",
        "        val_loss, correct, len(validation_loader.dataset), f1_score))"
      ],
      "execution_count": 0,
      "outputs": []
    },
    {
      "cell_type": "code",
      "metadata": {
        "id": "4xuZcrVvaz0t",
        "colab_type": "code",
        "outputId": "02ee5dcf-0cbe-42fe-a265-bf36f01c3358",
        "colab": {
          "base_uri": "https://localhost:8080/",
          "height": 374
        }
      },
      "source": [
        "%%time\n",
        "epochs = 1\n",
        "\n",
        "lossv, accv = [], []\n",
        "for epoch in range(1, epochs + 1):\n",
        "    train_rnn(epoch)\n",
        "    validate(lossv, accv)"
      ],
      "execution_count": 0,
      "outputs": [
        {
          "output_type": "error",
          "ename": "RuntimeError",
          "evalue": "ignored",
          "traceback": [
            "\u001b[0;31m---------------------------------------------------------------------------\u001b[0m",
            "\u001b[0;31mRuntimeError\u001b[0m                              Traceback (most recent call last)",
            "\u001b[0;32m<ipython-input-88-216dd05c924b>\u001b[0m in \u001b[0;36m<module>\u001b[0;34m()\u001b[0m\n\u001b[0;32m----> 1\u001b[0;31m \u001b[0mget_ipython\u001b[0m\u001b[0;34m(\u001b[0m\u001b[0;34m)\u001b[0m\u001b[0;34m.\u001b[0m\u001b[0mrun_cell_magic\u001b[0m\u001b[0;34m(\u001b[0m\u001b[0;34m'time'\u001b[0m\u001b[0;34m,\u001b[0m \u001b[0;34m''\u001b[0m\u001b[0;34m,\u001b[0m \u001b[0;34m'epochs = 5\\n\\nlossv, accv = [], []\\nfor epoch in range(1, epochs + 1):\\n    #train(epoch)\\n    print(validate(lossv, accv))'\u001b[0m\u001b[0;34m)\u001b[0m\u001b[0;34m\u001b[0m\u001b[0;34m\u001b[0m\u001b[0m\n\u001b[0m",
            "\u001b[0;32m/usr/local/lib/python3.6/dist-packages/IPython/core/interactiveshell.py\u001b[0m in \u001b[0;36mrun_cell_magic\u001b[0;34m(self, magic_name, line, cell)\u001b[0m\n\u001b[1;32m   2115\u001b[0m             \u001b[0mmagic_arg_s\u001b[0m \u001b[0;34m=\u001b[0m \u001b[0mself\u001b[0m\u001b[0;34m.\u001b[0m\u001b[0mvar_expand\u001b[0m\u001b[0;34m(\u001b[0m\u001b[0mline\u001b[0m\u001b[0;34m,\u001b[0m \u001b[0mstack_depth\u001b[0m\u001b[0;34m)\u001b[0m\u001b[0;34m\u001b[0m\u001b[0;34m\u001b[0m\u001b[0m\n\u001b[1;32m   2116\u001b[0m             \u001b[0;32mwith\u001b[0m \u001b[0mself\u001b[0m\u001b[0;34m.\u001b[0m\u001b[0mbuiltin_trap\u001b[0m\u001b[0;34m:\u001b[0m\u001b[0;34m\u001b[0m\u001b[0;34m\u001b[0m\u001b[0m\n\u001b[0;32m-> 2117\u001b[0;31m                 \u001b[0mresult\u001b[0m \u001b[0;34m=\u001b[0m \u001b[0mfn\u001b[0m\u001b[0;34m(\u001b[0m\u001b[0mmagic_arg_s\u001b[0m\u001b[0;34m,\u001b[0m \u001b[0mcell\u001b[0m\u001b[0;34m)\u001b[0m\u001b[0;34m\u001b[0m\u001b[0;34m\u001b[0m\u001b[0m\n\u001b[0m\u001b[1;32m   2118\u001b[0m             \u001b[0;32mreturn\u001b[0m \u001b[0mresult\u001b[0m\u001b[0;34m\u001b[0m\u001b[0;34m\u001b[0m\u001b[0m\n\u001b[1;32m   2119\u001b[0m \u001b[0;34m\u001b[0m\u001b[0m\n",
            "\u001b[0;32m<decorator-gen-60>\u001b[0m in \u001b[0;36mtime\u001b[0;34m(self, line, cell, local_ns)\u001b[0m\n",
            "\u001b[0;32m/usr/local/lib/python3.6/dist-packages/IPython/core/magic.py\u001b[0m in \u001b[0;36m<lambda>\u001b[0;34m(f, *a, **k)\u001b[0m\n\u001b[1;32m    186\u001b[0m     \u001b[0;31m# but it's overkill for just that one bit of state.\u001b[0m\u001b[0;34m\u001b[0m\u001b[0;34m\u001b[0m\u001b[0;34m\u001b[0m\u001b[0m\n\u001b[1;32m    187\u001b[0m     \u001b[0;32mdef\u001b[0m \u001b[0mmagic_deco\u001b[0m\u001b[0;34m(\u001b[0m\u001b[0marg\u001b[0m\u001b[0;34m)\u001b[0m\u001b[0;34m:\u001b[0m\u001b[0;34m\u001b[0m\u001b[0;34m\u001b[0m\u001b[0m\n\u001b[0;32m--> 188\u001b[0;31m         \u001b[0mcall\u001b[0m \u001b[0;34m=\u001b[0m \u001b[0;32mlambda\u001b[0m \u001b[0mf\u001b[0m\u001b[0;34m,\u001b[0m \u001b[0;34m*\u001b[0m\u001b[0ma\u001b[0m\u001b[0;34m,\u001b[0m \u001b[0;34m**\u001b[0m\u001b[0mk\u001b[0m\u001b[0;34m:\u001b[0m \u001b[0mf\u001b[0m\u001b[0;34m(\u001b[0m\u001b[0;34m*\u001b[0m\u001b[0ma\u001b[0m\u001b[0;34m,\u001b[0m \u001b[0;34m**\u001b[0m\u001b[0mk\u001b[0m\u001b[0;34m)\u001b[0m\u001b[0;34m\u001b[0m\u001b[0;34m\u001b[0m\u001b[0m\n\u001b[0m\u001b[1;32m    189\u001b[0m \u001b[0;34m\u001b[0m\u001b[0m\n\u001b[1;32m    190\u001b[0m         \u001b[0;32mif\u001b[0m \u001b[0mcallable\u001b[0m\u001b[0;34m(\u001b[0m\u001b[0marg\u001b[0m\u001b[0;34m)\u001b[0m\u001b[0;34m:\u001b[0m\u001b[0;34m\u001b[0m\u001b[0;34m\u001b[0m\u001b[0m\n",
            "\u001b[0;32m/usr/local/lib/python3.6/dist-packages/IPython/core/magics/execution.py\u001b[0m in \u001b[0;36mtime\u001b[0;34m(self, line, cell, local_ns)\u001b[0m\n\u001b[1;32m   1191\u001b[0m         \u001b[0;32melse\u001b[0m\u001b[0;34m:\u001b[0m\u001b[0;34m\u001b[0m\u001b[0;34m\u001b[0m\u001b[0m\n\u001b[1;32m   1192\u001b[0m             \u001b[0mst\u001b[0m \u001b[0;34m=\u001b[0m \u001b[0mclock2\u001b[0m\u001b[0;34m(\u001b[0m\u001b[0;34m)\u001b[0m\u001b[0;34m\u001b[0m\u001b[0;34m\u001b[0m\u001b[0m\n\u001b[0;32m-> 1193\u001b[0;31m             \u001b[0mexec\u001b[0m\u001b[0;34m(\u001b[0m\u001b[0mcode\u001b[0m\u001b[0;34m,\u001b[0m \u001b[0mglob\u001b[0m\u001b[0;34m,\u001b[0m \u001b[0mlocal_ns\u001b[0m\u001b[0;34m)\u001b[0m\u001b[0;34m\u001b[0m\u001b[0;34m\u001b[0m\u001b[0m\n\u001b[0m\u001b[1;32m   1194\u001b[0m             \u001b[0mend\u001b[0m \u001b[0;34m=\u001b[0m \u001b[0mclock2\u001b[0m\u001b[0;34m(\u001b[0m\u001b[0;34m)\u001b[0m\u001b[0;34m\u001b[0m\u001b[0;34m\u001b[0m\u001b[0m\n\u001b[1;32m   1195\u001b[0m             \u001b[0mout\u001b[0m \u001b[0;34m=\u001b[0m \u001b[0;32mNone\u001b[0m\u001b[0;34m\u001b[0m\u001b[0;34m\u001b[0m\u001b[0m\n",
            "\u001b[0;32m<timed exec>\u001b[0m in \u001b[0;36m<module>\u001b[0;34m()\u001b[0m\n",
            "\u001b[0;32m<ipython-input-87-cec9d34986d0>\u001b[0m in \u001b[0;36mvalidate\u001b[0;34m(loss_vector, accuracy_vector)\u001b[0m\n\u001b[1;32m     11\u001b[0m             \u001b[0mtarget\u001b[0m\u001b[0;34m=\u001b[0m \u001b[0mtarget\u001b[0m\u001b[0;34m.\u001b[0m\u001b[0mfloat\u001b[0m\u001b[0;34m(\u001b[0m\u001b[0;34m)\u001b[0m\u001b[0;34m\u001b[0m\u001b[0;34m\u001b[0m\u001b[0m\n\u001b[1;32m     12\u001b[0m             \u001b[0mdata\u001b[0m \u001b[0;34m=\u001b[0m \u001b[0mdata\u001b[0m\u001b[0;34m.\u001b[0m\u001b[0mlong\u001b[0m\u001b[0;34m(\u001b[0m\u001b[0;34m)\u001b[0m\u001b[0;34m\u001b[0m\u001b[0;34m\u001b[0m\u001b[0m\n\u001b[0;32m---> 13\u001b[0;31m             \u001b[0moutput\u001b[0m \u001b[0;34m=\u001b[0m \u001b[0mmodel\u001b[0m\u001b[0;34m(\u001b[0m\u001b[0mdata\u001b[0m\u001b[0;34m)\u001b[0m\u001b[0;34m\u001b[0m\u001b[0;34m\u001b[0m\u001b[0m\n\u001b[0m\u001b[1;32m     14\u001b[0m             \u001b[0;31m#print(output.data[0])\u001b[0m\u001b[0;34m\u001b[0m\u001b[0;34m\u001b[0m\u001b[0;34m\u001b[0m\u001b[0m\n\u001b[1;32m     15\u001b[0m             \u001b[0mval_loss\u001b[0m \u001b[0;34m+=\u001b[0m \u001b[0mcriterion\u001b[0m\u001b[0;34m(\u001b[0m\u001b[0moutput\u001b[0m\u001b[0;34m,\u001b[0m \u001b[0mtarget\u001b[0m\u001b[0;34m)\u001b[0m\u001b[0;34m.\u001b[0m\u001b[0mdata\u001b[0m\u001b[0;34m.\u001b[0m\u001b[0mitem\u001b[0m\u001b[0;34m(\u001b[0m\u001b[0;34m)\u001b[0m\u001b[0;34m\u001b[0m\u001b[0;34m\u001b[0m\u001b[0m\n",
            "\u001b[0;32m/usr/local/lib/python3.6/dist-packages/torch/nn/modules/module.py\u001b[0m in \u001b[0;36m__call__\u001b[0;34m(self, *input, **kwargs)\u001b[0m\n\u001b[1;32m    548\u001b[0m             \u001b[0mresult\u001b[0m \u001b[0;34m=\u001b[0m \u001b[0mself\u001b[0m\u001b[0;34m.\u001b[0m\u001b[0m_slow_forward\u001b[0m\u001b[0;34m(\u001b[0m\u001b[0;34m*\u001b[0m\u001b[0minput\u001b[0m\u001b[0;34m,\u001b[0m \u001b[0;34m**\u001b[0m\u001b[0mkwargs\u001b[0m\u001b[0;34m)\u001b[0m\u001b[0;34m\u001b[0m\u001b[0;34m\u001b[0m\u001b[0m\n\u001b[1;32m    549\u001b[0m         \u001b[0;32melse\u001b[0m\u001b[0;34m:\u001b[0m\u001b[0;34m\u001b[0m\u001b[0;34m\u001b[0m\u001b[0m\n\u001b[0;32m--> 550\u001b[0;31m             \u001b[0mresult\u001b[0m \u001b[0;34m=\u001b[0m \u001b[0mself\u001b[0m\u001b[0;34m.\u001b[0m\u001b[0mforward\u001b[0m\u001b[0;34m(\u001b[0m\u001b[0;34m*\u001b[0m\u001b[0minput\u001b[0m\u001b[0;34m,\u001b[0m \u001b[0;34m**\u001b[0m\u001b[0mkwargs\u001b[0m\u001b[0;34m)\u001b[0m\u001b[0;34m\u001b[0m\u001b[0;34m\u001b[0m\u001b[0m\n\u001b[0m\u001b[1;32m    551\u001b[0m         \u001b[0;32mfor\u001b[0m \u001b[0mhook\u001b[0m \u001b[0;32min\u001b[0m \u001b[0mself\u001b[0m\u001b[0;34m.\u001b[0m\u001b[0m_forward_hooks\u001b[0m\u001b[0;34m.\u001b[0m\u001b[0mvalues\u001b[0m\u001b[0;34m(\u001b[0m\u001b[0;34m)\u001b[0m\u001b[0;34m:\u001b[0m\u001b[0;34m\u001b[0m\u001b[0;34m\u001b[0m\u001b[0m\n\u001b[1;32m    552\u001b[0m             \u001b[0mhook_result\u001b[0m \u001b[0;34m=\u001b[0m \u001b[0mhook\u001b[0m\u001b[0;34m(\u001b[0m\u001b[0mself\u001b[0m\u001b[0;34m,\u001b[0m \u001b[0minput\u001b[0m\u001b[0;34m,\u001b[0m \u001b[0mresult\u001b[0m\u001b[0;34m)\u001b[0m\u001b[0;34m\u001b[0m\u001b[0;34m\u001b[0m\u001b[0m\n",
            "\u001b[0;32m<ipython-input-83-455dd1af76d7>\u001b[0m in \u001b[0;36mforward\u001b[0;34m(self, x)\u001b[0m\n\u001b[1;32m      8\u001b[0m \u001b[0;34m\u001b[0m\u001b[0m\n\u001b[1;32m      9\u001b[0m     \u001b[0;32mdef\u001b[0m \u001b[0mforward\u001b[0m\u001b[0;34m(\u001b[0m\u001b[0mself\u001b[0m\u001b[0;34m,\u001b[0m\u001b[0mx\u001b[0m\u001b[0;34m)\u001b[0m\u001b[0;34m:\u001b[0m\u001b[0;34m\u001b[0m\u001b[0;34m\u001b[0m\u001b[0m\n\u001b[0;32m---> 10\u001b[0;31m         \u001b[0mx\u001b[0m\u001b[0;34m=\u001b[0m \u001b[0mself\u001b[0m\u001b[0;34m.\u001b[0m\u001b[0membeddings\u001b[0m\u001b[0;34m(\u001b[0m\u001b[0mx\u001b[0m\u001b[0;34m)\u001b[0m\u001b[0;34m\u001b[0m\u001b[0;34m\u001b[0m\u001b[0m\n\u001b[0m\u001b[1;32m     11\u001b[0m         \u001b[0mlstm_output\u001b[0m\u001b[0;34m,\u001b[0m \u001b[0;34m(\u001b[0m\u001b[0mht\u001b[0m\u001b[0;34m,\u001b[0m\u001b[0mstates\u001b[0m\u001b[0;34m)\u001b[0m \u001b[0;34m=\u001b[0m \u001b[0mself\u001b[0m\u001b[0;34m.\u001b[0m\u001b[0mlstm\u001b[0m\u001b[0;34m(\u001b[0m\u001b[0mx\u001b[0m\u001b[0;34m)\u001b[0m\u001b[0;34m\u001b[0m\u001b[0;34m\u001b[0m\u001b[0m\n\u001b[1;32m     12\u001b[0m         \u001b[0moutput\u001b[0m \u001b[0;34m=\u001b[0m \u001b[0mtorch\u001b[0m\u001b[0;34m.\u001b[0m\u001b[0msigmoid\u001b[0m\u001b[0;34m(\u001b[0m\u001b[0mself\u001b[0m\u001b[0;34m.\u001b[0m\u001b[0mlinear\u001b[0m\u001b[0;34m(\u001b[0m\u001b[0mht\u001b[0m\u001b[0;34m[\u001b[0m\u001b[0;34m-\u001b[0m\u001b[0;36m1\u001b[0m\u001b[0;34m]\u001b[0m\u001b[0;34m)\u001b[0m\u001b[0;34m)\u001b[0m\u001b[0;34m\u001b[0m\u001b[0;34m\u001b[0m\u001b[0m\n",
            "\u001b[0;32m/usr/local/lib/python3.6/dist-packages/torch/nn/modules/module.py\u001b[0m in \u001b[0;36m__call__\u001b[0;34m(self, *input, **kwargs)\u001b[0m\n\u001b[1;32m    548\u001b[0m             \u001b[0mresult\u001b[0m \u001b[0;34m=\u001b[0m \u001b[0mself\u001b[0m\u001b[0;34m.\u001b[0m\u001b[0m_slow_forward\u001b[0m\u001b[0;34m(\u001b[0m\u001b[0;34m*\u001b[0m\u001b[0minput\u001b[0m\u001b[0;34m,\u001b[0m \u001b[0;34m**\u001b[0m\u001b[0mkwargs\u001b[0m\u001b[0;34m)\u001b[0m\u001b[0;34m\u001b[0m\u001b[0;34m\u001b[0m\u001b[0m\n\u001b[1;32m    549\u001b[0m         \u001b[0;32melse\u001b[0m\u001b[0;34m:\u001b[0m\u001b[0;34m\u001b[0m\u001b[0;34m\u001b[0m\u001b[0m\n\u001b[0;32m--> 550\u001b[0;31m             \u001b[0mresult\u001b[0m \u001b[0;34m=\u001b[0m \u001b[0mself\u001b[0m\u001b[0;34m.\u001b[0m\u001b[0mforward\u001b[0m\u001b[0;34m(\u001b[0m\u001b[0;34m*\u001b[0m\u001b[0minput\u001b[0m\u001b[0;34m,\u001b[0m \u001b[0;34m**\u001b[0m\u001b[0mkwargs\u001b[0m\u001b[0;34m)\u001b[0m\u001b[0;34m\u001b[0m\u001b[0;34m\u001b[0m\u001b[0m\n\u001b[0m\u001b[1;32m    551\u001b[0m         \u001b[0;32mfor\u001b[0m \u001b[0mhook\u001b[0m \u001b[0;32min\u001b[0m \u001b[0mself\u001b[0m\u001b[0;34m.\u001b[0m\u001b[0m_forward_hooks\u001b[0m\u001b[0;34m.\u001b[0m\u001b[0mvalues\u001b[0m\u001b[0;34m(\u001b[0m\u001b[0;34m)\u001b[0m\u001b[0;34m:\u001b[0m\u001b[0;34m\u001b[0m\u001b[0;34m\u001b[0m\u001b[0m\n\u001b[1;32m    552\u001b[0m             \u001b[0mhook_result\u001b[0m \u001b[0;34m=\u001b[0m \u001b[0mhook\u001b[0m\u001b[0;34m(\u001b[0m\u001b[0mself\u001b[0m\u001b[0;34m,\u001b[0m \u001b[0minput\u001b[0m\u001b[0;34m,\u001b[0m \u001b[0mresult\u001b[0m\u001b[0;34m)\u001b[0m\u001b[0;34m\u001b[0m\u001b[0;34m\u001b[0m\u001b[0m\n",
            "\u001b[0;32m/usr/local/lib/python3.6/dist-packages/torch/nn/modules/sparse.py\u001b[0m in \u001b[0;36mforward\u001b[0;34m(self, input)\u001b[0m\n\u001b[1;32m    112\u001b[0m         return F.embedding(\n\u001b[1;32m    113\u001b[0m             \u001b[0minput\u001b[0m\u001b[0;34m,\u001b[0m \u001b[0mself\u001b[0m\u001b[0;34m.\u001b[0m\u001b[0mweight\u001b[0m\u001b[0;34m,\u001b[0m \u001b[0mself\u001b[0m\u001b[0;34m.\u001b[0m\u001b[0mpadding_idx\u001b[0m\u001b[0;34m,\u001b[0m \u001b[0mself\u001b[0m\u001b[0;34m.\u001b[0m\u001b[0mmax_norm\u001b[0m\u001b[0;34m,\u001b[0m\u001b[0;34m\u001b[0m\u001b[0;34m\u001b[0m\u001b[0m\n\u001b[0;32m--> 114\u001b[0;31m             self.norm_type, self.scale_grad_by_freq, self.sparse)\n\u001b[0m\u001b[1;32m    115\u001b[0m \u001b[0;34m\u001b[0m\u001b[0m\n\u001b[1;32m    116\u001b[0m     \u001b[0;32mdef\u001b[0m \u001b[0mextra_repr\u001b[0m\u001b[0;34m(\u001b[0m\u001b[0mself\u001b[0m\u001b[0;34m)\u001b[0m\u001b[0;34m:\u001b[0m\u001b[0;34m\u001b[0m\u001b[0;34m\u001b[0m\u001b[0m\n",
            "\u001b[0;32m/usr/local/lib/python3.6/dist-packages/torch/nn/functional.py\u001b[0m in \u001b[0;36membedding\u001b[0;34m(input, weight, padding_idx, max_norm, norm_type, scale_grad_by_freq, sparse)\u001b[0m\n\u001b[1;32m   1722\u001b[0m         \u001b[0;31m# remove once script supports set_grad_enabled\u001b[0m\u001b[0;34m\u001b[0m\u001b[0;34m\u001b[0m\u001b[0;34m\u001b[0m\u001b[0m\n\u001b[1;32m   1723\u001b[0m         \u001b[0m_no_grad_embedding_renorm_\u001b[0m\u001b[0;34m(\u001b[0m\u001b[0mweight\u001b[0m\u001b[0;34m,\u001b[0m \u001b[0minput\u001b[0m\u001b[0;34m,\u001b[0m \u001b[0mmax_norm\u001b[0m\u001b[0;34m,\u001b[0m \u001b[0mnorm_type\u001b[0m\u001b[0;34m)\u001b[0m\u001b[0;34m\u001b[0m\u001b[0;34m\u001b[0m\u001b[0m\n\u001b[0;32m-> 1724\u001b[0;31m     \u001b[0;32mreturn\u001b[0m \u001b[0mtorch\u001b[0m\u001b[0;34m.\u001b[0m\u001b[0membedding\u001b[0m\u001b[0;34m(\u001b[0m\u001b[0mweight\u001b[0m\u001b[0;34m,\u001b[0m \u001b[0minput\u001b[0m\u001b[0;34m,\u001b[0m \u001b[0mpadding_idx\u001b[0m\u001b[0;34m,\u001b[0m \u001b[0mscale_grad_by_freq\u001b[0m\u001b[0;34m,\u001b[0m \u001b[0msparse\u001b[0m\u001b[0;34m)\u001b[0m\u001b[0;34m\u001b[0m\u001b[0;34m\u001b[0m\u001b[0m\n\u001b[0m\u001b[1;32m   1725\u001b[0m \u001b[0;34m\u001b[0m\u001b[0m\n\u001b[1;32m   1726\u001b[0m \u001b[0;34m\u001b[0m\u001b[0m\n",
            "\u001b[0;31mRuntimeError\u001b[0m: Expected object of device type cuda but got device type cpu for argument #1 'self' in call to _th_index_select"
          ]
        }
      ]
    },
    {
      "cell_type": "code",
      "metadata": {
        "id": "NPnbhLwDh6j4",
        "colab_type": "code",
        "colab": {}
      },
      "source": [
        "data = torch.from_numpy(X_raw[20].reshape(1,1000)).long().to(device)"
      ],
      "execution_count": 0,
      "outputs": []
    },
    {
      "cell_type": "code",
      "metadata": {
        "id": "6MYON9Rkh8-j",
        "colab_type": "code",
        "colab": {}
      },
      "source": [
        "output = model_rnn(data)"
      ],
      "execution_count": 0,
      "outputs": []
    },
    {
      "cell_type": "code",
      "metadata": {
        "id": "4yFSqqE4h_hV",
        "colab_type": "code",
        "colab": {}
      },
      "source": [
        "multilabel_binarizer.inverse_transform(changedata(output).cpu().detach().numpy())"
      ],
      "execution_count": 0,
      "outputs": []
    },
    {
      "cell_type": "code",
      "metadata": {
        "id": "xi7kVf2SiC3c",
        "colab_type": "code",
        "colab": {}
      },
      "source": [
        "multilabel_binarizer.inverse_transform(y_raw[20].reshape(1,103))"
      ],
      "execution_count": 0,
      "outputs": []
    },
    {
      "cell_type": "markdown",
      "metadata": {
        "id": "6NdnH0WLa4I1",
        "colab_type": "text"
      },
      "source": [
        "## Save your model\n",
        "\n",
        "It might be useful to save your model if you want to continue your work later, or use it for inference later."
      ]
    },
    {
      "cell_type": "code",
      "metadata": {
        "id": "KPZ98HN5a3QV",
        "colab_type": "code",
        "colab": {}
      },
      "source": [
        "torch.save(model.state_dict(), 'model.pkl')"
      ],
      "execution_count": 0,
      "outputs": []
    },
    {
      "cell_type": "markdown",
      "metadata": {
        "id": "IxOo1yfba-Wz",
        "colab_type": "text"
      },
      "source": [
        "The model file should now be visible in the \"Home\" screen of the jupyter notebooks interface.  There you should be able to select it and press \"download\".\n",
        "\n",
        "## Download test set\n",
        "\n",
        "The testset will be made available during the last week before the deadline and can be downloaded in the same way as the training set.\n",
        "\n",
        "## Predict for test set\n",
        "\n",
        "You will be asked to return your predictions a separate test set.  These should be returned as a matrix with one row for each test article.  Each row contains a binary prediction for each label, 1 if it's present in the image, and 0 if not. The order of the labels is the order of the label (topic) codes.\n",
        "\n",
        "An example row could like like this if your system predicts the presense of the second and fourth topic:\n",
        "\n",
        "    0 1 0 1 0 0 0 0 0 0 0 0 0 0 ...\n",
        "    \n",
        "If you have the matrix prepared in `y` you can use the following function to save it to a text file."
      ]
    },
    {
      "cell_type": "markdown",
      "metadata": {
        "id": "R4tAHn-RbBUp",
        "colab_type": "text"
      },
      "source": [
        "np.savetxt('results.txt', y, fmt='%d')"
      ]
    },
    {
      "cell_type": "code",
      "metadata": {
        "id": "l1aoAjAea-5C",
        "colab_type": "code",
        "colab": {}
      },
      "source": [
        ""
      ],
      "execution_count": 0,
      "outputs": []
    }
  ]
}